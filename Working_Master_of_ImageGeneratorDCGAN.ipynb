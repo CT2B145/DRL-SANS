{
  "nbformat": 4,
  "nbformat_minor": 0,
  "metadata": {
    "kernelspec": {
      "name": "python3",
      "display_name": "Python 3"
    },
    "language_info": {
      "codemirror_mode": {
        "name": "ipython",
        "version": 3
      },
      "file_extension": ".py",
      "mimetype": "text/x-python",
      "name": "python",
      "nbconvert_exporter": "python",
      "pygments_lexer": "ipython3",
      "version": "3.7.3"
    },
    "colab": {
      "name": "Working Master of ImageGeneratorDCGAN.ipynb",
      "provenance": [],
      "collapsed_sections": [],
      "include_colab_link": true
    },
    "accelerator": "GPU"
  },
  "cells": [
    {
      "cell_type": "markdown",
      "metadata": {
        "id": "view-in-github",
        "colab_type": "text"
      },
      "source": [
        "<a href=\"https://colab.research.google.com/github/CT2B145/DRL-SANS/blob/master/Working_Master_of_ImageGeneratorDCGAN.ipynb\" target=\"_parent\"><img src=\"https://colab.research.google.com/assets/colab-badge.svg\" alt=\"Open In Colab\"/></a>"
      ]
    },
    {
      "cell_type": "code",
      "metadata": {
        "id": "RFUO-9ZLR_fP",
        "colab_type": "code",
        "colab": {}
      },
      "source": [
        "#load our data set here"
      ],
      "execution_count": 0,
      "outputs": []
    },
    {
      "cell_type": "code",
      "metadata": {
        "colab_type": "code",
        "outputId": "319d95c0-e559-4e6e-9828-711c69b357dc",
        "id": "eGqvbydEWPvy",
        "colab": {
          "base_uri": "https://localhost:8080/",
          "height": 68
        }
      },
      "source": [
        "pip install -U google-api-python-client oauth2clien"
      ],
      "execution_count": 0,
      "outputs": [
        {
          "output_type": "stream",
          "text": [
            "Requirement already up-to-date: google-api-python-client in /usr/local/lib/python3.6/dist-packages (1.7.11)\n",
            "\u001b[31mERROR: Could not find a version that satisfies the requirement oauth2clien (from versions: none)\u001b[0m\n",
            "\u001b[31mERROR: No matching distribution found for oauth2clien\u001b[0m\n"
          ],
          "name": "stdout"
        }
      ]
    },
    {
      "cell_type": "code",
      "metadata": {
        "id": "XFMC3lUIgLNV",
        "colab_type": "code",
        "outputId": "5f0825b8-f9d4-44bc-d9a1-2a1985815ba9",
        "colab": {
          "base_uri": "https://localhost:8080/",
          "height": 54
        }
      },
      "source": [
        "from google.colab import drive\n",
        "drive.mount('/content/gdrive')"
      ],
      "execution_count": 0,
      "outputs": [
        {
          "output_type": "stream",
          "text": [
            "Drive already mounted at /content/gdrive; to attempt to forcibly remount, call drive.mount(\"/content/gdrive\", force_remount=True).\n"
          ],
          "name": "stdout"
        }
      ]
    },
    {
      "cell_type": "code",
      "metadata": {
        "id": "1mCUMezS_nbR",
        "colab_type": "code",
        "outputId": "1e0e7700-ff69-4388-f6b7-dffc24125d08",
        "colab": {
          "base_uri": "https://localhost:8080/",
          "height": 680
        }
      },
      "source": [
        "pip install -U  fastai"
      ],
      "execution_count": 0,
      "outputs": [
        {
          "output_type": "stream",
          "text": [
            "Requirement already up-to-date: fastai in /usr/local/lib/python3.6/dist-packages (1.0.59)\n",
            "Requirement already satisfied, skipping upgrade: beautifulsoup4 in /usr/local/lib/python3.6/dist-packages (from fastai) (4.6.3)\n",
            "Requirement already satisfied, skipping upgrade: fastprogress>=0.1.19 in /usr/local/lib/python3.6/dist-packages (from fastai) (0.1.21)\n",
            "Requirement already satisfied, skipping upgrade: torch>=1.0.0 in /usr/local/lib/python3.6/dist-packages (from fastai) (1.3.1)\n",
            "Requirement already satisfied, skipping upgrade: spacy>=2.0.18 in /usr/local/lib/python3.6/dist-packages (from fastai) (2.1.9)\n",
            "Requirement already satisfied, skipping upgrade: pandas in /usr/local/lib/python3.6/dist-packages (from fastai) (0.25.3)\n",
            "Requirement already satisfied, skipping upgrade: nvidia-ml-py3 in /usr/local/lib/python3.6/dist-packages (from fastai) (7.352.0)\n",
            "Requirement already satisfied, skipping upgrade: pyyaml in /usr/local/lib/python3.6/dist-packages (from fastai) (3.13)\n",
            "Requirement already satisfied, skipping upgrade: scipy in /usr/local/lib/python3.6/dist-packages (from fastai) (1.3.2)\n",
            "Requirement already satisfied, skipping upgrade: numexpr in /usr/local/lib/python3.6/dist-packages (from fastai) (2.7.0)\n",
            "Requirement already satisfied, skipping upgrade: requests in /usr/local/lib/python3.6/dist-packages (from fastai) (2.21.0)\n",
            "Requirement already satisfied, skipping upgrade: torchvision in /usr/local/lib/python3.6/dist-packages (from fastai) (0.4.2)\n",
            "Requirement already satisfied, skipping upgrade: bottleneck in /usr/local/lib/python3.6/dist-packages (from fastai) (1.3.0)\n",
            "Requirement already satisfied, skipping upgrade: numpy>=1.15 in /usr/local/lib/python3.6/dist-packages (from fastai) (1.17.4)\n",
            "Requirement already satisfied, skipping upgrade: matplotlib in /usr/local/lib/python3.6/dist-packages (from fastai) (3.1.1)\n",
            "Requirement already satisfied, skipping upgrade: packaging in /usr/local/lib/python3.6/dist-packages (from fastai) (19.2)\n",
            "Requirement already satisfied, skipping upgrade: Pillow in /usr/local/lib/python3.6/dist-packages (from fastai) (4.3.0)\n",
            "Requirement already satisfied, skipping upgrade: dataclasses; python_version < \"3.7\" in /usr/local/lib/python3.6/dist-packages (from fastai) (0.7)\n",
            "Requirement already satisfied, skipping upgrade: plac<1.0.0,>=0.9.6 in /usr/local/lib/python3.6/dist-packages (from spacy>=2.0.18->fastai) (0.9.6)\n",
            "Requirement already satisfied, skipping upgrade: preshed<2.1.0,>=2.0.1 in /usr/local/lib/python3.6/dist-packages (from spacy>=2.0.18->fastai) (2.0.1)\n",
            "Requirement already satisfied, skipping upgrade: srsly<1.1.0,>=0.0.6 in /usr/local/lib/python3.6/dist-packages (from spacy>=2.0.18->fastai) (0.2.0)\n",
            "Requirement already satisfied, skipping upgrade: wasabi<1.1.0,>=0.2.0 in /usr/local/lib/python3.6/dist-packages (from spacy>=2.0.18->fastai) (0.4.0)\n",
            "Requirement already satisfied, skipping upgrade: murmurhash<1.1.0,>=0.28.0 in /usr/local/lib/python3.6/dist-packages (from spacy>=2.0.18->fastai) (1.0.2)\n",
            "Requirement already satisfied, skipping upgrade: blis<0.3.0,>=0.2.2 in /usr/local/lib/python3.6/dist-packages (from spacy>=2.0.18->fastai) (0.2.4)\n",
            "Requirement already satisfied, skipping upgrade: thinc<7.1.0,>=7.0.8 in /usr/local/lib/python3.6/dist-packages (from spacy>=2.0.18->fastai) (7.0.8)\n",
            "Requirement already satisfied, skipping upgrade: cymem<2.1.0,>=2.0.2 in /usr/local/lib/python3.6/dist-packages (from spacy>=2.0.18->fastai) (2.0.3)\n",
            "Requirement already satisfied, skipping upgrade: python-dateutil>=2.6.1 in /usr/local/lib/python3.6/dist-packages (from pandas->fastai) (2.6.1)\n",
            "Requirement already satisfied, skipping upgrade: pytz>=2017.2 in /usr/local/lib/python3.6/dist-packages (from pandas->fastai) (2018.9)\n",
            "Requirement already satisfied, skipping upgrade: certifi>=2017.4.17 in /usr/local/lib/python3.6/dist-packages (from requests->fastai) (2019.9.11)\n",
            "Requirement already satisfied, skipping upgrade: idna<2.9,>=2.5 in /usr/local/lib/python3.6/dist-packages (from requests->fastai) (2.8)\n",
            "Requirement already satisfied, skipping upgrade: chardet<3.1.0,>=3.0.2 in /usr/local/lib/python3.6/dist-packages (from requests->fastai) (3.0.4)\n",
            "Requirement already satisfied, skipping upgrade: urllib3<1.25,>=1.21.1 in /usr/local/lib/python3.6/dist-packages (from requests->fastai) (1.24.3)\n",
            "Requirement already satisfied, skipping upgrade: six in /usr/local/lib/python3.6/dist-packages (from torchvision->fastai) (1.12.0)\n",
            "Requirement already satisfied, skipping upgrade: cycler>=0.10 in /usr/local/lib/python3.6/dist-packages (from matplotlib->fastai) (0.10.0)\n",
            "Requirement already satisfied, skipping upgrade: kiwisolver>=1.0.1 in /usr/local/lib/python3.6/dist-packages (from matplotlib->fastai) (1.1.0)\n",
            "Requirement already satisfied, skipping upgrade: pyparsing!=2.0.4,!=2.1.2,!=2.1.6,>=2.0.1 in /usr/local/lib/python3.6/dist-packages (from matplotlib->fastai) (2.4.5)\n",
            "Requirement already satisfied, skipping upgrade: olefile in /usr/local/lib/python3.6/dist-packages (from Pillow->fastai) (0.46)\n",
            "Requirement already satisfied, skipping upgrade: tqdm<5.0.0,>=4.10.0 in /usr/local/lib/python3.6/dist-packages (from thinc<7.1.0,>=7.0.8->spacy>=2.0.18->fastai) (4.28.1)\n",
            "Requirement already satisfied, skipping upgrade: setuptools in /usr/local/lib/python3.6/dist-packages (from kiwisolver>=1.0.1->matplotlib->fastai) (41.6.0)\n"
          ],
          "name": "stdout"
        }
      ]
    },
    {
      "cell_type": "code",
      "metadata": {
        "id": "6W6QlmXigW4I",
        "colab_type": "code",
        "outputId": "5d734778-9f0a-476e-d704-30a66c87013d",
        "colab": {
          "base_uri": "https://localhost:8080/",
          "height": 1000
        }
      },
      "source": [
        "!ls /content/gdrive/'Shared drives'/'Automated Playtesting'/'Ken'/'Imagine Visualization'/'images_DS'"
      ],
      "execution_count": 0,
      "outputs": [
        {
          "output_type": "stream",
          "text": [
            "a1xj0fwbumlb1jog4zs4.jpg  hn02ffcytojzffjhxsym.jpg  repifkujlerxikglxqsa.jpg\n",
            "a7gda7w78yfjujyzaaha.jpg  hnalxbgmovfdfezggczi.jpg  rf9h8vod2wvlntcilcdq.jpg\n",
            "aa7nzxeee2ligmxpn8sy.jpg  hnbolpudi5vzpmmn2e4k.jpg  rfixzud2xe0mdfabqitu.jpg\n",
            "aaykilwpylxef7xujnmh.jpg  hnnvimvs91ewhsbnq92q.jpg  rhuysap9k1uownz4qyjs.jpg\n",
            "abr5mieznizo5j6tlwdq.jpg  ho1qu9yveo0gnacfmzov.jpg  rjstauyu1cdk1noibfbg.jpg\n",
            "ackb0gizoh3hh65ybvgk.jpg  homex5nynieauwjaedj5.jpg  rkal8h9eevmcdn6ba0oi.jpg\n",
            "acvzjdcdft6dyymgghik.jpg  hpwf4obmf91mfr6zqmty.jpg  rkid8o2szvzgkkdubgoi.jpg\n",
            "afucmet8djvuuo5isrye.jpg  hslusgrqtc64ctpgfdim.jpg  rkufnu2ds8onadl6hpyz.jpg\n",
            "agvncqs0ecqv2f29beos.jpg  hsomrvlgkhknwub3ax0h.jpg  rlxbniwlkvqmtmxbeqq7.jpg\n",
            "ahk6012oszpklikejtyk.jpg  htc4twewoffica4ztvsw.jpg  rmgiubchyihg36qtsjr0.jpg\n",
            "ajylqtgxs1s5cz959hoy.jpg  htnmqucoseqnnmyrhuri.jpg  rom98qajxifxic9rue4t.jpg\n",
            "almbuxncezzpemmoqyzr.jpg  hw6yjnpddxzyxmubl9iq.jpg  romwmznociob3sxjbala.jpg\n",
            "am3cepxorp7j6lt32veb.jpg  hwonsdiyzcy5zbpxvudp.jpg  rp8zedoudghiuenhb7h5.jpg\n",
            "amie2hvtim2ylcumipd4.jpg  hy0hkfculirrpk3aqwep.jpg  rpvzp4gkw6lhaztzduje.jpg\n",
            "amplixixc4ko2h0csgfv.jpg  i1q1j8v2reg3omwieels.jpg  rr5yuk2ebuiewgo6z5cb.jpg\n",
            "amuqyntpycg0wchln8vn.jpg  i3x2hfzkzlvm99zyzxmj.jpg  rrajwggmfdtzx4x58v3d.jpg\n",
            "amwdasfosiivagmprxhf.jpg  i42gzxpiyowl10bv5jev.jpg  rskxzzlfzej9kwp8ylku.jpg\n",
            "apnwpg153gwhzd3d9uzh.jpg  i5dzzjififgnsupwkjuq.jpg  rusq68tngpnduforgelb.jpg\n",
            "asejykh6s7moucaisend.jpg  i5oduziwacurhrhrryv0.jpg  ruxovnkt4kp2qah6bppr.jpg\n",
            "aveoramiualh8anibmcv.jpg  i87jq4dnjs7ryttocu2v.jpg  rwkgyzzbeproja6uqncq.jpg\n",
            "awboiigvx0klf6j4e5ze.jpg  iat6n74pbnpdcoyqzj1n.jpg  rwylghw2479pw7opfats.jpg\n",
            "awcsmulnpzn6gq5zv3w4.jpg  iayzzgiajdq60lfw3vvz.jpg  rxftile8skmjhoetura8.jpg\n",
            "b2ueycbesxk9fm8jmlwq.jpg  icc3imgaa7sy2iyhmc0x.jpg  rxudaradljsouu6gdsxd.jpg\n",
            "b2zrjpkgaulleekzi315.jpg  icjxozuy5b64jfw7hdzt.jpg  rysfuudle4xjbxvz0whj.jpg\n",
            "b3cyhdi535fozlfojmuz.jpg  icolci4o6q8gsrunpje8.jpg  rz5bhe64jsmzkmfi3ojx.jpg\n",
            "b3qgrvjjhvuxxbvqm4sp.jpg  ie6xt5p06dzdyxerl7dm.jpg  rztqonackttlts5tetlu.jpg\n",
            "b4msmqsfsbh3u7swkylf.jpg  ifalqzaawdzdgx8eliui.jpg  s1f33wk4un4htqaiapfl.jpg\n",
            "b4xqo2assz6s0uhs1va0.jpg  ifmxahrtxv63tvz4yrxq.jpg  s2rvrsf7gga69j2ixeaq.jpg\n",
            "b5tljlmigznty4eayrth.jpg  igh5egvyxwvrs7x8ujuq.jpg  s3i7bczgchsoe7eylcxa.jpg\n",
            "b5w8mjj41o8h8qyp977b.jpg  ihgibkv6jmsexatrzvxo.jpg  s5jra2uj41yfscnklc4p.jpg\n",
            "b6bmkmkaiyi8m4fexubl.jpg  ihuhnimp9a6djai0zfsa.jpg  s7bigmsmopjknpvgxpl4.jpg\n",
            "b6spuza87navdn5dtb9b.jpg  ihv1vwwjhx36lov7ubfb.jpg  s7if5vet0ibup5pqsck3.jpg\n",
            "b8un3siidfpolrzdhcnf.jpg  ilhaik387qodyyq0kbnt.jpg  s7kkfolgjltessbjlipc.jpg\n",
            "bcdjtzlqvzicjq4rkrhl.jpg  imwllavwz89axugywtog.jpg  sbm7n7adxjbqcdg7uihr.jpg\n",
            "bei33s66em3iuehcdlie.jpg  io7a1n7lujliy0vikqu1.jpg  scxiixxx2vahmky9ywp2.jpg\n",
            "betfwj1dsward1i2sph9.jpg  iqlqwsfog1xg6rzwqgts.jpg  se0b3pl8mgsyijlcw3bc.jpg\n",
            "bezegz4ktctvozibfniw.jpg  ir9tmcvhd3m7ctwpxzju.jpg  se6c2vbq0heremnb3nmp.jpg\n",
            "bf8vyepwjxdwb3l7k6un.jpg  itzvkbsbhkdujq8rffcy.jpg  semuiv0sqtwmbq5tosoi.jpg\n",
            "bfihbga3idn9dql6grr2.jpg  iuc7vtmwiarcpjbxfexp.jpg  sf1ckrzl01ymwmzoqv5u.jpg\n",
            "bge3o4wak7nvhehn0xa8.jpg  iupksgek4jce3cjitcnu.jpg  sftujd1ijr5fftnnbg4o.jpg\n",
            "bhngkzzi9xjavsgvubv9.jpg  ivnbn5mhygcgu3xqysut.jpg  sgn9n1ncbxjxdhcu6qls.jpg\n",
            "bopejguotrbxjeoafor7.jpg  ivrrr8svubetqig5tcw8.jpg  si2edqd8xwbwe0g5kxrq.jpg\n",
            "bpfhshwed3qvtneqq7kt.jpg  iw8hux3tx3azx7n8sppp.jpg  slnynw6dsorsnipcjaxp.jpg\n",
            "bpoarwdwrgk9vn8xlhdk.jpg  iye8vf8nt0uxmd4q7zgw.jpg  slswjspn0aavk6y5gfbc.jpg\n",
            "bq2igrlri9v4pwvaqd6u.jpg  iysnxkvwmdmtvhjbi6rh.jpg  sluoz6zqcp07mot3dv3n.jpg\n",
            "brga1cxylxcm26qwlptn.jpg  iyy4sq1feabebafdw2lu.jpg  sodltczl65dscxayhdtd.jpg\n",
            "briftfkpksa5iqeohjq8.jpg  izxbzt8r4gxwhktr7a99.jpg  sopwsld7agl1hc3bvgir.jpg\n",
            "btbfzltrpmzzuvqftrv2.jpg  j06sudm56udn2rjzwjs2.jpg  spe5sdvqtxu1itd6ci8q.jpg\n",
            "bwcbljdlb6c0xfk3pcob.jpg  j0br0ihilzi45c63j8nc.jpg  spigogqogifyyanyhykh.jpg\n",
            "bwfdndr7jmy9uwxj0llu.jpg  j3xp0fvccwrwdw70rjjq.jpg  spm8fhis8cqdaawgyihi.jpg\n",
            "bymxzv42flzzdde2anyy.jpg  j5byi33dqtr7kp0tywyy.jpg  sqcopzcko7onaxbmb82d.jpg\n",
            "byrh4ionvsoxyuiaw9wq.jpg  j5cdkelby7qbccnrbrwb.jpg  sqmll9ilrt8f8mkp71bz.jpg\n",
            "c0eugmzrz7vr5tmry7wr.jpg  j6mbknvzwz3ntjd6pkvm.jpg  sqnehyg3e6ksqz6qhlju.jpg\n",
            "c0yrw5qgiaa8goc1dyei.jpg  jas05e4chfk8srptw7cx.jpg  ssd6bgo4da18dqrkcj9j.jpg\n",
            "c3acdiflfcfnridg732c.jpg  jc412wpbyw1rmj0pgipj.jpg  sufb5gnr42dqjqwi0ixj.jpg\n",
            "c4v22vtcsrzexrzlzzid.jpg  jclgmu4amw47wmyutyze.jpg  suqp3pumt46oasdx0rmc.jpg\n",
            "c7etwgt8guhaqberqi5t.jpg  jecjjvpett1hzaaasdrt.jpg  svcxpoln0vqoqlcmi1cg.jpg\n",
            "c9wm2fwnmrmhivgfbstc.jpg  jeyqhohxmftxbgdvbtbh.jpg  svrnpbgyofmkl4o3hmnw.jpg\n",
            "cbnnqgebu0iurkinwaul.jpg  jgqkzuw7nbygxhybiiru.jpg  sxorbig2hltkrf4bpyuv.jpg\n",
            "cdvp8vfb9ifwk0wlqymz.jpg  jgt8mv5e0y7eqa3phwjf.jpg  sy4p4fs5sicrmdzqfsuc.jpg\n",
            "ceoghaemqfvuu0eo4nsc.jpg  jhuvx0swvazvvpdovca3.jpg  sydh7cxldzf64kevduut.jpg\n",
            "cfek3ofcfnc07kif6hkd.jpg  jikq0dutw6nr8yiosv1d.jpg  szzj4vkrxm8ndbrk5r8w.jpg\n",
            "cfxo08dohth6i5x76qys.jpg  jiomcsgevff6koy1rm1r.jpg  t2q87u7zrtijgstfgjd8.jpg\n",
            "cgicqwclilctbjv3bw31.jpg  jiwqqmh3jiu6sgqvug4k.jpg  t3ipg9d7fin95v0f5ob9.jpg\n",
            "cgkfngqduo2wperfct2a.jpg  jjygilwlo8ka9srii7bl.jpg  t4gwzoi8tc97cbjp7rx7.jpg\n",
            "cgwligvqybjqlcloayhi.jpg  jlesuski2rrx3zon5hve.jpg  t5xldp6gn8uvdnx1b34m.jpg\n",
            "ch8f96rplnw7oxf3lv7c.jpg  jp6szwqep68vrqwpu1gb.jpg  t89fir0wnorrwqcdbjf9.jpg\n",
            "ci34jk59vjcomh20f9b6.jpg  jp8qvmc2tkb2mv1znftp.jpg  ta6rfqancwcvjfmwwtxe.jpg\n",
            "cinhgqqcdjg3mqujlj43.jpg  jq0zneiktvzqmze7yqga.jpg  tb3eyoiqh38viidblk7x.jpg\n",
            "cjl8x9ynxxgiwa9mo6dr.jpg  jruhcdfyk7aio5apnry0.jpg  tcufox9niqbg3bkfrf3x.jpg\n",
            "ckxl9utwid2cwp6dusxo.jpg  jtzpj5pyomhmjk867xtu.jpg  tcvg2xghprfnbrfcumrl.jpg\n",
            "cm4epr6xueh0ll5f3evv.jpg  julcumw5634uf5wmoqlw.jpg  thygoq69c6yojssdjrku.jpg\n",
            "cmnbhui7jrvw0fsjdywl.jpg  jx6ot9bigegmfkflp3x2.jpg  tk4cfdeaxl1zxk7adysj.jpg\n",
            "cnyfxstdyzs9yqpfyz40.jpg  jxcru65ulsmjdpdstjs6.jpg  tkzm1udxjupgq3ao2drq.jpg\n",
            "co1h1b.jpg\t\t  jynq8hdh6kuzdhzxgcep.jpg  tl1qp7qepvcjo3defejf.jpg\n",
            "co1h9s.jpg\t\t  jyrzlijnyefmuu5ilzmd.jpg  tl8unoory18tcbccgzfy.jpg\n",
            "co1h9t.jpg\t\t  jz5vcbyrvolznxovmj0y.jpg  tlurlwhnvdxbascnjdmg.jpg\n",
            "co1hae.jpg\t\t  k0xhcil6guo7l7mfsznx.jpg  tpuzqwpemt6abfw4sb8x.jpg\n",
            "co1hjj.jpg\t\t  k1gwinwgmngyyrurdqgc.jpg  tt4qhplvrfnjddnydlpm.jpg\n",
            "co1hk1.jpg\t\t  k3kucipps3ggq69dbdod.jpg  tudhz1zkd7vjn11tcsci.jpg\n",
            "co1hk2.jpg\t\t  k3otjxqcceuokpo9l1r7.jpg  tvjhvfpvq5s0sbripxqq.jpg\n",
            "co1hk4.jpg\t\t  k6e9hmenuvdoafgk092f.jpg  tzf79qqp1z3vw9twd2gf.jpg\n",
            "co1hme.jpg\t\t  k84ilbs9fmtt9eytahlh.jpg  tzjadwlja2ozszewjet8.jpg\n",
            "co1hmx.jpg\t\t  k9ze6krp6uqrpgyyzj09.jpg  u2qqyalqlpxlsaqfxfbw.jpg\n",
            "co1hmy.jpg\t\t  kbp4uewgfglz2ozzgltk.jpg  u3ourlhra469lbuzxt5d.jpg\n",
            "co1hxb.jpg\t\t  kdg2rsgihjg8vbdcnvtb.jpg  uaaneswmylsxvniozxev.jpg\n",
            "co1hyb.jpg\t\t  keex28huyujufcmjjklh.jpg  uae5slsgzrrfexx5rpox.jpg\n",
            "co1i07.jpg\t\t  kg0flkvnywk4qnz3jw46.jpg  ubp4topdxibuhzp93mho.jpg\n",
            "co1i0a.jpg\t\t  kgrfizzaxi4np9zfpgz9.jpg  uejqbqhh5r94vdtjsk3l.jpg\n",
            "co1i3x.jpg\t\t  kinmlbbdkfagqjmeqaod.jpg  ugbjpxdkrcbtg3qnreyw.jpg\n",
            "co1i5z.jpg\t\t  kjgpjy9wr2a7trfm461z.jpg  ugobwfnxzngs75lhqyer.jpg\n",
            "co1i73.jpg\t\t  kk4ty7xov69eoajsxqi3.jpg  uk0mqqvlunfxf5y2wihe.jpg\n",
            "co1i79.jpg\t\t  kkjnn73gv0ri3ud8pc8f.jpg  ukjke0spqgw9ngubxzx9.jpg\n",
            "co1iam.jpg\t\t  kkwvzusuxliifs9ji4cx.jpg  umtxvynvbaz6ipltmyfi.jpg\n",
            "co1ibu.jpg\t\t  kn3yxtjek0u05dbhj4un.jpg  upv5oyvfekkdk0ty66nc.jpg\n",
            "co1ijo.jpg\t\t  kolj6y9kfw3mhlvaz8ie.jpg  uqhlmy2bntyvjj2tbjnn.jpg\n",
            "co1ijq.jpg\t\t  kp4prmd6snpzm6pc9hdn.jpg  uqxslfrr11kyzdyglzop.jpg\n",
            "co1ijr.jpg\t\t  kpwx2l0mxaskyfwd80jn.jpg  urm3pryt629zaksmmasf.jpg\n",
            "co1iom.jpg\t\t  kq8pncwi3tgveotb4uu2.jpg  uv0r2ps8ssmlwodtkkno.jpg\n",
            "co1ip8.jpg\t\t  kqykqqvdhws8cup81qrn.jpg  uwy7ayfyngqfxqo0ry32.jpg\n",
            "co1irm.jpg\t\t  ktdr5eflo0vbgjuiku5t.jpg  uymmibbaes4urkwpbuut.jpg\n",
            "co1is1.jpg\t\t  kuk17qxsflvcnq4o5uta.jpg  v19qxg4nr5chnwj89ofa.jpg\n",
            "co1isj.jpg\t\t  kupeuv7smrtlwks3wy5x.jpg  v39inomyte5vmqx6ntzj.jpg\n",
            "co1iwn.jpg\t\t  kuvzcmbihzocqntfy8zi.jpg  v3eqnpc9wkakdgyyka9y.jpg\n",
            "co1je3.jpg\t\t  kw1bx666vllidb6u9tmc.jpg  v7vmpfrmisvuixxymb3y.jpg\n",
            "co1jjq.jpg\t\t  kwa7a1stla9ew9aheoj7.jpg  v9g3bslanhznvzqn5wqd.jpg\n",
            "co1jq8.jpg\t\t  kxtcnuiyothgkjwpsyow.jpg  v9kqdyy5aaoww6tobq8e.jpg\n",
            "co1k08.jpg\t\t  kyo4uos9nsuasz4dttm6.jpg  v9pj2n1m6adoaue8vyob.jpg\n",
            "co1k28.jpg\t\t  kzzkht0k8w138pxrpfcl.jpg  v9ylxxfl7a1ucugtexii.jpg\n",
            "co1k3v.jpg\t\t  l17lk7wlfjrqrj7xqgxm.jpg  vasmaomnujid1wzfvq4w.jpg\n",
            "co1k40.jpg\t\t  l2dpxt9geokmotbcvhgz.jpg  vazaf5zwiclr0pmg3mxo.jpg\n",
            "co1k53.jpg\t\t  l31kmss2fd1phunvlzhv.jpg  vbs36rizrzortcmluz3a.jpg\n",
            "co1k8g.jpg\t\t  l4hdqnkxamonoqdhnsk9.jpg  vcjlxbkx46lojcajkrai.jpg\n",
            "co1ka2.jpg\t\t  l6g967d483hn5xjij9jh.jpg  vdb1gfhjftla6yhrkc8q.jpg\n",
            "co1kb8.jpg\t\t  l6whny6vrsbahsz93b7g.jpg  vdhhz3x0arae6iz8qwbh.jpg\n",
            "co1ki2.jpg\t\t  l86lxmxxiwowkpe63fqd.jpg  vdzu2zz1r8dpxdk0pfme.jpg\n",
            "co1kif.jpg\t\t  l9zd8tbiaqdachwx7tg6.jpg  veidnq09h3ir4m3wdigg.jpg\n",
            "co1kqr.jpg\t\t  lbhoq9me3afiagunxbsk.jpg  vem7ol28uhiy4u0zorei.jpg\n",
            "co1kqv.jpg\t\t  lbmpd1l3kuwtq6yydbhn.jpg  veqnkdzq0ov3zdjmiwm3.jpg\n",
            "co1kr0.jpg\t\t  lcerstsdm8p62vnxwfin.jpg  vf0wemhjxsk5axve9usi.jpg\n",
            "co1krb.jpg\t\t  lggvpskewx5pddicouv4.jpg  vfvviqdxbtpmajxjv9j7.jpg\n",
            "co1krd.jpg\t\t  lgxke2gniftkcd9g1gel.jpg  vfxbdhymnvrqhcryqa0j.jpg\n",
            "co1kre.jpg\t\t  lijxd0eeirls4zuefhdn.jpg  vgcfnwwibfrvmliuqvfe.jpg\n",
            "co1kxm.jpg\t\t  liuz9jirxneq8uo1pfl1.jpg  vggdd4rauskgkfez0tjz.jpg\n",
            "co1kyc.jpg\t\t  lixpxormhmv6ozaibfys.jpg  vjxgs72g8fjdkxefwgtl.jpg\n",
            "co1kyh.jpg\t\t  lizrvmvxynzqjt7gvef7.jpg  vkgaxxf0d1xwibe0brmh.jpg\n",
            "co1l04.jpg\t\t  ljv0nkg92kqmvxtdryls.jpg  vlfibel1kq7gqo19mdie.jpg\n",
            "co1lw9.jpg\t\t  ll17vwtqlly11kkcp7pk.jpg  vmof1pvryudc6ej4d8op.jpg\n",
            "co1mmv.jpg\t\t  lmkbmpdajqzpfrprq6oi.jpg  vnl2aep4i1t2gntqsq6v.jpg\n",
            "co1mxi.jpg\t\t  lmynlselyx1bvk0iwte3.jpg  volg09tqzfhpyj3n7mic.jpg\n",
            "co1n2b.jpg\t\t  logvyroyxiuxqfp7a2eu.jpg  vovhpzg8gugtkei2bbyv.jpg\n",
            "co1n2e.jpg\t\t  lpa5u6csf3j7dqgpuexr.jpg  vp3mzddxbt9ifdkwfsh6.jpg\n",
            "co1n67.jpg\t\t  lqzdl1ncwgjufea38ovf.jpg  vppopooykbiks17ehdr9.jpg\n",
            "co1nh6.jpg\t\t  lr5cbleskpwivuzytkoi.jpg  vqdbuwphqj8jtb82nvck.jpg\n",
            "co1nh8.jpg\t\t  luouiyokg36w3tfr3ox1.jpg  vqoafyot7zlwwsxklsnj.jpg\n",
            "co1nha.jpg\t\t  lwm1lsz5wghksdiglfit.jpg  vtgg9equxazpbnesd0fw.jpg\n",
            "co1o7i.jpg\t\t  lwmlwgrj2grvhxvzdanf.jpg  vvadmmjux9fnxfkaws3e.jpg\n",
            "co1oqm.jpg\t\t  lyzmzpiagjgi6go3ouea.jpg  vvcmtn6pvz29hetumdco.jpg\n",
            "co1q9v.jpg\t\t  m3jqwshkdyarg0sf5iaz.jpg  vw8p3jmxdwq7dcgs3s8j.jpg\n",
            "co1sba.jpg\t\t  m72sowccfvt9ft1hbbwz.jpg  vxpfhiy73ewcnbqmniea.jpg\n",
            "co1sd6.jpg\t\t  m8fgmnuim9byakftthis.jpg  vydgolawkfemgauxrlat.jpg\n",
            "cprslnio4n0rdqgc5jyd.jpg  m9vue1kpftxotioviwtr.jpg  vyojuxy1xlzr2ctvyybz.jpg\n",
            "cqb1vegbabn2rigas0qz.jpg  mbyysfgsao5iqg8jy8dq.jpg  vyzdgblbujyrsu3avvtp.jpg\n",
            "cscmesfrfkbusuddzjme.jpg  mcamii2d0onqrvmqxg7h.jpg  vzylylbwo86shehoirwg.jpg\n",
            "cthxbpxw7zv3hcnryclv.jpg  mdfal2ksgbipwnytuwlj.jpg  w1egbcnimphgrx0spnk3.jpg\n",
            "cwjdjhuvur9r44pbcxhi.jpg  me3sbldrnslkuqtzw6hf.jpg  w5swbtqqsbkeumydvndz.jpg\n",
            "cxeqnfv8bbg510jhbdy1.jpg  mg2frjmhmb5losp7akla.jpg  w5ul2xxp8hbsswjhpufi.jpg\n",
            "cyelorz2u457c5wvvash.jpg  mhdmtuamkumzj31dqebs.jpg  w7ghyrcwugqbczkhf2dz.jpg\n",
            "cyeznf6wqkka5yu0ve9u.jpg  mhwwstg5hmxfixex1zt6.jpg  w8b3t2n8wodyc6pawtyf.jpg\n",
            "cywll5s1p9upev1f8qpx.jpg  minkf57da4vu4pbhgzud.jpg  wazrwyfpkq2tlmpriiqz.jpg\n",
            "cz8e3sahuu6y8ggqhujt.jpg  mjs5vmdvdo886ftme8cb.jpg  wclmmvxacosebyectrc3.jpg\n",
            "d0f1gjcrapcpakjwe39r.jpg  mlbas7xkqkqibe5r9ioh.jpg  wcqxef65gqde2pj2oryi.jpg\n",
            "d0rwulx7odkcxnvvzrgw.jpg  mly6sw3g6g5rknmmyind.jpg  wfcvef8u7uxyqbsles8w.jpg\n",
            "d26scimlkrfshyxsou7t.jpg  moceo3bzmzuqkeibyug6.jpg  wfevkluofbtfdcllevpf.jpg\n",
            "d2uezctehsngfesjphed.jpg  mpdrsd1bas6blypuxurb.jpg  wg4cztcdaezqfugmsajz.jpg\n",
            "d6srfluhht7di3gnusex.jpg  mpizrlxztux5dkao3we1.jpg  wielvadmguw66ejadixa.jpg\n",
            "da0jr2bjgunn5lwlqamp.jpg  mplabui6kkdwf2nd2xsx.jpg  wiiz0dmeqo5fposf2l1c.jpg\n",
            "daoppzvifz8wc4f6qcxn.jpg  mqcrztaufrmgjkbokfju.jpg  wmlwaghajssqonnbg8qx.jpg\n",
            "dasdnihhwwaabuugisbv.jpg  mswfjtwjyflsll4o89fn.jpg  womobdop0iyxpcmfhn85.jpg\n",
            "dcofrscp2s21fvrxdjyd.jpg  mu7zkuviswnwtjm7fwy6.jpg  wpp6cum7aihidsyfsiwg.jpg\n",
            "dimltocd1rmb0mi1q4zt.jpg  mxixsgupf8wn5bloi7wa.jpg  wqi5rfws1muexvwmb4xg.jpg\n",
            "dlydg10sh51kz8oipxjk.jpg  mylfo0tdyhqei8gtged4.jpg  wquwwkfuejcqqv3r4tyc.jpg\n",
            "dmiiydxj1t9enhb9xwef.jpg  myphinolazfcx8bsvug8.jpg  wr653y9s8bwixacetygs.jpg\n",
            "dmxbtjtuzdm3ngkbxiqf.jpg  n1hskupi7bjwsytzmmtn.jpg  wsfiygz6sn4e8kre248p.jpg\n",
            "dn4btcdlwqanf8yy3diy.jpg  n1o29njyyztutrps3msf.jpg  wuccgcdnbluqu8lbxpdm.jpg\n",
            "dowyfrczkefnjpbkrqd5.jpg  n3i7xapdvpwsvbzqcj3t.jpg  wv6c9corvbqq0lthggdy.jpg\n",
            "dp8xxmqnjiynk1edq7da.jpg  n5bvadufu2r06wdrnvuv.jpg  wwxb0imvdruuqz38f5mc.jpg\n",
            "dudywsxlvoxy8bjlndl0.jpg  n8vnodlcilkw4k7n4pta.jpg  wyqwokkibcxi9wwuknya.jpg\n",
            "e0kktltbqdjbseaj3hdm.jpg  nbn2ntjpkdh7kim8ukfj.jpg  wz4xey3kvdeod7oeleom.jpg\n",
            "e3a0blzr35ailpzv2e3p.jpg  ncp74q9s7elddlcrr6oy.jpg  wzd0brviqwrlv5xthgef.jpg\n",
            "e4m6mb64jvom2j0uszvl.jpg  ncyqr9opwh4wgd2zvfsj.jpg  x0i0tyoqchvk0stqelwa.jpg\n",
            "e5vitznsbsdpudzqu2ls.jpg  nekbymivgqax7kajgzlz.jpg  x5lkixnqflju4f1g2ncd.jpg\n",
            "eaz1amtmmzyaquaf4dqo.jpg  nfexb0elftkynfczubnt.jpg  x7ejfu96e2rs0fmkwy6j.jpg\n",
            "ec7icipfkcwxu9ajygqb.jpg  nffdru4h5ee0nbi89ww8.jpg  x7ifr7pqbpd2eflqsqag.jpg\n",
            "eedri9uk8jkrhvpzhzxq.jpg  nfggce6ezxpvpoostj0s.jpg  x7zvozyn2xjlesybcwli.jpg\n",
            "efvalgpudttvoedhmgk8.jpg  nghmywgd6d2qwle4llmy.jpg  xbgroe3gpa4ov7cqy3uw.jpg\n",
            "ehzwp2puma71h9ir3bay.jpg  ngvquxsjcggpeuhfa4vn.jpg  xdbepot5yysfwn2cba3h.jpg\n",
            "ejbhbnj8rpx5sj3m5gg3.jpg  nhltmqx6y5oooxnyew7f.jpg  xdm4of5v6tqmni6b7tlf.jpg\n",
            "ejc226bz66iqokr3dvjx.jpg  nhmowzmqg6c0pbu7oocg.jpg  xebrs93mubd0raacx84h.jpg\n",
            "ejqsjniuabwkxmyj7iux.jpg  njiapylo91fz3n3k3lwr.jpg  xepdgz4znuwdaje8o6aq.jpg\n",
            "ejs7j0nowjpw1vadmfll.jpg  njizsjkoeik9urfj2fv6.jpg  xhk5bmbwztu4jathyot7.jpg\n",
            "ejsgkldsgktrnrv8ymil.jpg  nl6toeud4i0cllbynwzt.jpg  xi55ydgppmfaq6yjv3kk.jpg\n",
            "el6hpe7owhafoasfrpe9.jpg  nn02lzj13nz9e9donjgl.jpg  xlctwh5tbf7xsx5rb3cl.jpg\n",
            "em2h6jrrjg17y6v4fsgy.jpg  norswlzkyqqdnhenkazn.jpg  xm90xiniunxtutjcmu0g.jpg\n",
            "em9mx5nivzqky2kxccph.jpg  np8ylljnaqpvhfdtys5k.jpg  xom6yqvgwkgkf2uqs6ki.jpg\n",
            "eprl6okzrhjojsbnjb3n.jpg  nryksuj1o68fycmjcrjk.jpg  xqoirt539uqefnzpzrgr.jpg\n",
            "eqcq528swzxidj5ug5dr.jpg  ns0bl2mvxmcugelpkbha.jpg  xsntzicbgqjsho8y33zk.jpg\n",
            "erfxvhxh4n6ewp2byglk.jpg  ntbjk99qqp6misg4k3ow.jpg  xsscwghrt3sp9engnsw4.jpg\n",
            "esv3sbzckhozekyaabwv.jpg  nuun7cg3mjk9l8akp8ts.jpg  xsti155usd5gswmyxrof.jpg\n",
            "etbq8xddpptlfujddzdl.jpg  nv47sz4rkp3nucebiagz.jpg  xu3jpjgrza26zlgk1zal.jpg\n",
            "etc7qjkdd50d8hou2itp.jpg  nybvwlx2yae3ffppuzel.jpg  xui10crvinzosqdefdhg.jpg\n",
            "euvhekoasg51tjw2ac5g.jpg  nyxk0yhnba6zzpufgsyz.jpg  xxen8nsa5fdop7rfnohf.jpg\n",
            "euxczwzwhpsn5rqemugm.jpg  nz4t3kgz9w9nf0e9qumo.jpg  xxg8kaqg43bd9koty86n.jpg\n",
            "ev0mxuxiwkwntyyvwzka.jpg  nzgwz8bo67yrkxjyatyv.jpg  xxjkvbexnuvirbdd2i80.jpg\n",
            "evjmbnkrp0oa0f3hfzyx.jpg  o0dlfpjvacypbgc1aazd.jpg  xzgmuodqvi4ufwa2pmp4.jpg\n",
            "ewapb4tl5qsxsjujrx0y.jpg  o0etnajy6rt0bdyxrkox.jpg  y2mec7pfjtmlgdsa8qvz.jpg\n",
            "ewar90zawavxru52ulgp.jpg  o52uz7xe0tklubq0ula1.jpg  y3bmmwhmupdxo2ku32p5.jpg\n",
            "eyh7ri2m3l7q5w1ow5zm.jpg  o53ppajvulwcsm1sxodm.jpg  y6vogdhvnisbcml5fq0j.jpg\n",
            "eyuhyos3ebloaecyosdw.jpg  o5mgewjnnkfwxogxlk4d.jpg  y800wq7vqzufjaas2cor.jpg\n",
            "f0m4hmzwyvnjlio6amrw.jpg  o5mkccxifz5qku2th8i5.jpg  y8z9zjtkplccexmg1tds.jpg\n",
            "f49wtsyqfvhvpz9n7xqa.jpg  o6fczq1faxp2ktcieyxi.jpg  yaaqdob16l9mkqprjljj.jpg\n",
            "f4dkxfwqqe3b2ygqi3cb.jpg  o6kb5vzm43fjp1x2k9fk.jpg  yangxyl3ingpmsejmr7g.jpg\n",
            "f62ca3soiys7a5ba9tew.jpg  odt8xrwh4uelhredai80.jpg  ybmzvgmoufaqhcssclow.jpg\n",
            "f8oeeu9jlko9krkhjxmk.jpg  oftlhhqspnbxfjyebxsg.jpg  ydcs565arrcbuy8wz2eb.jpg\n",
            "f8om4e6q3tpvga69orqt.jpg  ogpkvmy4y0tx4hwgjxbs.jpg  yeg2ameqcjrzcoqk922c.jpg\n",
            "f9iwylglyla7cjhfzfy6.jpg  oh28z5gotmbhgvv6zdpo.jpg  yju2rphvszn5v9fls00s.jpg\n",
            "f9ja7bva40zioscqeart.jpg  oi4w5urhr2e83qeipgej.jpg  ylbeglgw78dhejl6v7iz.jpg\n",
            "fbah0t4yltyfwpomucwv.jpg  onurkzjie7jnpkprr4a2.jpg  ylvmxyfyqpgwmhrrdqrx.jpg\n",
            "fbik0cze2t4eawz4sbjg.jpg  opliaolpwiiq0hnozcwq.jpg  ym75qbz8qhseenfivfoj.jpg\n",
            "ffenbgz5xy7rs4ephbyq.jpg  oqdnkfyixrbrsbynburw.jpg  ympuitgzvfqzgtsqnifc.jpg\n",
            "ffsovqwrty4tzrjb4la4.jpg  orscgolg1rmkaztrjyyy.jpg  ynxkp6hsuzunb9uhmcpd.jpg\n",
            "ffutfxgn2atauge5diwu.jpg  orunjg1kmkw6bsxurfbe.jpg  yocjumuregte0mzlwmym.jpg\n",
            "fghp4na5akvrq04g95ex.jpg  orzfgvb37sc2iqc03vza.jpg  yocxw3xphoy43sr3tzlc.jpg\n",
            "fgseol3gghujsjuxo1ng.jpg  oscbf1gxw6oqrevjzs0y.jpg  yokkwf9drovesulosieu.jpg\n",
            "fh79bkclbiidqhel2o69.jpg  output.txt\t\t    yozj9ta6ryopd8bccap3.jpg\n",
            "fhwoxevqsco6ymlrwlrg.jpg  ouub2qyypykffehdyvcp.jpg  ypzxyrluth9f14esyvj4.jpg\n",
            "fihfgc4hg4tdlrk4p8qn.jpg  ovxqgmgbofabbuwqm2ze.jpg  yq8l2zc1lextpbaofysf.jpg\n",
            "fky1fscmod0ckzhoq1y6.jpg  owwy5yahuxnvrlevfxp4.jpg  yrbak6gwclirgjiyi8hl.jpg\n",
            "fmimp0q6lre2fs36z85k.jpg  oxhkiebsepxhssum0wn6.jpg  yrewrrpa6jipm3nzegbp.jpg\n",
            "fmqomyjjml34yhrxziao.jpg  oxpd499tvhfxa0udu7ze.jpg  yrxs6t3o2jtklxtkdnvq.jpg\n",
            "fmr3p0ydsdwypkxylztp.jpg  oyidhutv8mjmelgp2em7.jpg  ys7amiqzjwia7porfmvf.jpg\n",
            "fmryxpriyg08jlvynoeb.jpg  oyljiviod4rmunzkj88j.jpg  yswc7x42jkthbxbvw3cf.jpg\n",
            "fpzsvlrwgwcmj8ejg6fv.jpg  oytaued9gywiverqdndi.jpg  ytnvnng7zc3xbyt7sjux.jpg\n",
            "fr6ywgrkrwxc6oexz3p9.jpg  oyvic4dqh6g1r6gyqu58.jpg  yu8npmfzwpjxnyhgbuul.jpg\n",
            "frcrq0pn65mrnhttfxpf.jpg  p1vzdv31fsa10v61q3f6.jpg  yunfgaje6qj5ib1fyogc.jpg\n",
            "frhizo6uma4ruvld3oh0.jpg  p23ca0hbt306bzgrrmtr.jpg  yuxe72jofdtrcujrgvyt.jpg\n",
            "fsdvhoq2ekfcerbbynae.jpg  p3ga6tusicenmout8d09.jpg  yveitrwwwrip73ta7xme.jpg\n",
            "fujczvxlkhfg501wjd1k.jpg  p3vl1ugq6c4jou7vnrp4.jpg  yvyj6pwd0cejlipoy00m.jpg\n",
            "ful4m2hms1vjjpapeu34.jpg  p44yny97fk36ycmc1igk.jpg  ywf826xniw3lrivdmwao.jpg\n",
            "fumiplokboadqkhz3iay.jpg  p4kw1a68q6gdm44oinx1.jpg  ywnru5vxzvqixxjmf3qe.jpg\n",
            "fxfjlopuhye0wgbhyho1.jpg  pdvmiy3eaetmerkaf8ls.jpg  ywvd4o6gglw89qgx32m6.jpg\n",
            "fyzvzudri5zeydq36sft.jpg  peeejiitsuty0c6rtc3a.jpg  yx3hh4tmt9ll7mteczge.jpg\n",
            "fzg67wllehl2medzxalv.jpg  pge10iyw7svmmagqhmu3.jpg  yybt897hlximkot4rpup.jpg\n",
            "g1tgobbrpcs9vjy5ysqs.jpg  phkmcnmqpozxjodw7gs0.jpg  yyhl069ikfq6qgnqaa2a.jpg\n",
            "g60htccetmjyr07x3pva.jpg  pign1eb961oouwktguoz.jpg  z1rptftskvzwf0lwthfc.jpg\n",
            "g6ciidxw5sv1n1hmgoql.jpg  pjnvrqoqfotah17amo7r.jpg  z27dw8ec1yakgizlhr9z.jpg\n",
            "g7oqibtufxd6s4rlubwk.jpg  pksqo4k4vdizftajs8vw.jpg  z5v43wyuv39khlktjiny.jpg\n",
            "ga8l8n8rhynd9xueyyku.jpg  pltzkljez9eblloie4da.jpg  z76edffyjuhszg69ia82.jpg\n",
            "gd2b4blza9mojzfbqppt.jpg  pm1iqmfhe8tcl77kasb0.jpg  z7lz1arnaukmc3lihwa6.jpg\n",
            "gd6kiembelg5xy7ixlmv.jpg  pmtssgavw6qw7bc5nlzr.jpg  zaofuvf4rtcuktyhdm32.jpg\n",
            "gejamc9scsztntqdherd.jpg  pncoecqn9dcrxbobvvjj.jpg  zaqwqxq7gosscimwggl6.jpg\n",
            "gekbj6e7dfauysadkmvv.jpg  poldxv66zcorkogqnnm4.jpg  zatjol2j0dl12s8g6kop.jpg\n",
            "gfwmgzasy8jntrephij2.jpg  posngflqim0vpkzwxjvg.jpg  zbiz9l7dfydv8vrsq28l.jpg\n",
            "ggqbbbi5l3sjg8lshyq2.jpg  pqzlcwmmzwf5zoenuahk.jpg  zbmajiyplsoyxnydfy6t.jpg\n",
            "gilqhvindfi5ledptfme.jpg  prdbtcla7nmlzp4xucxr.jpg  zd85zztuj7kw8pphar3a.jpg\n",
            "gjlhqe7thbmxneu8c6io.jpg  prxgiwxugwtgpec6nyth.jpg  zdph91puk2meoemqgazf.jpg\n",
            "gjxqjb1i9b2571ujeeuv.jpg  ptdaannzy5mqfgcxdkxg.jpg  ze2hfzenvowgvzktayt6.jpg\n",
            "gk6gx0iucntg5mjfef4c.jpg  pv1nqyodlc2rlr7ofqa6.jpg  zewfftywe2dvmdft9va7.jpg\n",
            "gki4tjq8gxwfepnais4x.jpg  pv7hfrkhjqhkkzfusgks.jpg  zgszmj6fshxhdddn6z8u.jpg\n",
            "gmkcntrydtghqxwcrl4i.jpg  pwwcmyczl8tlekxlrabj.jpg  zgwru4msrueu0nedghbw.jpg\n",
            "gpvntei09hzuveqcqbdm.jpg  pxkofyv8nkejpehjllvx.jpg  zhhtxkhcr8i051viuexp.jpg\n",
            "gqqee9nl3o2qiewzr6yv.jpg  py5mzt3hfchpd337qbfp.jpg  zi7rj4so5ijts7r8qdru.jpg\n",
            "grhtgdrht8tl38lia1iw.jpg  pyetbts9sk1bvoifnk8r.jpg  ziimyfpda6dhnf0i9nir.jpg\n",
            "gsnbzyeewhuehe1o2rnk.jpg  q0zxlwudktsaduks58iq.jpg  zj6mgc20x0jbjxxncnvq.jpg\n",
            "gsprejic4lirha46deci.jpg  q4ztvdwn6uodwzp79mb4.jpg  zkhmhw5uxguhntltwufx.jpg\n",
            "gt3le7wuarn6j5wdjbdx.jpg  q5rljsuwsycglkaglrrh.jpg  zkw81jqyc59hi1wuho1c.jpg\n",
            "gtvmdovsbxcwe2915l0c.jpg  q6uudk4tmcbcnhcf7jro.jpg  zludacgwaun7s3ayufj4.jpg\n",
            "gvaoexmi87z46y570bhq.jpg  qeknnkh6ctxufenmu0wv.jpg  zlwgpji18otwpiirj9mv.jpg\n",
            "gvuxtexabgyloggdtpka.jpg  qgprefiurkp7riaqp8iq.jpg  zmguch9k68knqbs1didn.jpg\n",
            "gwoci7gq6flxaaykynxe.jpg  qih8mdozzrgabfukheru.jpg  zmisxaf1xf7acm4ljnff.jpg\n",
            "gxkhuwbtkrtoo2pvfois.jpg  qjjpljwp4j1oelfhd45p.jpg  zmw4wut2cpcwdidnznse.jpg\n",
            "gynxnjr61bewh9lwhbrr.jpg  qmaou3sot0zkfaams9oy.jpg  zneba4tvlqtapyrxcpj2.jpg\n",
            "gyshetm5nrdoxxmlmpta.jpg  qobu3kr0vyrtkxb50xkz.jpg  znqedohq790p9yisx8fl.jpg\n",
            "h2nvoueo7pzgzvs3pih6.jpg  qoswmfghcubrdkriou1k.jpg  zodigixw0rr7f2cxeasb.jpg\n",
            "h5wcvozgnyiycfq25vek.jpg  qotnauqsxiw6jd08sgmj.jpg  zp8xncb0tf3fzg3g64va.jpg\n",
            "h6tqjasvyexf8qexk9c2.jpg  qq2nt9oznwo8p8cbwzb1.jpg  zr8jum7hto5ymmfkdayi.jpg\n",
            "h7eu8z3vrdpzmbcyqk5y.jpg  qqc48hzqfqfbbw0lcesu.jpg  zraixg5vdqb8rpkzlklz.jpg\n",
            "h7ooazs9mck35c923bce.jpg  quebpemarsck9hdl7qup.jpg  zricr65hcodz1eaj1tbo.jpg\n",
            "h9pw2tsyua2xb8w6yxcq.jpg  qurmjkwxqi1fzg9nqbdh.jpg  zsn5wr0lessl6z8wj6ky.jpg\n",
            "hd21ulalpzjnvptr7fdp.jpg  qv7w2w7zclr5y0za9kkk.jpg  zsuszjevretzsxnimvep.jpg\n",
            "hdhlfnktg1mxje5wvetu.jpg  qwsxm9sey5plyccqwoq5.jpg  ztlyi1xqwoeeyb4drud5.jpg\n",
            "hdsexikvmgrwvmusjzm6.jpg  qxpqi3fwhqodhvsz52n5.jpg  ztqvp8pjyocyovlqbz5j.jpg\n",
            "hg6wxuqjc7kgu1kjopwq.jpg  qxtos0glyo1udnevdqpd.jpg  ztvyk5t67hj2dbhrwlyk.jpg\n",
            "hhkzgyc0pv0tctp9rrdm.jpg  qyt3evfzyjci3rub3r9r.jpg  zvapsbzujspyzwzs6sw1.jpg\n",
            "hhupuntmhdrquo5yri7v.jpg  r3bwkowqkbz1r6tg4u21.jpg  zwgwtalwo6wafbp05i9h.jpg\n",
            "hifumfh951pteg2dnffw.jpg  r4ec2cgyuzric1ktl7wo.jpg  zx8zrqfmdqvbfubkxlmu.jpg\n",
            "hjjjucfsqqmwi72c6rko.jpg  r6hzmmbtoq2vmwevvjkq.jpg  zxb732a9oo5c5qczmowl.jpg\n",
            "hjmzhehaqswzia4klepw.jpg  razw1wmf7loeczpqio2e.jpg  zxd8sni4rzise9fyxowc.jpg\n",
            "hjxvicmxhk9nrn7yqfpm.jpg  rbr8i865daovlyfiuumo.jpg  zxj3xxkhcbo2orpve1cz.jpg\n",
            "hlbgnu66okwok1pwttrk.jpg  rd04h4fcm23lmbizjeut.jpg  zz4geccdo9iogt0gihrw.jpg\n",
            "hmixs2tyntdhcq4z6oon.jpg  rdrqsbgl5zraiwivs71n.jpg\n"
          ],
          "name": "stdout"
        }
      ]
    },
    {
      "cell_type": "code",
      "metadata": {
        "id": "foCboc9VlAjE",
        "colab_type": "code",
        "outputId": "bb94c19b-3002-47cc-f74b-897545f8604f",
        "colab": {
          "base_uri": "https://localhost:8080/",
          "height": 34
        }
      },
      "source": [
        "!ls gdrive\n"
      ],
      "execution_count": 0,
      "outputs": [
        {
          "output_type": "stream",
          "text": [
            "'My Drive'  'Shared drives'\n"
          ],
          "name": "stdout"
        }
      ]
    },
    {
      "cell_type": "code",
      "metadata": {
        "id": "8CfpFBstkLEG",
        "colab_type": "code",
        "outputId": "fc32e5a6-c8e9-4879-d8c6-9a2194cf9e35",
        "colab": {
          "base_uri": "https://localhost:8080/",
          "height": 71
        }
      },
      "source": [
        "mypath = '/content/gdrive/Shared drives/Automated Playtesting/Ken/Imagine Visualization/images_DS/'\n",
        "from os import listdir\n",
        "from os.path import isfile, join\n",
        "onlyfiles = [f for f in listdir(mypath) if isfile(join(mypath, f))]\n",
        "listofIMG = []\n",
        "print(onlyfiles)\n",
        "f = open(mypath + 'output.txt', 'w')\n",
        "for item in onlyfiles:\n",
        "  f.write(item)\n",
        "  listofIMG.append(item)\n",
        "f.close()\n",
        "!cat /content/gdrive/Shared\\ drives/Automated\\ Playtesting/Ken/Imagine\\ Visualization/images_DS/output.txt"
      ],
      "execution_count": 0,
      "outputs": [
        {
          "output_type": "stream",
          "text": [
            "['a1xj0fwbumlb1jog4zs4.jpg', 'abr5mieznizo5j6tlwdq.jpg', 'ackb0gizoh3hh65ybvgk.jpg', 'a7gda7w78yfjujyzaaha.jpg', 'aa7nzxeee2ligmxpn8sy.jpg', 'aaykilwpylxef7xujnmh.jpg', 'acvzjdcdft6dyymgghik.jpg', 'afucmet8djvuuo5isrye.jpg', 'agvncqs0ecqv2f29beos.jpg', 'ahk6012oszpklikejtyk.jpg', 'ajylqtgxs1s5cz959hoy.jpg', 'almbuxncezzpemmoqyzr.jpg', 'am3cepxorp7j6lt32veb.jpg', 'amie2hvtim2ylcumipd4.jpg', 'amplixixc4ko2h0csgfv.jpg', 'amuqyntpycg0wchln8vn.jpg', 'amwdasfosiivagmprxhf.jpg', 'apnwpg153gwhzd3d9uzh.jpg', 'asejykh6s7moucaisend.jpg', 'aveoramiualh8anibmcv.jpg', 'awboiigvx0klf6j4e5ze.jpg', 'awcsmulnpzn6gq5zv3w4.jpg', 'b4xqo2assz6s0uhs1va0.jpg', 'b5tljlmigznty4eayrth.jpg', 'b5w8mjj41o8h8qyp977b.jpg', 'b2ueycbesxk9fm8jmlwq.jpg', 'b4msmqsfsbh3u7swkylf.jpg', 'b2zrjpkgaulleekzi315.jpg', 'b3qgrvjjhvuxxbvqm4sp.jpg', 'b3cyhdi535fozlfojmuz.jpg', 'b6bmkmkaiyi8m4fexubl.jpg', 'b6spuza87navdn5dtb9b.jpg', 'bcdjtzlqvzicjq4rkrhl.jpg', 'b8un3siidfpolrzdhcnf.jpg', 'bei33s66em3iuehcdlie.jpg', 'bezegz4ktctvozibfniw.jpg', 'betfwj1dsward1i2sph9.jpg', 'bf8vyepwjxdwb3l7k6un.jpg', 'bfihbga3idn9dql6grr2.jpg', 'bge3o4wak7nvhehn0xa8.jpg', 'bhngkzzi9xjavsgvubv9.jpg', 'bpfhshwed3qvtneqq7kt.jpg', 'bopejguotrbxjeoafor7.jpg', 'bq2igrlri9v4pwvaqd6u.jpg', 'brga1cxylxcm26qwlptn.jpg', 'bpoarwdwrgk9vn8xlhdk.jpg', 'briftfkpksa5iqeohjq8.jpg', 'bwfdndr7jmy9uwxj0llu.jpg', 'bwcbljdlb6c0xfk3pcob.jpg', 'btbfzltrpmzzuvqftrv2.jpg', 'bymxzv42flzzdde2anyy.jpg', 'c0yrw5qgiaa8goc1dyei.jpg', 'byrh4ionvsoxyuiaw9wq.jpg', 'c0eugmzrz7vr5tmry7wr.jpg', 'c3acdiflfcfnridg732c.jpg', 'c4v22vtcsrzexrzlzzid.jpg', 'c7etwgt8guhaqberqi5t.jpg', 'c9wm2fwnmrmhivgfbstc.jpg', 'cdvp8vfb9ifwk0wlqymz.jpg', 'cbnnqgebu0iurkinwaul.jpg', 'ceoghaemqfvuu0eo4nsc.jpg', 'cfek3ofcfnc07kif6hkd.jpg', 'cfxo08dohth6i5x76qys.jpg', 'cgicqwclilctbjv3bw31.jpg', 'ch8f96rplnw7oxf3lv7c.jpg', 'cgwligvqybjqlcloayhi.jpg', 'ci34jk59vjcomh20f9b6.jpg', 'cgkfngqduo2wperfct2a.jpg', 'cinhgqqcdjg3mqujlj43.jpg', 'cjl8x9ynxxgiwa9mo6dr.jpg', 'ckxl9utwid2cwp6dusxo.jpg', 'cmnbhui7jrvw0fsjdywl.jpg', 'cm4epr6xueh0ll5f3evv.jpg', 'co1h9s.jpg', 'cnyfxstdyzs9yqpfyz40.jpg', 'co1h1b.jpg', 'co1hjj.jpg', 'co1hk1.jpg', 'co1h9t.jpg', 'co1hae.jpg', 'co1hk2.jpg', 'co1hk4.jpg', 'co1hme.jpg', 'co1hmy.jpg', 'co1hmx.jpg', 'co1i0a.jpg', 'co1hxb.jpg', 'co1hyb.jpg', 'co1i07.jpg', 'co1i3x.jpg', 'co1i5z.jpg', 'co1i73.jpg', 'co1i79.jpg', 'co1iam.jpg', 'co1ijr.jpg', 'co1ijo.jpg', 'co1ijq.jpg', 'co1ibu.jpg', 'co1iom.jpg', 'co1ip8.jpg', 'co1irm.jpg', 'co1is1.jpg', 'co1isj.jpg', 'co1jjq.jpg', 'co1je3.jpg', 'co1iwn.jpg', 'co1jq8.jpg', 'co1k08.jpg', 'co1k28.jpg', 'co1k3v.jpg', 'co1k40.jpg', 'co1k53.jpg', 'co1k8g.jpg', 'co1kb8.jpg', 'co1ka2.jpg', 'co1ki2.jpg', 'co1kif.jpg', 'co1kqv.jpg', 'co1kqr.jpg', 'co1kr0.jpg', 'co1krb.jpg', 'co1kxm.jpg', 'co1kre.jpg', 'co1krd.jpg', 'co1kyc.jpg', 'co1kyh.jpg', 'co1l04.jpg', 'co1lw9.jpg', 'co1mxi.jpg', 'co1mmv.jpg', 'co1n2b.jpg', 'co1nh6.jpg', 'co1n67.jpg', 'co1n2e.jpg', 'co1q9v.jpg', 'co1o7i.jpg', 'co1oqm.jpg', 'co1nh8.jpg', 'co1nha.jpg', 'co1sba.jpg', 'co1sd6.jpg', 'cprslnio4n0rdqgc5jyd.jpg', 'cqb1vegbabn2rigas0qz.jpg', 'cthxbpxw7zv3hcnryclv.jpg', 'cwjdjhuvur9r44pbcxhi.jpg', 'cscmesfrfkbusuddzjme.jpg', 'cxeqnfv8bbg510jhbdy1.jpg', 'cyelorz2u457c5wvvash.jpg', 'cyeznf6wqkka5yu0ve9u.jpg', 'cywll5s1p9upev1f8qpx.jpg', 'cz8e3sahuu6y8ggqhujt.jpg', 'd26scimlkrfshyxsou7t.jpg', 'd0f1gjcrapcpakjwe39r.jpg', 'd0rwulx7odkcxnvvzrgw.jpg', 'da0jr2bjgunn5lwlqamp.jpg', 'd2uezctehsngfesjphed.jpg', 'd6srfluhht7di3gnusex.jpg', 'dasdnihhwwaabuugisbv.jpg', 'daoppzvifz8wc4f6qcxn.jpg', 'dcofrscp2s21fvrxdjyd.jpg', 'dimltocd1rmb0mi1q4zt.jpg', 'dlydg10sh51kz8oipxjk.jpg', 'dmxbtjtuzdm3ngkbxiqf.jpg', 'dmiiydxj1t9enhb9xwef.jpg', 'dn4btcdlwqanf8yy3diy.jpg', 'dowyfrczkefnjpbkrqd5.jpg', 'dudywsxlvoxy8bjlndl0.jpg', 'dp8xxmqnjiynk1edq7da.jpg', 'e0kktltbqdjbseaj3hdm.jpg', 'e3a0blzr35ailpzv2e3p.jpg', 'e4m6mb64jvom2j0uszvl.jpg', 'e5vitznsbsdpudzqu2ls.jpg', 'eaz1amtmmzyaquaf4dqo.jpg', 'ec7icipfkcwxu9ajygqb.jpg', 'efvalgpudttvoedhmgk8.jpg', 'eedri9uk8jkrhvpzhzxq.jpg', 'ejc226bz66iqokr3dvjx.jpg', 'ehzwp2puma71h9ir3bay.jpg', 'ejqsjniuabwkxmyj7iux.jpg', 'ejbhbnj8rpx5sj3m5gg3.jpg', 'ejs7j0nowjpw1vadmfll.jpg', 'ejsgkldsgktrnrv8ymil.jpg', 'el6hpe7owhafoasfrpe9.jpg', 'em2h6jrrjg17y6v4fsgy.jpg', 'em9mx5nivzqky2kxccph.jpg', 'eprl6okzrhjojsbnjb3n.jpg', 'eqcq528swzxidj5ug5dr.jpg', 'esv3sbzckhozekyaabwv.jpg', 'etbq8xddpptlfujddzdl.jpg', 'erfxvhxh4n6ewp2byglk.jpg', 'etc7qjkdd50d8hou2itp.jpg', 'euxczwzwhpsn5rqemugm.jpg', 'euvhekoasg51tjw2ac5g.jpg', 'ev0mxuxiwkwntyyvwzka.jpg', 'eyuhyos3ebloaecyosdw.jpg', 'ewar90zawavxru52ulgp.jpg', 'eyh7ri2m3l7q5w1ow5zm.jpg', 'ewapb4tl5qsxsjujrx0y.jpg', 'evjmbnkrp0oa0f3hfzyx.jpg', 'f0m4hmzwyvnjlio6amrw.jpg', 'f49wtsyqfvhvpz9n7xqa.jpg', 'f4dkxfwqqe3b2ygqi3cb.jpg', 'f8om4e6q3tpvga69orqt.jpg', 'f9iwylglyla7cjhfzfy6.jpg', 'f62ca3soiys7a5ba9tew.jpg', 'f8oeeu9jlko9krkhjxmk.jpg', 'fbik0cze2t4eawz4sbjg.jpg', 'f9ja7bva40zioscqeart.jpg', 'ffenbgz5xy7rs4ephbyq.jpg', 'fbah0t4yltyfwpomucwv.jpg', 'ffsovqwrty4tzrjb4la4.jpg', 'fh79bkclbiidqhel2o69.jpg', 'ffutfxgn2atauge5diwu.jpg', 'fgseol3gghujsjuxo1ng.jpg', 'fghp4na5akvrq04g95ex.jpg', 'fky1fscmod0ckzhoq1y6.jpg', 'fihfgc4hg4tdlrk4p8qn.jpg', 'fhwoxevqsco6ymlrwlrg.jpg', 'fmimp0q6lre2fs36z85k.jpg', 'fmqomyjjml34yhrxziao.jpg', 'fmr3p0ydsdwypkxylztp.jpg', 'fpzsvlrwgwcmj8ejg6fv.jpg', 'fmryxpriyg08jlvynoeb.jpg', 'fsdvhoq2ekfcerbbynae.jpg', 'frhizo6uma4ruvld3oh0.jpg', 'fr6ywgrkrwxc6oexz3p9.jpg', 'frcrq0pn65mrnhttfxpf.jpg', 'fumiplokboadqkhz3iay.jpg', 'fujczvxlkhfg501wjd1k.jpg', 'ful4m2hms1vjjpapeu34.jpg', 'fxfjlopuhye0wgbhyho1.jpg', 'fzg67wllehl2medzxalv.jpg', 'fyzvzudri5zeydq36sft.jpg', 'g6ciidxw5sv1n1hmgoql.jpg', 'g1tgobbrpcs9vjy5ysqs.jpg', 'g60htccetmjyr07x3pva.jpg', 'g7oqibtufxd6s4rlubwk.jpg', 'gd2b4blza9mojzfbqppt.jpg', 'ga8l8n8rhynd9xueyyku.jpg', 'gd6kiembelg5xy7ixlmv.jpg', 'gejamc9scsztntqdherd.jpg', 'gfwmgzasy8jntrephij2.jpg', 'ggqbbbi5l3sjg8lshyq2.jpg', 'gekbj6e7dfauysadkmvv.jpg', 'gilqhvindfi5ledptfme.jpg', 'gjlhqe7thbmxneu8c6io.jpg', 'gjxqjb1i9b2571ujeeuv.jpg', 'gk6gx0iucntg5mjfef4c.jpg', 'gki4tjq8gxwfepnais4x.jpg', 'gmkcntrydtghqxwcrl4i.jpg', 'gpvntei09hzuveqcqbdm.jpg', 'grhtgdrht8tl38lia1iw.jpg', 'gqqee9nl3o2qiewzr6yv.jpg', 'gsnbzyeewhuehe1o2rnk.jpg', 'gt3le7wuarn6j5wdjbdx.jpg', 'gsprejic4lirha46deci.jpg', 'gwoci7gq6flxaaykynxe.jpg', 'gvuxtexabgyloggdtpka.jpg', 'gtvmdovsbxcwe2915l0c.jpg', 'gvaoexmi87z46y570bhq.jpg', 'gxkhuwbtkrtoo2pvfois.jpg', 'gyshetm5nrdoxxmlmpta.jpg', 'gynxnjr61bewh9lwhbrr.jpg', 'h2nvoueo7pzgzvs3pih6.jpg', 'h9pw2tsyua2xb8w6yxcq.jpg', 'h7eu8z3vrdpzmbcyqk5y.jpg', 'h7ooazs9mck35c923bce.jpg', 'h5wcvozgnyiycfq25vek.jpg', 'h6tqjasvyexf8qexk9c2.jpg', 'hd21ulalpzjnvptr7fdp.jpg', 'hdhlfnktg1mxje5wvetu.jpg', 'hdsexikvmgrwvmusjzm6.jpg', 'hg6wxuqjc7kgu1kjopwq.jpg', 'hifumfh951pteg2dnffw.jpg', 'hhkzgyc0pv0tctp9rrdm.jpg', 'hhupuntmhdrquo5yri7v.jpg', 'hjmzhehaqswzia4klepw.jpg', 'hjxvicmxhk9nrn7yqfpm.jpg', 'hjjjucfsqqmwi72c6rko.jpg', 'hlbgnu66okwok1pwttrk.jpg', 'hmixs2tyntdhcq4z6oon.jpg', 'hnalxbgmovfdfezggczi.jpg', 'hn02ffcytojzffjhxsym.jpg', 'hnbolpudi5vzpmmn2e4k.jpg', 'hnnvimvs91ewhsbnq92q.jpg', 'ho1qu9yveo0gnacfmzov.jpg', 'hpwf4obmf91mfr6zqmty.jpg', 'homex5nynieauwjaedj5.jpg', 'hsomrvlgkhknwub3ax0h.jpg', 'hslusgrqtc64ctpgfdim.jpg', 'htc4twewoffica4ztvsw.jpg', 'htnmqucoseqnnmyrhuri.jpg', 'hw6yjnpddxzyxmubl9iq.jpg', 'i1q1j8v2reg3omwieels.jpg', 'hy0hkfculirrpk3aqwep.jpg', 'i3x2hfzkzlvm99zyzxmj.jpg', 'hwonsdiyzcy5zbpxvudp.jpg', 'i5dzzjififgnsupwkjuq.jpg', 'i5oduziwacurhrhrryv0.jpg', 'i42gzxpiyowl10bv5jev.jpg', 'iat6n74pbnpdcoyqzj1n.jpg', 'iayzzgiajdq60lfw3vvz.jpg', 'i87jq4dnjs7ryttocu2v.jpg', 'icc3imgaa7sy2iyhmc0x.jpg', 'igh5egvyxwvrs7x8ujuq.jpg', 'ifmxahrtxv63tvz4yrxq.jpg', 'ifalqzaawdzdgx8eliui.jpg', 'icjxozuy5b64jfw7hdzt.jpg', 'ie6xt5p06dzdyxerl7dm.jpg', 'icolci4o6q8gsrunpje8.jpg', 'ihuhnimp9a6djai0zfsa.jpg', 'imwllavwz89axugywtog.jpg', 'ihgibkv6jmsexatrzvxo.jpg', 'ilhaik387qodyyq0kbnt.jpg', 'iqlqwsfog1xg6rzwqgts.jpg', 'ihv1vwwjhx36lov7ubfb.jpg', 'io7a1n7lujliy0vikqu1.jpg', 'ir9tmcvhd3m7ctwpxzju.jpg', 'itzvkbsbhkdujq8rffcy.jpg', 'iuc7vtmwiarcpjbxfexp.jpg', 'iupksgek4jce3cjitcnu.jpg', 'ivnbn5mhygcgu3xqysut.jpg', 'ivrrr8svubetqig5tcw8.jpg', 'izxbzt8r4gxwhktr7a99.jpg', 'iye8vf8nt0uxmd4q7zgw.jpg', 'iysnxkvwmdmtvhjbi6rh.jpg', 'iw8hux3tx3azx7n8sppp.jpg', 'iyy4sq1feabebafdw2lu.jpg', 'j0br0ihilzi45c63j8nc.jpg', 'j06sudm56udn2rjzwjs2.jpg', 'j3xp0fvccwrwdw70rjjq.jpg', 'j5byi33dqtr7kp0tywyy.jpg', 'j5cdkelby7qbccnrbrwb.jpg', 'j6mbknvzwz3ntjd6pkvm.jpg', 'jas05e4chfk8srptw7cx.jpg', 'jc412wpbyw1rmj0pgipj.jpg', 'jgqkzuw7nbygxhybiiru.jpg', 'jeyqhohxmftxbgdvbtbh.jpg', 'jclgmu4amw47wmyutyze.jpg', 'jecjjvpett1hzaaasdrt.jpg', 'jgt8mv5e0y7eqa3phwjf.jpg', 'jhuvx0swvazvvpdovca3.jpg', 'jiomcsgevff6koy1rm1r.jpg', 'jikq0dutw6nr8yiosv1d.jpg', 'jiwqqmh3jiu6sgqvug4k.jpg', 'jp6szwqep68vrqwpu1gb.jpg', 'jlesuski2rrx3zon5hve.jpg', 'jp8qvmc2tkb2mv1znftp.jpg', 'jjygilwlo8ka9srii7bl.jpg', 'jq0zneiktvzqmze7yqga.jpg', 'jruhcdfyk7aio5apnry0.jpg', 'jtzpj5pyomhmjk867xtu.jpg', 'julcumw5634uf5wmoqlw.jpg', 'jxcru65ulsmjdpdstjs6.jpg', 'jynq8hdh6kuzdhzxgcep.jpg', 'jx6ot9bigegmfkflp3x2.jpg', 'jz5vcbyrvolznxovmj0y.jpg', 'k0xhcil6guo7l7mfsznx.jpg', 'k1gwinwgmngyyrurdqgc.jpg', 'jyrzlijnyefmuu5ilzmd.jpg', 'k3kucipps3ggq69dbdod.jpg', 'k6e9hmenuvdoafgk092f.jpg', 'k3otjxqcceuokpo9l1r7.jpg', 'k84ilbs9fmtt9eytahlh.jpg', 'k9ze6krp6uqrpgyyzj09.jpg', 'kbp4uewgfglz2ozzgltk.jpg', 'kgrfizzaxi4np9zfpgz9.jpg', 'kdg2rsgihjg8vbdcnvtb.jpg', 'kg0flkvnywk4qnz3jw46.jpg', 'keex28huyujufcmjjklh.jpg', 'kinmlbbdkfagqjmeqaod.jpg', 'kk4ty7xov69eoajsxqi3.jpg', 'kjgpjy9wr2a7trfm461z.jpg', 'kkwvzusuxliifs9ji4cx.jpg', 'kkjnn73gv0ri3ud8pc8f.jpg', 'kolj6y9kfw3mhlvaz8ie.jpg', 'kn3yxtjek0u05dbhj4un.jpg', 'kp4prmd6snpzm6pc9hdn.jpg', 'kq8pncwi3tgveotb4uu2.jpg', 'kpwx2l0mxaskyfwd80jn.jpg', 'kqykqqvdhws8cup81qrn.jpg', 'ktdr5eflo0vbgjuiku5t.jpg', 'kuk17qxsflvcnq4o5uta.jpg', 'kuvzcmbihzocqntfy8zi.jpg', 'kwa7a1stla9ew9aheoj7.jpg', 'kw1bx666vllidb6u9tmc.jpg', 'kupeuv7smrtlwks3wy5x.jpg', 'kyo4uos9nsuasz4dttm6.jpg', 'kzzkht0k8w138pxrpfcl.jpg', 'kxtcnuiyothgkjwpsyow.jpg', 'l17lk7wlfjrqrj7xqgxm.jpg', 'l2dpxt9geokmotbcvhgz.jpg', 'l31kmss2fd1phunvlzhv.jpg', 'l6g967d483hn5xjij9jh.jpg', 'lbmpd1l3kuwtq6yydbhn.jpg', 'l6whny6vrsbahsz93b7g.jpg', 'l9zd8tbiaqdachwx7tg6.jpg', 'l4hdqnkxamonoqdhnsk9.jpg', 'l86lxmxxiwowkpe63fqd.jpg', 'lbhoq9me3afiagunxbsk.jpg', 'lcerstsdm8p62vnxwfin.jpg', 'lggvpskewx5pddicouv4.jpg', 'lgxke2gniftkcd9g1gel.jpg', 'ljv0nkg92kqmvxtdryls.jpg', 'lixpxormhmv6ozaibfys.jpg', 'lizrvmvxynzqjt7gvef7.jpg', 'lijxd0eeirls4zuefhdn.jpg', 'liuz9jirxneq8uo1pfl1.jpg', 'll17vwtqlly11kkcp7pk.jpg', 'lmkbmpdajqzpfrprq6oi.jpg', 'lmynlselyx1bvk0iwte3.jpg', 'logvyroyxiuxqfp7a2eu.jpg', 'lpa5u6csf3j7dqgpuexr.jpg', 'lqzdl1ncwgjufea38ovf.jpg', 'lyzmzpiagjgi6go3ouea.jpg', 'lwm1lsz5wghksdiglfit.jpg', 'lr5cbleskpwivuzytkoi.jpg', 'lwmlwgrj2grvhxvzdanf.jpg', 'luouiyokg36w3tfr3ox1.jpg', 'm3jqwshkdyarg0sf5iaz.jpg', 'm72sowccfvt9ft1hbbwz.jpg', 'm8fgmnuim9byakftthis.jpg', 'm9vue1kpftxotioviwtr.jpg', 'mbyysfgsao5iqg8jy8dq.jpg', 'mcamii2d0onqrvmqxg7h.jpg', 'mdfal2ksgbipwnytuwlj.jpg', 'me3sbldrnslkuqtzw6hf.jpg', 'mg2frjmhmb5losp7akla.jpg', 'mhdmtuamkumzj31dqebs.jpg', 'mhwwstg5hmxfixex1zt6.jpg', 'minkf57da4vu4pbhgzud.jpg', 'mjs5vmdvdo886ftme8cb.jpg', 'mlbas7xkqkqibe5r9ioh.jpg', 'mpizrlxztux5dkao3we1.jpg', 'mpdrsd1bas6blypuxurb.jpg', 'moceo3bzmzuqkeibyug6.jpg', 'mly6sw3g6g5rknmmyind.jpg', 'mqcrztaufrmgjkbokfju.jpg', 'mplabui6kkdwf2nd2xsx.jpg', 'mswfjtwjyflsll4o89fn.jpg', 'mu7zkuviswnwtjm7fwy6.jpg', 'mxixsgupf8wn5bloi7wa.jpg', 'mylfo0tdyhqei8gtged4.jpg', 'myphinolazfcx8bsvug8.jpg', 'n1o29njyyztutrps3msf.jpg', 'n3i7xapdvpwsvbzqcj3t.jpg', 'n1hskupi7bjwsytzmmtn.jpg', 'n5bvadufu2r06wdrnvuv.jpg', 'nbn2ntjpkdh7kim8ukfj.jpg', 'n8vnodlcilkw4k7n4pta.jpg', 'ncp74q9s7elddlcrr6oy.jpg', 'nekbymivgqax7kajgzlz.jpg', 'ncyqr9opwh4wgd2zvfsj.jpg', 'nfexb0elftkynfczubnt.jpg', 'nffdru4h5ee0nbi89ww8.jpg', 'nfggce6ezxpvpoostj0s.jpg', 'ngvquxsjcggpeuhfa4vn.jpg', 'nhltmqx6y5oooxnyew7f.jpg', 'nghmywgd6d2qwle4llmy.jpg', 'nhmowzmqg6c0pbu7oocg.jpg', 'njiapylo91fz3n3k3lwr.jpg', 'nl6toeud4i0cllbynwzt.jpg', 'njizsjkoeik9urfj2fv6.jpg', 'nryksuj1o68fycmjcrjk.jpg', 'nn02lzj13nz9e9donjgl.jpg', 'norswlzkyqqdnhenkazn.jpg', 'ns0bl2mvxmcugelpkbha.jpg', 'np8ylljnaqpvhfdtys5k.jpg', 'ntbjk99qqp6misg4k3ow.jpg', 'nuun7cg3mjk9l8akp8ts.jpg', 'nv47sz4rkp3nucebiagz.jpg', 'nybvwlx2yae3ffppuzel.jpg', 'nz4t3kgz9w9nf0e9qumo.jpg', 'nyxk0yhnba6zzpufgsyz.jpg', 'o0dlfpjvacypbgc1aazd.jpg', 'o0etnajy6rt0bdyxrkox.jpg', 'o52uz7xe0tklubq0ula1.jpg', 'nzgwz8bo67yrkxjyatyv.jpg', 'o53ppajvulwcsm1sxodm.jpg', 'o5mgewjnnkfwxogxlk4d.jpg', 'o5mkccxifz5qku2th8i5.jpg', 'o6fczq1faxp2ktcieyxi.jpg', 'o6kb5vzm43fjp1x2k9fk.jpg', 'odt8xrwh4uelhredai80.jpg', 'oftlhhqspnbxfjyebxsg.jpg', 'ogpkvmy4y0tx4hwgjxbs.jpg', 'oi4w5urhr2e83qeipgej.jpg', 'oh28z5gotmbhgvv6zdpo.jpg', 'onurkzjie7jnpkprr4a2.jpg', 'opliaolpwiiq0hnozcwq.jpg', 'oqdnkfyixrbrsbynburw.jpg', 'orzfgvb37sc2iqc03vza.jpg', 'orunjg1kmkw6bsxurfbe.jpg', 'orscgolg1rmkaztrjyyy.jpg', 'oscbf1gxw6oqrevjzs0y.jpg', 'ouub2qyypykffehdyvcp.jpg', 'owwy5yahuxnvrlevfxp4.jpg', 'ovxqgmgbofabbuwqm2ze.jpg', 'oxhkiebsepxhssum0wn6.jpg', 'oxpd499tvhfxa0udu7ze.jpg', 'oyidhutv8mjmelgp2em7.jpg', 'oytaued9gywiverqdndi.jpg', 'oyljiviod4rmunzkj88j.jpg', 'p3ga6tusicenmout8d09.jpg', 'p23ca0hbt306bzgrrmtr.jpg', 'p1vzdv31fsa10v61q3f6.jpg', 'oyvic4dqh6g1r6gyqu58.jpg', 'p4kw1a68q6gdm44oinx1.jpg', 'p44yny97fk36ycmc1igk.jpg', 'p3vl1ugq6c4jou7vnrp4.jpg', 'pdvmiy3eaetmerkaf8ls.jpg', 'phkmcnmqpozxjodw7gs0.jpg', 'peeejiitsuty0c6rtc3a.jpg', 'pge10iyw7svmmagqhmu3.jpg', 'pjnvrqoqfotah17amo7r.jpg', 'pksqo4k4vdizftajs8vw.jpg', 'pign1eb961oouwktguoz.jpg', 'pltzkljez9eblloie4da.jpg', 'pm1iqmfhe8tcl77kasb0.jpg', 'pmtssgavw6qw7bc5nlzr.jpg', 'pncoecqn9dcrxbobvvjj.jpg', 'poldxv66zcorkogqnnm4.jpg', 'prdbtcla7nmlzp4xucxr.jpg', 'pqzlcwmmzwf5zoenuahk.jpg', 'prxgiwxugwtgpec6nyth.jpg', 'posngflqim0vpkzwxjvg.jpg', 'pv1nqyodlc2rlr7ofqa6.jpg', 'pwwcmyczl8tlekxlrabj.jpg', 'pv7hfrkhjqhkkzfusgks.jpg', 'ptdaannzy5mqfgcxdkxg.jpg', 'pxkofyv8nkejpehjllvx.jpg', 'py5mzt3hfchpd337qbfp.jpg', 'pyetbts9sk1bvoifnk8r.jpg', 'q5rljsuwsycglkaglrrh.jpg', 'qeknnkh6ctxufenmu0wv.jpg', 'q4ztvdwn6uodwzp79mb4.jpg', 'qgprefiurkp7riaqp8iq.jpg', 'q6uudk4tmcbcnhcf7jro.jpg', 'qih8mdozzrgabfukheru.jpg', 'q0zxlwudktsaduks58iq.jpg', 'qjjpljwp4j1oelfhd45p.jpg', 'qmaou3sot0zkfaams9oy.jpg', 'qobu3kr0vyrtkxb50xkz.jpg', 'qotnauqsxiw6jd08sgmj.jpg', 'qoswmfghcubrdkriou1k.jpg', 'qq2nt9oznwo8p8cbwzb1.jpg', 'qurmjkwxqi1fzg9nqbdh.jpg', 'qqc48hzqfqfbbw0lcesu.jpg', 'quebpemarsck9hdl7qup.jpg', 'qv7w2w7zclr5y0za9kkk.jpg', 'qwsxm9sey5plyccqwoq5.jpg', 'qyt3evfzyjci3rub3r9r.jpg', 'qxpqi3fwhqodhvsz52n5.jpg', 'qxtos0glyo1udnevdqpd.jpg', 'r4ec2cgyuzric1ktl7wo.jpg', 'rbr8i865daovlyfiuumo.jpg', 'r3bwkowqkbz1r6tg4u21.jpg', 'r6hzmmbtoq2vmwevvjkq.jpg', 'razw1wmf7loeczpqio2e.jpg', 'rd04h4fcm23lmbizjeut.jpg', 'rdrqsbgl5zraiwivs71n.jpg', 'repifkujlerxikglxqsa.jpg', 'rf9h8vod2wvlntcilcdq.jpg', 'rhuysap9k1uownz4qyjs.jpg', 'rfixzud2xe0mdfabqitu.jpg', 'rjstauyu1cdk1noibfbg.jpg', 'rkid8o2szvzgkkdubgoi.jpg', 'rlxbniwlkvqmtmxbeqq7.jpg', 'rkal8h9eevmcdn6ba0oi.jpg', 'rkufnu2ds8onadl6hpyz.jpg', 'rmgiubchyihg36qtsjr0.jpg', 'romwmznociob3sxjbala.jpg', 'rpvzp4gkw6lhaztzduje.jpg', 'rp8zedoudghiuenhb7h5.jpg', 'rom98qajxifxic9rue4t.jpg', 'rr5yuk2ebuiewgo6z5cb.jpg', 'rrajwggmfdtzx4x58v3d.jpg', 'rusq68tngpnduforgelb.jpg', 'ruxovnkt4kp2qah6bppr.jpg', 'rskxzzlfzej9kwp8ylku.jpg', 'rwkgyzzbeproja6uqncq.jpg', 'rwylghw2479pw7opfats.jpg', 'rxftile8skmjhoetura8.jpg', 'rxudaradljsouu6gdsxd.jpg', 'rz5bhe64jsmzkmfi3ojx.jpg', 'rysfuudle4xjbxvz0whj.jpg', 's1f33wk4un4htqaiapfl.jpg', 'rztqonackttlts5tetlu.jpg', 's2rvrsf7gga69j2ixeaq.jpg', 's3i7bczgchsoe7eylcxa.jpg', 's5jra2uj41yfscnklc4p.jpg', 's7bigmsmopjknpvgxpl4.jpg', 's7if5vet0ibup5pqsck3.jpg', 's7kkfolgjltessbjlipc.jpg', 'scxiixxx2vahmky9ywp2.jpg', 'sbm7n7adxjbqcdg7uihr.jpg', 'se6c2vbq0heremnb3nmp.jpg', 'semuiv0sqtwmbq5tosoi.jpg', 'sf1ckrzl01ymwmzoqv5u.jpg', 'se0b3pl8mgsyijlcw3bc.jpg', 'sftujd1ijr5fftnnbg4o.jpg', 'si2edqd8xwbwe0g5kxrq.jpg', 'slnynw6dsorsnipcjaxp.jpg', 'sgn9n1ncbxjxdhcu6qls.jpg', 'sluoz6zqcp07mot3dv3n.jpg', 'sodltczl65dscxayhdtd.jpg', 'slswjspn0aavk6y5gfbc.jpg', 'sopwsld7agl1hc3bvgir.jpg', 'spe5sdvqtxu1itd6ci8q.jpg', 'spigogqogifyyanyhykh.jpg', 'spm8fhis8cqdaawgyihi.jpg', 'sqnehyg3e6ksqz6qhlju.jpg', 'sqcopzcko7onaxbmb82d.jpg', 'sqmll9ilrt8f8mkp71bz.jpg', 'suqp3pumt46oasdx0rmc.jpg', 'svcxpoln0vqoqlcmi1cg.jpg', 'sufb5gnr42dqjqwi0ixj.jpg', 'ssd6bgo4da18dqrkcj9j.jpg', 'svrnpbgyofmkl4o3hmnw.jpg', 'sxorbig2hltkrf4bpyuv.jpg', 'sy4p4fs5sicrmdzqfsuc.jpg', 't3ipg9d7fin95v0f5ob9.jpg', 'sydh7cxldzf64kevduut.jpg', 't4gwzoi8tc97cbjp7rx7.jpg', 'szzj4vkrxm8ndbrk5r8w.jpg', 't2q87u7zrtijgstfgjd8.jpg', 't5xldp6gn8uvdnx1b34m.jpg', 'ta6rfqancwcvjfmwwtxe.jpg', 't89fir0wnorrwqcdbjf9.jpg', 'tb3eyoiqh38viidblk7x.jpg', 'tcufox9niqbg3bkfrf3x.jpg', 'tcvg2xghprfnbrfcumrl.jpg', 'thygoq69c6yojssdjrku.jpg', 'tk4cfdeaxl1zxk7adysj.jpg', 'tl8unoory18tcbccgzfy.jpg', 'tl1qp7qepvcjo3defejf.jpg', 'tkzm1udxjupgq3ao2drq.jpg', 'tpuzqwpemt6abfw4sb8x.jpg', 'tt4qhplvrfnjddnydlpm.jpg', 'tlurlwhnvdxbascnjdmg.jpg', 'tudhz1zkd7vjn11tcsci.jpg', 'tzf79qqp1z3vw9twd2gf.jpg', 'tvjhvfpvq5s0sbripxqq.jpg', 'tzjadwlja2ozszewjet8.jpg', 'u2qqyalqlpxlsaqfxfbw.jpg', 'u3ourlhra469lbuzxt5d.jpg', 'uaaneswmylsxvniozxev.jpg', 'uae5slsgzrrfexx5rpox.jpg', 'uejqbqhh5r94vdtjsk3l.jpg', 'ubp4topdxibuhzp93mho.jpg', 'ugbjpxdkrcbtg3qnreyw.jpg', 'ugobwfnxzngs75lhqyer.jpg', 'uk0mqqvlunfxf5y2wihe.jpg', 'umtxvynvbaz6ipltmyfi.jpg', 'ukjke0spqgw9ngubxzx9.jpg', 'upv5oyvfekkdk0ty66nc.jpg', 'uqhlmy2bntyvjj2tbjnn.jpg', 'uqxslfrr11kyzdyglzop.jpg', 'urm3pryt629zaksmmasf.jpg', 'uv0r2ps8ssmlwodtkkno.jpg', 'uwy7ayfyngqfxqo0ry32.jpg', 'v19qxg4nr5chnwj89ofa.jpg', 'uymmibbaes4urkwpbuut.jpg', 'v7vmpfrmisvuixxymb3y.jpg', 'v39inomyte5vmqx6ntzj.jpg', 'v3eqnpc9wkakdgyyka9y.jpg', 'v9g3bslanhznvzqn5wqd.jpg', 'v9ylxxfl7a1ucugtexii.jpg', 'v9kqdyy5aaoww6tobq8e.jpg', 'v9pj2n1m6adoaue8vyob.jpg', 'vasmaomnujid1wzfvq4w.jpg', 'vbs36rizrzortcmluz3a.jpg', 'vazaf5zwiclr0pmg3mxo.jpg', 'vcjlxbkx46lojcajkrai.jpg', 'vdhhz3x0arae6iz8qwbh.jpg', 'vdb1gfhjftla6yhrkc8q.jpg', 'vdzu2zz1r8dpxdk0pfme.jpg', 'veqnkdzq0ov3zdjmiwm3.jpg', 'veidnq09h3ir4m3wdigg.jpg', 'vem7ol28uhiy4u0zorei.jpg', 'vf0wemhjxsk5axve9usi.jpg', 'vfxbdhymnvrqhcryqa0j.jpg', 'vfvviqdxbtpmajxjv9j7.jpg', 'vgcfnwwibfrvmliuqvfe.jpg', 'vjxgs72g8fjdkxefwgtl.jpg', 'vggdd4rauskgkfez0tjz.jpg', 'vnl2aep4i1t2gntqsq6v.jpg', 'vmof1pvryudc6ej4d8op.jpg', 'vkgaxxf0d1xwibe0brmh.jpg', 'vlfibel1kq7gqo19mdie.jpg', 'volg09tqzfhpyj3n7mic.jpg', 'vovhpzg8gugtkei2bbyv.jpg', 'vppopooykbiks17ehdr9.jpg', 'vp3mzddxbt9ifdkwfsh6.jpg', 'vqoafyot7zlwwsxklsnj.jpg', 'vqdbuwphqj8jtb82nvck.jpg', 'vtgg9equxazpbnesd0fw.jpg', 'vw8p3jmxdwq7dcgs3s8j.jpg', 'vvcmtn6pvz29hetumdco.jpg', 'vvadmmjux9fnxfkaws3e.jpg', 'vxpfhiy73ewcnbqmniea.jpg', 'vydgolawkfemgauxrlat.jpg', 'vyzdgblbujyrsu3avvtp.jpg', 'vyojuxy1xlzr2ctvyybz.jpg', 'w5swbtqqsbkeumydvndz.jpg', 'vzylylbwo86shehoirwg.jpg', 'w1egbcnimphgrx0spnk3.jpg', 'w5ul2xxp8hbsswjhpufi.jpg', 'w7ghyrcwugqbczkhf2dz.jpg', 'w8b3t2n8wodyc6pawtyf.jpg', 'wazrwyfpkq2tlmpriiqz.jpg', 'wcqxef65gqde2pj2oryi.jpg', 'wfcvef8u7uxyqbsles8w.jpg', 'wclmmvxacosebyectrc3.jpg', 'wielvadmguw66ejadixa.jpg', 'wiiz0dmeqo5fposf2l1c.jpg', 'wg4cztcdaezqfugmsajz.jpg', 'wfevkluofbtfdcllevpf.jpg', 'wmlwaghajssqonnbg8qx.jpg', 'womobdop0iyxpcmfhn85.jpg', 'wpp6cum7aihidsyfsiwg.jpg', 'wquwwkfuejcqqv3r4tyc.jpg', 'wqi5rfws1muexvwmb4xg.jpg', 'wuccgcdnbluqu8lbxpdm.jpg', 'wv6c9corvbqq0lthggdy.jpg', 'wr653y9s8bwixacetygs.jpg', 'wsfiygz6sn4e8kre248p.jpg', 'wz4xey3kvdeod7oeleom.jpg', 'wyqwokkibcxi9wwuknya.jpg', 'wwxb0imvdruuqz38f5mc.jpg', 'wzd0brviqwrlv5xthgef.jpg', 'x5lkixnqflju4f1g2ncd.jpg', 'x0i0tyoqchvk0stqelwa.jpg', 'x7ejfu96e2rs0fmkwy6j.jpg', 'x7ifr7pqbpd2eflqsqag.jpg', 'xbgroe3gpa4ov7cqy3uw.jpg', 'x7zvozyn2xjlesybcwli.jpg', 'xebrs93mubd0raacx84h.jpg', 'xdm4of5v6tqmni6b7tlf.jpg', 'xdbepot5yysfwn2cba3h.jpg', 'xepdgz4znuwdaje8o6aq.jpg', 'xhk5bmbwztu4jathyot7.jpg', 'xi55ydgppmfaq6yjv3kk.jpg', 'xom6yqvgwkgkf2uqs6ki.jpg', 'xqoirt539uqefnzpzrgr.jpg', 'xlctwh5tbf7xsx5rb3cl.jpg', 'xm90xiniunxtutjcmu0g.jpg', 'xsti155usd5gswmyxrof.jpg', 'xsscwghrt3sp9engnsw4.jpg', 'xsntzicbgqjsho8y33zk.jpg', 'xu3jpjgrza26zlgk1zal.jpg', 'xui10crvinzosqdefdhg.jpg', 'xxen8nsa5fdop7rfnohf.jpg', 'y2mec7pfjtmlgdsa8qvz.jpg', 'xzgmuodqvi4ufwa2pmp4.jpg', 'xxjkvbexnuvirbdd2i80.jpg', 'xxg8kaqg43bd9koty86n.jpg', 'y800wq7vqzufjaas2cor.jpg', 'y3bmmwhmupdxo2ku32p5.jpg', 'y6vogdhvnisbcml5fq0j.jpg', 'y8z9zjtkplccexmg1tds.jpg', 'yangxyl3ingpmsejmr7g.jpg', 'yaaqdob16l9mkqprjljj.jpg', 'yeg2ameqcjrzcoqk922c.jpg', 'ybmzvgmoufaqhcssclow.jpg', 'ydcs565arrcbuy8wz2eb.jpg', 'ym75qbz8qhseenfivfoj.jpg', 'yju2rphvszn5v9fls00s.jpg', 'ylvmxyfyqpgwmhrrdqrx.jpg', 'ylbeglgw78dhejl6v7iz.jpg', 'ympuitgzvfqzgtsqnifc.jpg', 'ynxkp6hsuzunb9uhmcpd.jpg', 'yocjumuregte0mzlwmym.jpg', 'ypzxyrluth9f14esyvj4.jpg', 'yozj9ta6ryopd8bccap3.jpg', 'yocxw3xphoy43sr3tzlc.jpg', 'yokkwf9drovesulosieu.jpg', 'yrewrrpa6jipm3nzegbp.jpg', 'yrbak6gwclirgjiyi8hl.jpg', 'yq8l2zc1lextpbaofysf.jpg', 'yrxs6t3o2jtklxtkdnvq.jpg', 'ys7amiqzjwia7porfmvf.jpg', 'yswc7x42jkthbxbvw3cf.jpg', 'yu8npmfzwpjxnyhgbuul.jpg', 'ytnvnng7zc3xbyt7sjux.jpg', 'yunfgaje6qj5ib1fyogc.jpg', 'yuxe72jofdtrcujrgvyt.jpg', 'ywf826xniw3lrivdmwao.jpg', 'yveitrwwwrip73ta7xme.jpg', 'yvyj6pwd0cejlipoy00m.jpg', 'ywnru5vxzvqixxjmf3qe.jpg', 'yx3hh4tmt9ll7mteczge.jpg', 'ywvd4o6gglw89qgx32m6.jpg', 'yybt897hlximkot4rpup.jpg', 'z27dw8ec1yakgizlhr9z.jpg', 'z1rptftskvzwf0lwthfc.jpg', 'yyhl069ikfq6qgnqaa2a.jpg', 'z76edffyjuhszg69ia82.jpg', 'z7lz1arnaukmc3lihwa6.jpg', 'z5v43wyuv39khlktjiny.jpg', 'zaofuvf4rtcuktyhdm32.jpg', 'zaqwqxq7gosscimwggl6.jpg', 'zatjol2j0dl12s8g6kop.jpg', 'zbiz9l7dfydv8vrsq28l.jpg', 'zbmajiyplsoyxnydfy6t.jpg', 'zdph91puk2meoemqgazf.jpg', 'zd85zztuj7kw8pphar3a.jpg', 'ze2hfzenvowgvzktayt6.jpg', 'zewfftywe2dvmdft9va7.jpg', 'zgszmj6fshxhdddn6z8u.jpg', 'zgwru4msrueu0nedghbw.jpg', 'zhhtxkhcr8i051viuexp.jpg', 'zi7rj4so5ijts7r8qdru.jpg', 'zj6mgc20x0jbjxxncnvq.jpg', 'ziimyfpda6dhnf0i9nir.jpg', 'zkhmhw5uxguhntltwufx.jpg', 'zkw81jqyc59hi1wuho1c.jpg', 'zludacgwaun7s3ayufj4.jpg', 'zlwgpji18otwpiirj9mv.jpg', 'zmguch9k68knqbs1didn.jpg', 'zmisxaf1xf7acm4ljnff.jpg', 'zneba4tvlqtapyrxcpj2.jpg', 'zmw4wut2cpcwdidnznse.jpg', 'zodigixw0rr7f2cxeasb.jpg', 'znqedohq790p9yisx8fl.jpg', 'zr8jum7hto5ymmfkdayi.jpg', 'zp8xncb0tf3fzg3g64va.jpg', 'zraixg5vdqb8rpkzlklz.jpg', 'zsn5wr0lessl6z8wj6ky.jpg', 'zricr65hcodz1eaj1tbo.jpg', 'zsuszjevretzsxnimvep.jpg', 'ztlyi1xqwoeeyb4drud5.jpg', 'ztvyk5t67hj2dbhrwlyk.jpg', 'ztqvp8pjyocyovlqbz5j.jpg', 'zwgwtalwo6wafbp05i9h.jpg', 'zvapsbzujspyzwzs6sw1.jpg', 'zxd8sni4rzise9fyxowc.jpg', 'zx8zrqfmdqvbfubkxlmu.jpg', 'zxj3xxkhcbo2orpve1cz.jpg', 'zxb732a9oo5c5qczmowl.jpg', 'zz4geccdo9iogt0gihrw.jpg', 'output.txt']\n",
            "a1xj0fwbumlb1jog4zs4.jpgabr5mieznizo5j6tlwdq.jpgackb0gizoh3hh65ybvgk.jpga7gda7w78yfjujyzaaha.jpgaa7nzxeee2ligmxpn8sy.jpgaaykilwpylxef7xujnmh.jpgacvzjdcdft6dyymgghik.jpgafucmet8djvuuo5isrye.jpgagvncqs0ecqv2f29beos.jpgahk6012oszpklikejtyk.jpgajylqtgxs1s5cz959hoy.jpgalmbuxncezzpemmoqyzr.jpgam3cepxorp7j6lt32veb.jpgamie2hvtim2ylcumipd4.jpgamplixixc4ko2h0csgfv.jpgamuqyntpycg0wchln8vn.jpgamwdasfosiivagmprxhf.jpgapnwpg153gwhzd3d9uzh.jpgasejykh6s7moucaisend.jpgaveoramiualh8anibmcv.jpgawboiigvx0klf6j4e5ze.jpgawcsmulnpzn6gq5zv3w4.jpgb4xqo2assz6s0uhs1va0.jpgb5tljlmigznty4eayrth.jpgb5w8mjj41o8h8qyp977b.jpgb2ueycbesxk9fm8jmlwq.jpgb4msmqsfsbh3u7swkylf.jpgb2zrjpkgaulleekzi315.jpgb3qgrvjjhvuxxbvqm4sp.jpgb3cyhdi535fozlfojmuz.jpgb6bmkmkaiyi8m4fexubl.jpgb6spuza87navdn5dtb9b.jpgbcdjtzlqvzicjq4rkrhl.jpgb8un3siidfpolrzdhcnf.jpgbei33s66em3iuehcdlie.jpgbezegz4ktctvozibfniw.jpgbetfwj1dsward1i2sph9.jpgbf8vyepwjxdwb3l7k6un.jpgbfihbga3idn9dql6grr2.jpgbge3o4wak7nvhehn0xa8.jpgbhngkzzi9xjavsgvubv9.jpgbpfhshwed3qvtneqq7kt.jpgbopejguotrbxjeoafor7.jpgbq2igrlri9v4pwvaqd6u.jpgbrga1cxylxcm26qwlptn.jpgbpoarwdwrgk9vn8xlhdk.jpgbriftfkpksa5iqeohjq8.jpgbwfdndr7jmy9uwxj0llu.jpgbwcbljdlb6c0xfk3pcob.jpgbtbfzltrpmzzuvqftrv2.jpgbymxzv42flzzdde2anyy.jpgc0yrw5qgiaa8goc1dyei.jpgbyrh4ionvsoxyuiaw9wq.jpgc0eugmzrz7vr5tmry7wr.jpgc3acdiflfcfnridg732c.jpgc4v22vtcsrzexrzlzzid.jpgc7etwgt8guhaqberqi5t.jpgc9wm2fwnmrmhivgfbstc.jpgcdvp8vfb9ifwk0wlqymz.jpgcbnnqgebu0iurkinwaul.jpgceoghaemqfvuu0eo4nsc.jpgcfek3ofcfnc07kif6hkd.jpgcfxo08dohth6i5x76qys.jpgcgicqwclilctbjv3bw31.jpgch8f96rplnw7oxf3lv7c.jpgcgwligvqybjqlcloayhi.jpgci34jk59vjcomh20f9b6.jpgcgkfngqduo2wperfct2a.jpgcinhgqqcdjg3mqujlj43.jpgcjl8x9ynxxgiwa9mo6dr.jpgckxl9utwid2cwp6dusxo.jpgcmnbhui7jrvw0fsjdywl.jpgcm4epr6xueh0ll5f3evv.jpgco1h9s.jpgcnyfxstdyzs9yqpfyz40.jpgco1h1b.jpgco1hjj.jpgco1hk1.jpgco1h9t.jpgco1hae.jpgco1hk2.jpgco1hk4.jpgco1hme.jpgco1hmy.jpgco1hmx.jpgco1i0a.jpgco1hxb.jpgco1hyb.jpgco1i07.jpgco1i3x.jpgco1i5z.jpgco1i73.jpgco1i79.jpgco1iam.jpgco1ijr.jpgco1ijo.jpgco1ijq.jpgco1ibu.jpgco1iom.jpgco1ip8.jpgco1irm.jpgco1is1.jpgco1isj.jpgco1jjq.jpgco1je3.jpgco1iwn.jpgco1jq8.jpgco1k08.jpgco1k28.jpgco1k3v.jpgco1k40.jpgco1k53.jpgco1k8g.jpgco1kb8.jpgco1ka2.jpgco1ki2.jpgco1kif.jpgco1kqv.jpgco1kqr.jpgco1kr0.jpgco1krb.jpgco1kxm.jpgco1kre.jpgco1krd.jpgco1kyc.jpgco1kyh.jpgco1l04.jpgco1lw9.jpgco1mxi.jpgco1mmv.jpgco1n2b.jpgco1nh6.jpgco1n67.jpgco1n2e.jpgco1q9v.jpgco1o7i.jpgco1oqm.jpgco1nh8.jpgco1nha.jpgco1sba.jpgco1sd6.jpgcprslnio4n0rdqgc5jyd.jpgcqb1vegbabn2rigas0qz.jpgcthxbpxw7zv3hcnryclv.jpgcwjdjhuvur9r44pbcxhi.jpgcscmesfrfkbusuddzjme.jpgcxeqnfv8bbg510jhbdy1.jpgcyelorz2u457c5wvvash.jpgcyeznf6wqkka5yu0ve9u.jpgcywll5s1p9upev1f8qpx.jpgcz8e3sahuu6y8ggqhujt.jpgd26scimlkrfshyxsou7t.jpgd0f1gjcrapcpakjwe39r.jpgd0rwulx7odkcxnvvzrgw.jpgda0jr2bjgunn5lwlqamp.jpgd2uezctehsngfesjphed.jpgd6srfluhht7di3gnusex.jpgdasdnihhwwaabuugisbv.jpgdaoppzvifz8wc4f6qcxn.jpgdcofrscp2s21fvrxdjyd.jpgdimltocd1rmb0mi1q4zt.jpgdlydg10sh51kz8oipxjk.jpgdmxbtjtuzdm3ngkbxiqf.jpgdmiiydxj1t9enhb9xwef.jpgdn4btcdlwqanf8yy3diy.jpgdowyfrczkefnjpbkrqd5.jpgdudywsxlvoxy8bjlndl0.jpgdp8xxmqnjiynk1edq7da.jpge0kktltbqdjbseaj3hdm.jpge3a0blzr35ailpzv2e3p.jpge4m6mb64jvom2j0uszvl.jpge5vitznsbsdpudzqu2ls.jpgeaz1amtmmzyaquaf4dqo.jpgec7icipfkcwxu9ajygqb.jpgefvalgpudttvoedhmgk8.jpgeedri9uk8jkrhvpzhzxq.jpgejc226bz66iqokr3dvjx.jpgehzwp2puma71h9ir3bay.jpgejqsjniuabwkxmyj7iux.jpgejbhbnj8rpx5sj3m5gg3.jpgejs7j0nowjpw1vadmfll.jpgejsgkldsgktrnrv8ymil.jpgel6hpe7owhafoasfrpe9.jpgem2h6jrrjg17y6v4fsgy.jpgem9mx5nivzqky2kxccph.jpgeprl6okzrhjojsbnjb3n.jpgeqcq528swzxidj5ug5dr.jpgesv3sbzckhozekyaabwv.jpgetbq8xddpptlfujddzdl.jpgerfxvhxh4n6ewp2byglk.jpgetc7qjkdd50d8hou2itp.jpgeuxczwzwhpsn5rqemugm.jpgeuvhekoasg51tjw2ac5g.jpgev0mxuxiwkwntyyvwzka.jpgeyuhyos3ebloaecyosdw.jpgewar90zawavxru52ulgp.jpgeyh7ri2m3l7q5w1ow5zm.jpgewapb4tl5qsxsjujrx0y.jpgevjmbnkrp0oa0f3hfzyx.jpgf0m4hmzwyvnjlio6amrw.jpgf49wtsyqfvhvpz9n7xqa.jpgf4dkxfwqqe3b2ygqi3cb.jpgf8om4e6q3tpvga69orqt.jpgf9iwylglyla7cjhfzfy6.jpgf62ca3soiys7a5ba9tew.jpgf8oeeu9jlko9krkhjxmk.jpgfbik0cze2t4eawz4sbjg.jpgf9ja7bva40zioscqeart.jpgffenbgz5xy7rs4ephbyq.jpgfbah0t4yltyfwpomucwv.jpgffsovqwrty4tzrjb4la4.jpgfh79bkclbiidqhel2o69.jpgffutfxgn2atauge5diwu.jpgfgseol3gghujsjuxo1ng.jpgfghp4na5akvrq04g95ex.jpgfky1fscmod0ckzhoq1y6.jpgfihfgc4hg4tdlrk4p8qn.jpgfhwoxevqsco6ymlrwlrg.jpgfmimp0q6lre2fs36z85k.jpgfmqomyjjml34yhrxziao.jpgfmr3p0ydsdwypkxylztp.jpgfpzsvlrwgwcmj8ejg6fv.jpgfmryxpriyg08jlvynoeb.jpgfsdvhoq2ekfcerbbynae.jpgfrhizo6uma4ruvld3oh0.jpgfr6ywgrkrwxc6oexz3p9.jpgfrcrq0pn65mrnhttfxpf.jpgfumiplokboadqkhz3iay.jpgfujczvxlkhfg501wjd1k.jpgful4m2hms1vjjpapeu34.jpgfxfjlopuhye0wgbhyho1.jpgfzg67wllehl2medzxalv.jpgfyzvzudri5zeydq36sft.jpgg6ciidxw5sv1n1hmgoql.jpgg1tgobbrpcs9vjy5ysqs.jpgg60htccetmjyr07x3pva.jpgg7oqibtufxd6s4rlubwk.jpggd2b4blza9mojzfbqppt.jpgga8l8n8rhynd9xueyyku.jpggd6kiembelg5xy7ixlmv.jpggejamc9scsztntqdherd.jpggfwmgzasy8jntrephij2.jpgggqbbbi5l3sjg8lshyq2.jpggekbj6e7dfauysadkmvv.jpggilqhvindfi5ledptfme.jpggjlhqe7thbmxneu8c6io.jpggjxqjb1i9b2571ujeeuv.jpggk6gx0iucntg5mjfef4c.jpggki4tjq8gxwfepnais4x.jpggmkcntrydtghqxwcrl4i.jpggpvntei09hzuveqcqbdm.jpggrhtgdrht8tl38lia1iw.jpggqqee9nl3o2qiewzr6yv.jpggsnbzyeewhuehe1o2rnk.jpggt3le7wuarn6j5wdjbdx.jpggsprejic4lirha46deci.jpggwoci7gq6flxaaykynxe.jpggvuxtexabgyloggdtpka.jpggtvmdovsbxcwe2915l0c.jpggvaoexmi87z46y570bhq.jpggxkhuwbtkrtoo2pvfois.jpggyshetm5nrdoxxmlmpta.jpggynxnjr61bewh9lwhbrr.jpgh2nvoueo7pzgzvs3pih6.jpgh9pw2tsyua2xb8w6yxcq.jpgh7eu8z3vrdpzmbcyqk5y.jpgh7ooazs9mck35c923bce.jpgh5wcvozgnyiycfq25vek.jpgh6tqjasvyexf8qexk9c2.jpghd21ulalpzjnvptr7fdp.jpghdhlfnktg1mxje5wvetu.jpghdsexikvmgrwvmusjzm6.jpghg6wxuqjc7kgu1kjopwq.jpghifumfh951pteg2dnffw.jpghhkzgyc0pv0tctp9rrdm.jpghhupuntmhdrquo5yri7v.jpghjmzhehaqswzia4klepw.jpghjxvicmxhk9nrn7yqfpm.jpghjjjucfsqqmwi72c6rko.jpghlbgnu66okwok1pwttrk.jpghmixs2tyntdhcq4z6oon.jpghnalxbgmovfdfezggczi.jpghn02ffcytojzffjhxsym.jpghnbolpudi5vzpmmn2e4k.jpghnnvimvs91ewhsbnq92q.jpgho1qu9yveo0gnacfmzov.jpghpwf4obmf91mfr6zqmty.jpghomex5nynieauwjaedj5.jpghsomrvlgkhknwub3ax0h.jpghslusgrqtc64ctpgfdim.jpghtc4twewoffica4ztvsw.jpghtnmqucoseqnnmyrhuri.jpghw6yjnpddxzyxmubl9iq.jpgi1q1j8v2reg3omwieels.jpghy0hkfculirrpk3aqwep.jpgi3x2hfzkzlvm99zyzxmj.jpghwonsdiyzcy5zbpxvudp.jpgi5dzzjififgnsupwkjuq.jpgi5oduziwacurhrhrryv0.jpgi42gzxpiyowl10bv5jev.jpgiat6n74pbnpdcoyqzj1n.jpgiayzzgiajdq60lfw3vvz.jpgi87jq4dnjs7ryttocu2v.jpgicc3imgaa7sy2iyhmc0x.jpgigh5egvyxwvrs7x8ujuq.jpgifmxahrtxv63tvz4yrxq.jpgifalqzaawdzdgx8eliui.jpgicjxozuy5b64jfw7hdzt.jpgie6xt5p06dzdyxerl7dm.jpgicolci4o6q8gsrunpje8.jpgihuhnimp9a6djai0zfsa.jpgimwllavwz89axugywtog.jpgihgibkv6jmsexatrzvxo.jpgilhaik387qodyyq0kbnt.jpgiqlqwsfog1xg6rzwqgts.jpgihv1vwwjhx36lov7ubfb.jpgio7a1n7lujliy0vikqu1.jpgir9tmcvhd3m7ctwpxzju.jpgitzvkbsbhkdujq8rffcy.jpgiuc7vtmwiarcpjbxfexp.jpgiupksgek4jce3cjitcnu.jpgivnbn5mhygcgu3xqysut.jpgivrrr8svubetqig5tcw8.jpgizxbzt8r4gxwhktr7a99.jpgiye8vf8nt0uxmd4q7zgw.jpgiysnxkvwmdmtvhjbi6rh.jpgiw8hux3tx3azx7n8sppp.jpgiyy4sq1feabebafdw2lu.jpgj0br0ihilzi45c63j8nc.jpgj06sudm56udn2rjzwjs2.jpgj3xp0fvccwrwdw70rjjq.jpgj5byi33dqtr7kp0tywyy.jpgj5cdkelby7qbccnrbrwb.jpgj6mbknvzwz3ntjd6pkvm.jpgjas05e4chfk8srptw7cx.jpgjc412wpbyw1rmj0pgipj.jpgjgqkzuw7nbygxhybiiru.jpgjeyqhohxmftxbgdvbtbh.jpgjclgmu4amw47wmyutyze.jpgjecjjvpett1hzaaasdrt.jpgjgt8mv5e0y7eqa3phwjf.jpgjhuvx0swvazvvpdovca3.jpgjiomcsgevff6koy1rm1r.jpgjikq0dutw6nr8yiosv1d.jpgjiwqqmh3jiu6sgqvug4k.jpgjp6szwqep68vrqwpu1gb.jpgjlesuski2rrx3zon5hve.jpgjp8qvmc2tkb2mv1znftp.jpgjjygilwlo8ka9srii7bl.jpgjq0zneiktvzqmze7yqga.jpgjruhcdfyk7aio5apnry0.jpgjtzpj5pyomhmjk867xtu.jpgjulcumw5634uf5wmoqlw.jpgjxcru65ulsmjdpdstjs6.jpgjynq8hdh6kuzdhzxgcep.jpgjx6ot9bigegmfkflp3x2.jpgjz5vcbyrvolznxovmj0y.jpgk0xhcil6guo7l7mfsznx.jpgk1gwinwgmngyyrurdqgc.jpgjyrzlijnyefmuu5ilzmd.jpgk3kucipps3ggq69dbdod.jpgk6e9hmenuvdoafgk092f.jpgk3otjxqcceuokpo9l1r7.jpgk84ilbs9fmtt9eytahlh.jpgk9ze6krp6uqrpgyyzj09.jpgkbp4uewgfglz2ozzgltk.jpgkgrfizzaxi4np9zfpgz9.jpgkdg2rsgihjg8vbdcnvtb.jpgkg0flkvnywk4qnz3jw46.jpgkeex28huyujufcmjjklh.jpgkinmlbbdkfagqjmeqaod.jpgkk4ty7xov69eoajsxqi3.jpgkjgpjy9wr2a7trfm461z.jpgkkwvzusuxliifs9ji4cx.jpgkkjnn73gv0ri3ud8pc8f.jpgkolj6y9kfw3mhlvaz8ie.jpgkn3yxtjek0u05dbhj4un.jpgkp4prmd6snpzm6pc9hdn.jpgkq8pncwi3tgveotb4uu2.jpgkpwx2l0mxaskyfwd80jn.jpgkqykqqvdhws8cup81qrn.jpgktdr5eflo0vbgjuiku5t.jpgkuk17qxsflvcnq4o5uta.jpgkuvzcmbihzocqntfy8zi.jpgkwa7a1stla9ew9aheoj7.jpgkw1bx666vllidb6u9tmc.jpgkupeuv7smrtlwks3wy5x.jpgkyo4uos9nsuasz4dttm6.jpgkzzkht0k8w138pxrpfcl.jpgkxtcnuiyothgkjwpsyow.jpgl17lk7wlfjrqrj7xqgxm.jpgl2dpxt9geokmotbcvhgz.jpgl31kmss2fd1phunvlzhv.jpgl6g967d483hn5xjij9jh.jpglbmpd1l3kuwtq6yydbhn.jpgl6whny6vrsbahsz93b7g.jpgl9zd8tbiaqdachwx7tg6.jpgl4hdqnkxamonoqdhnsk9.jpgl86lxmxxiwowkpe63fqd.jpglbhoq9me3afiagunxbsk.jpglcerstsdm8p62vnxwfin.jpglggvpskewx5pddicouv4.jpglgxke2gniftkcd9g1gel.jpgljv0nkg92kqmvxtdryls.jpglixpxormhmv6ozaibfys.jpglizrvmvxynzqjt7gvef7.jpglijxd0eeirls4zuefhdn.jpgliuz9jirxneq8uo1pfl1.jpgll17vwtqlly11kkcp7pk.jpglmkbmpdajqzpfrprq6oi.jpglmynlselyx1bvk0iwte3.jpglogvyroyxiuxqfp7a2eu.jpglpa5u6csf3j7dqgpuexr.jpglqzdl1ncwgjufea38ovf.jpglyzmzpiagjgi6go3ouea.jpglwm1lsz5wghksdiglfit.jpglr5cbleskpwivuzytkoi.jpglwmlwgrj2grvhxvzdanf.jpgluouiyokg36w3tfr3ox1.jpgm3jqwshkdyarg0sf5iaz.jpgm72sowccfvt9ft1hbbwz.jpgm8fgmnuim9byakftthis.jpgm9vue1kpftxotioviwtr.jpgmbyysfgsao5iqg8jy8dq.jpgmcamii2d0onqrvmqxg7h.jpgmdfal2ksgbipwnytuwlj.jpgme3sbldrnslkuqtzw6hf.jpgmg2frjmhmb5losp7akla.jpgmhdmtuamkumzj31dqebs.jpgmhwwstg5hmxfixex1zt6.jpgminkf57da4vu4pbhgzud.jpgmjs5vmdvdo886ftme8cb.jpgmlbas7xkqkqibe5r9ioh.jpgmpizrlxztux5dkao3we1.jpgmpdrsd1bas6blypuxurb.jpgmoceo3bzmzuqkeibyug6.jpgmly6sw3g6g5rknmmyind.jpgmqcrztaufrmgjkbokfju.jpgmplabui6kkdwf2nd2xsx.jpgmswfjtwjyflsll4o89fn.jpgmu7zkuviswnwtjm7fwy6.jpgmxixsgupf8wn5bloi7wa.jpgmylfo0tdyhqei8gtged4.jpgmyphinolazfcx8bsvug8.jpgn1o29njyyztutrps3msf.jpgn3i7xapdvpwsvbzqcj3t.jpgn1hskupi7bjwsytzmmtn.jpgn5bvadufu2r06wdrnvuv.jpgnbn2ntjpkdh7kim8ukfj.jpgn8vnodlcilkw4k7n4pta.jpgncp74q9s7elddlcrr6oy.jpgnekbymivgqax7kajgzlz.jpgncyqr9opwh4wgd2zvfsj.jpgnfexb0elftkynfczubnt.jpgnffdru4h5ee0nbi89ww8.jpgnfggce6ezxpvpoostj0s.jpgngvquxsjcggpeuhfa4vn.jpgnhltmqx6y5oooxnyew7f.jpgnghmywgd6d2qwle4llmy.jpgnhmowzmqg6c0pbu7oocg.jpgnjiapylo91fz3n3k3lwr.jpgnl6toeud4i0cllbynwzt.jpgnjizsjkoeik9urfj2fv6.jpgnryksuj1o68fycmjcrjk.jpgnn02lzj13nz9e9donjgl.jpgnorswlzkyqqdnhenkazn.jpgns0bl2mvxmcugelpkbha.jpgnp8ylljnaqpvhfdtys5k.jpgntbjk99qqp6misg4k3ow.jpgnuun7cg3mjk9l8akp8ts.jpgnv47sz4rkp3nucebiagz.jpgnybvwlx2yae3ffppuzel.jpgnz4t3kgz9w9nf0e9qumo.jpgnyxk0yhnba6zzpufgsyz.jpgo0dlfpjvacypbgc1aazd.jpgo0etnajy6rt0bdyxrkox.jpgo52uz7xe0tklubq0ula1.jpgnzgwz8bo67yrkxjyatyv.jpgo53ppajvulwcsm1sxodm.jpgo5mgewjnnkfwxogxlk4d.jpgo5mkccxifz5qku2th8i5.jpgo6fczq1faxp2ktcieyxi.jpgo6kb5vzm43fjp1x2k9fk.jpgodt8xrwh4uelhredai80.jpgoftlhhqspnbxfjyebxsg.jpgogpkvmy4y0tx4hwgjxbs.jpgoi4w5urhr2e83qeipgej.jpgoh28z5gotmbhgvv6zdpo.jpgonurkzjie7jnpkprr4a2.jpgopliaolpwiiq0hnozcwq.jpgoqdnkfyixrbrsbynburw.jpgorzfgvb37sc2iqc03vza.jpgorunjg1kmkw6bsxurfbe.jpgorscgolg1rmkaztrjyyy.jpgoscbf1gxw6oqrevjzs0y.jpgouub2qyypykffehdyvcp.jpgowwy5yahuxnvrlevfxp4.jpgovxqgmgbofabbuwqm2ze.jpgoxhkiebsepxhssum0wn6.jpgoxpd499tvhfxa0udu7ze.jpgoyidhutv8mjmelgp2em7.jpgoytaued9gywiverqdndi.jpgoyljiviod4rmunzkj88j.jpgp3ga6tusicenmout8d09.jpgp23ca0hbt306bzgrrmtr.jpgp1vzdv31fsa10v61q3f6.jpgoyvic4dqh6g1r6gyqu58.jpgp4kw1a68q6gdm44oinx1.jpgp44yny97fk36ycmc1igk.jpgp3vl1ugq6c4jou7vnrp4.jpgpdvmiy3eaetmerkaf8ls.jpgphkmcnmqpozxjodw7gs0.jpgpeeejiitsuty0c6rtc3a.jpgpge10iyw7svmmagqhmu3.jpgpjnvrqoqfotah17amo7r.jpgpksqo4k4vdizftajs8vw.jpgpign1eb961oouwktguoz.jpgpltzkljez9eblloie4da.jpgpm1iqmfhe8tcl77kasb0.jpgpmtssgavw6qw7bc5nlzr.jpgpncoecqn9dcrxbobvvjj.jpgpoldxv66zcorkogqnnm4.jpgprdbtcla7nmlzp4xucxr.jpgpqzlcwmmzwf5zoenuahk.jpgprxgiwxugwtgpec6nyth.jpgposngflqim0vpkzwxjvg.jpgpv1nqyodlc2rlr7ofqa6.jpgpwwcmyczl8tlekxlrabj.jpgpv7hfrkhjqhkkzfusgks.jpgptdaannzy5mqfgcxdkxg.jpgpxkofyv8nkejpehjllvx.jpgpy5mzt3hfchpd337qbfp.jpgpyetbts9sk1bvoifnk8r.jpgq5rljsuwsycglkaglrrh.jpgqeknnkh6ctxufenmu0wv.jpgq4ztvdwn6uodwzp79mb4.jpgqgprefiurkp7riaqp8iq.jpgq6uudk4tmcbcnhcf7jro.jpgqih8mdozzrgabfukheru.jpgq0zxlwudktsaduks58iq.jpgqjjpljwp4j1oelfhd45p.jpgqmaou3sot0zkfaams9oy.jpgqobu3kr0vyrtkxb50xkz.jpgqotnauqsxiw6jd08sgmj.jpgqoswmfghcubrdkriou1k.jpgqq2nt9oznwo8p8cbwzb1.jpgqurmjkwxqi1fzg9nqbdh.jpgqqc48hzqfqfbbw0lcesu.jpgquebpemarsck9hdl7qup.jpgqv7w2w7zclr5y0za9kkk.jpgqwsxm9sey5plyccqwoq5.jpgqyt3evfzyjci3rub3r9r.jpgqxpqi3fwhqodhvsz52n5.jpgqxtos0glyo1udnevdqpd.jpgr4ec2cgyuzric1ktl7wo.jpgrbr8i865daovlyfiuumo.jpgr3bwkowqkbz1r6tg4u21.jpgr6hzmmbtoq2vmwevvjkq.jpgrazw1wmf7loeczpqio2e.jpgrd04h4fcm23lmbizjeut.jpgrdrqsbgl5zraiwivs71n.jpgrepifkujlerxikglxqsa.jpgrf9h8vod2wvlntcilcdq.jpgrhuysap9k1uownz4qyjs.jpgrfixzud2xe0mdfabqitu.jpgrjstauyu1cdk1noibfbg.jpgrkid8o2szvzgkkdubgoi.jpgrlxbniwlkvqmtmxbeqq7.jpgrkal8h9eevmcdn6ba0oi.jpgrkufnu2ds8onadl6hpyz.jpgrmgiubchyihg36qtsjr0.jpgromwmznociob3sxjbala.jpgrpvzp4gkw6lhaztzduje.jpgrp8zedoudghiuenhb7h5.jpgrom98qajxifxic9rue4t.jpgrr5yuk2ebuiewgo6z5cb.jpgrrajwggmfdtzx4x58v3d.jpgrusq68tngpnduforgelb.jpgruxovnkt4kp2qah6bppr.jpgrskxzzlfzej9kwp8ylku.jpgrwkgyzzbeproja6uqncq.jpgrwylghw2479pw7opfats.jpgrxftile8skmjhoetura8.jpgrxudaradljsouu6gdsxd.jpgrz5bhe64jsmzkmfi3ojx.jpgrysfuudle4xjbxvz0whj.jpgs1f33wk4un4htqaiapfl.jpgrztqonackttlts5tetlu.jpgs2rvrsf7gga69j2ixeaq.jpgs3i7bczgchsoe7eylcxa.jpgs5jra2uj41yfscnklc4p.jpgs7bigmsmopjknpvgxpl4.jpgs7if5vet0ibup5pqsck3.jpgs7kkfolgjltessbjlipc.jpgscxiixxx2vahmky9ywp2.jpgsbm7n7adxjbqcdg7uihr.jpgse6c2vbq0heremnb3nmp.jpgsemuiv0sqtwmbq5tosoi.jpgsf1ckrzl01ymwmzoqv5u.jpgse0b3pl8mgsyijlcw3bc.jpgsftujd1ijr5fftnnbg4o.jpgsi2edqd8xwbwe0g5kxrq.jpgslnynw6dsorsnipcjaxp.jpgsgn9n1ncbxjxdhcu6qls.jpgsluoz6zqcp07mot3dv3n.jpgsodltczl65dscxayhdtd.jpgslswjspn0aavk6y5gfbc.jpgsopwsld7agl1hc3bvgir.jpgspe5sdvqtxu1itd6ci8q.jpgspigogqogifyyanyhykh.jpgspm8fhis8cqdaawgyihi.jpgsqnehyg3e6ksqz6qhlju.jpgsqcopzcko7onaxbmb82d.jpgsqmll9ilrt8f8mkp71bz.jpgsuqp3pumt46oasdx0rmc.jpgsvcxpoln0vqoqlcmi1cg.jpgsufb5gnr42dqjqwi0ixj.jpgssd6bgo4da18dqrkcj9j.jpgsvrnpbgyofmkl4o3hmnw.jpgsxorbig2hltkrf4bpyuv.jpgsy4p4fs5sicrmdzqfsuc.jpgt3ipg9d7fin95v0f5ob9.jpgsydh7cxldzf64kevduut.jpgt4gwzoi8tc97cbjp7rx7.jpgszzj4vkrxm8ndbrk5r8w.jpgt2q87u7zrtijgstfgjd8.jpgt5xldp6gn8uvdnx1b34m.jpgta6rfqancwcvjfmwwtxe.jpgt89fir0wnorrwqcdbjf9.jpgtb3eyoiqh38viidblk7x.jpgtcufox9niqbg3bkfrf3x.jpgtcvg2xghprfnbrfcumrl.jpgthygoq69c6yojssdjrku.jpgtk4cfdeaxl1zxk7adysj.jpgtl8unoory18tcbccgzfy.jpgtl1qp7qepvcjo3defejf.jpgtkzm1udxjupgq3ao2drq.jpgtpuzqwpemt6abfw4sb8x.jpgtt4qhplvrfnjddnydlpm.jpgtlurlwhnvdxbascnjdmg.jpgtudhz1zkd7vjn11tcsci.jpgtzf79qqp1z3vw9twd2gf.jpgtvjhvfpvq5s0sbripxqq.jpgtzjadwlja2ozszewjet8.jpgu2qqyalqlpxlsaqfxfbw.jpgu3ourlhra469lbuzxt5d.jpguaaneswmylsxvniozxev.jpguae5slsgzrrfexx5rpox.jpguejqbqhh5r94vdtjsk3l.jpgubp4topdxibuhzp93mho.jpgugbjpxdkrcbtg3qnreyw.jpgugobwfnxzngs75lhqyer.jpguk0mqqvlunfxf5y2wihe.jpgumtxvynvbaz6ipltmyfi.jpgukjke0spqgw9ngubxzx9.jpgupv5oyvfekkdk0ty66nc.jpguqhlmy2bntyvjj2tbjnn.jpguqxslfrr11kyzdyglzop.jpgurm3pryt629zaksmmasf.jpguv0r2ps8ssmlwodtkkno.jpguwy7ayfyngqfxqo0ry32.jpgv19qxg4nr5chnwj89ofa.jpguymmibbaes4urkwpbuut.jpgv7vmpfrmisvuixxymb3y.jpgv39inomyte5vmqx6ntzj.jpgv3eqnpc9wkakdgyyka9y.jpgv9g3bslanhznvzqn5wqd.jpgv9ylxxfl7a1ucugtexii.jpgv9kqdyy5aaoww6tobq8e.jpgv9pj2n1m6adoaue8vyob.jpgvasmaomnujid1wzfvq4w.jpgvbs36rizrzortcmluz3a.jpgvazaf5zwiclr0pmg3mxo.jpgvcjlxbkx46lojcajkrai.jpgvdhhz3x0arae6iz8qwbh.jpgvdb1gfhjftla6yhrkc8q.jpgvdzu2zz1r8dpxdk0pfme.jpgveqnkdzq0ov3zdjmiwm3.jpgveidnq09h3ir4m3wdigg.jpgvem7ol28uhiy4u0zorei.jpgvf0wemhjxsk5axve9usi.jpgvfxbdhymnvrqhcryqa0j.jpgvfvviqdxbtpmajxjv9j7.jpgvgcfnwwibfrvmliuqvfe.jpgvjxgs72g8fjdkxefwgtl.jpgvggdd4rauskgkfez0tjz.jpgvnl2aep4i1t2gntqsq6v.jpgvmof1pvryudc6ej4d8op.jpgvkgaxxf0d1xwibe0brmh.jpgvlfibel1kq7gqo19mdie.jpgvolg09tqzfhpyj3n7mic.jpgvovhpzg8gugtkei2bbyv.jpgvppopooykbiks17ehdr9.jpgvp3mzddxbt9ifdkwfsh6.jpgvqoafyot7zlwwsxklsnj.jpgvqdbuwphqj8jtb82nvck.jpgvtgg9equxazpbnesd0fw.jpgvw8p3jmxdwq7dcgs3s8j.jpgvvcmtn6pvz29hetumdco.jpgvvadmmjux9fnxfkaws3e.jpgvxpfhiy73ewcnbqmniea.jpgvydgolawkfemgauxrlat.jpgvyzdgblbujyrsu3avvtp.jpgvyojuxy1xlzr2ctvyybz.jpgw5swbtqqsbkeumydvndz.jpgvzylylbwo86shehoirwg.jpgw1egbcnimphgrx0spnk3.jpgw5ul2xxp8hbsswjhpufi.jpgw7ghyrcwugqbczkhf2dz.jpgw8b3t2n8wodyc6pawtyf.jpgwazrwyfpkq2tlmpriiqz.jpgwcqxef65gqde2pj2oryi.jpgwfcvef8u7uxyqbsles8w.jpgwclmmvxacosebyectrc3.jpgwielvadmguw66ejadixa.jpgwiiz0dmeqo5fposf2l1c.jpgwg4cztcdaezqfugmsajz.jpgwfevkluofbtfdcllevpf.jpgwmlwaghajssqonnbg8qx.jpgwomobdop0iyxpcmfhn85.jpgwpp6cum7aihidsyfsiwg.jpgwquwwkfuejcqqv3r4tyc.jpgwqi5rfws1muexvwmb4xg.jpgwuccgcdnbluqu8lbxpdm.jpgwv6c9corvbqq0lthggdy.jpgwr653y9s8bwixacetygs.jpgwsfiygz6sn4e8kre248p.jpgwz4xey3kvdeod7oeleom.jpgwyqwokkibcxi9wwuknya.jpgwwxb0imvdruuqz38f5mc.jpgwzd0brviqwrlv5xthgef.jpgx5lkixnqflju4f1g2ncd.jpgx0i0tyoqchvk0stqelwa.jpgx7ejfu96e2rs0fmkwy6j.jpgx7ifr7pqbpd2eflqsqag.jpgxbgroe3gpa4ov7cqy3uw.jpgx7zvozyn2xjlesybcwli.jpgxebrs93mubd0raacx84h.jpgxdm4of5v6tqmni6b7tlf.jpgxdbepot5yysfwn2cba3h.jpgxepdgz4znuwdaje8o6aq.jpgxhk5bmbwztu4jathyot7.jpgxi55ydgppmfaq6yjv3kk.jpgxom6yqvgwkgkf2uqs6ki.jpgxqoirt539uqefnzpzrgr.jpgxlctwh5tbf7xsx5rb3cl.jpgxm90xiniunxtutjcmu0g.jpgxsti155usd5gswmyxrof.jpgxsscwghrt3sp9engnsw4.jpgxsntzicbgqjsho8y33zk.jpgxu3jpjgrza26zlgk1zal.jpgxui10crvinzosqdefdhg.jpgxxen8nsa5fdop7rfnohf.jpgy2mec7pfjtmlgdsa8qvz.jpgxzgmuodqvi4ufwa2pmp4.jpgxxjkvbexnuvirbdd2i80.jpgxxg8kaqg43bd9koty86n.jpgy800wq7vqzufjaas2cor.jpgy3bmmwhmupdxo2ku32p5.jpgy6vogdhvnisbcml5fq0j.jpgy8z9zjtkplccexmg1tds.jpgyangxyl3ingpmsejmr7g.jpgyaaqdob16l9mkqprjljj.jpgyeg2ameqcjrzcoqk922c.jpgybmzvgmoufaqhcssclow.jpgydcs565arrcbuy8wz2eb.jpgym75qbz8qhseenfivfoj.jpgyju2rphvszn5v9fls00s.jpgylvmxyfyqpgwmhrrdqrx.jpgylbeglgw78dhejl6v7iz.jpgympuitgzvfqzgtsqnifc.jpgynxkp6hsuzunb9uhmcpd.jpgyocjumuregte0mzlwmym.jpgypzxyrluth9f14esyvj4.jpgyozj9ta6ryopd8bccap3.jpgyocxw3xphoy43sr3tzlc.jpgyokkwf9drovesulosieu.jpgyrewrrpa6jipm3nzegbp.jpgyrbak6gwclirgjiyi8hl.jpgyq8l2zc1lextpbaofysf.jpgyrxs6t3o2jtklxtkdnvq.jpgys7amiqzjwia7porfmvf.jpgyswc7x42jkthbxbvw3cf.jpgyu8npmfzwpjxnyhgbuul.jpgytnvnng7zc3xbyt7sjux.jpgyunfgaje6qj5ib1fyogc.jpgyuxe72jofdtrcujrgvyt.jpgywf826xniw3lrivdmwao.jpgyveitrwwwrip73ta7xme.jpgyvyj6pwd0cejlipoy00m.jpgywnru5vxzvqixxjmf3qe.jpgyx3hh4tmt9ll7mteczge.jpgywvd4o6gglw89qgx32m6.jpgyybt897hlximkot4rpup.jpgz27dw8ec1yakgizlhr9z.jpgz1rptftskvzwf0lwthfc.jpgyyhl069ikfq6qgnqaa2a.jpgz76edffyjuhszg69ia82.jpgz7lz1arnaukmc3lihwa6.jpgz5v43wyuv39khlktjiny.jpgzaofuvf4rtcuktyhdm32.jpgzaqwqxq7gosscimwggl6.jpgzatjol2j0dl12s8g6kop.jpgzbiz9l7dfydv8vrsq28l.jpgzbmajiyplsoyxnydfy6t.jpgzdph91puk2meoemqgazf.jpgzd85zztuj7kw8pphar3a.jpgze2hfzenvowgvzktayt6.jpgzewfftywe2dvmdft9va7.jpgzgszmj6fshxhdddn6z8u.jpgzgwru4msrueu0nedghbw.jpgzhhtxkhcr8i051viuexp.jpgzi7rj4so5ijts7r8qdru.jpgzj6mgc20x0jbjxxncnvq.jpgziimyfpda6dhnf0i9nir.jpgzkhmhw5uxguhntltwufx.jpgzkw81jqyc59hi1wuho1c.jpgzludacgwaun7s3ayufj4.jpgzlwgpji18otwpiirj9mv.jpgzmguch9k68knqbs1didn.jpgzmisxaf1xf7acm4ljnff.jpgzneba4tvlqtapyrxcpj2.jpgzmw4wut2cpcwdidnznse.jpgzodigixw0rr7f2cxeasb.jpgznqedohq790p9yisx8fl.jpgzr8jum7hto5ymmfkdayi.jpgzp8xncb0tf3fzg3g64va.jpgzraixg5vdqb8rpkzlklz.jpgzsn5wr0lessl6z8wj6ky.jpgzricr65hcodz1eaj1tbo.jpgzsuszjevretzsxnimvep.jpgztlyi1xqwoeeyb4drud5.jpgztvyk5t67hj2dbhrwlyk.jpgztqvp8pjyocyovlqbz5j.jpgzwgwtalwo6wafbp05i9h.jpgzvapsbzujspyzwzs6sw1.jpgzxd8sni4rzise9fyxowc.jpgzx8zrqfmdqvbfubkxlmu.jpgzxj3xxkhcbo2orpve1cz.jpgzxb732a9oo5c5qczmowl.jpgzz4geccdo9iogt0gihrw.jpgoutput.txt"
          ],
          "name": "stdout"
        }
      ]
    },
    {
      "cell_type": "code",
      "metadata": {
        "id": "mYIrN-oD60P3",
        "colab_type": "code",
        "colab": {}
      },
      "source": [
        "from PIL import Image, ImageDraw, ImageFont\n",
        "import torchvision.models as models #imports our pytorch training model to ease our training process\n",
        "from fastai.layers import MSELossFlat\n",
        "# MSELossFlat\n",
        "bs,size = 32, 128 #image size\n",
        "arch = models.resnet34 #pytorch module -> import\n",
        "wd = 1e-3\n",
        "y_range = (-3.,3.)\n",
        "loss_gen = MSELossFlat() #create a learner for a scalar"
      ],
      "execution_count": 0,
      "outputs": []
    },
    {
      "cell_type": "code",
      "metadata": {
        "id": "r481fn8Q6TY2",
        "colab_type": "code",
        "colab": {}
      },
      "source": [
        "#here is our autoencoder\n",
        "def create_gen_learner():\n",
        "    return unet_learner(data_gen, arch, wd=wd, blur=True, norm_type=NormType.Weight,\n",
        "                        self_attention=True, y_range=y_range,loss_func=loss_gen)"
      ],
      "execution_count": 0,
      "outputs": []
    },
    {
      "cell_type": "code",
      "metadata": {
        "id": "SoPpV9UA60pX",
        "colab_type": "code",
        "colab": {}
      },
      "source": [
        "learn_gen = create_gen_learner()"
      ],
      "execution_count": 0,
      "outputs": []
    },
    {
      "cell_type": "code",
      "metadata": {
        "id": "mT8r1lfQ7HJM",
        "colab_type": "code",
        "colab": {}
      },
      "source": [
        "learn_gen.fit_one_cycle(2, pct_start)"
      ],
      "execution_count": 0,
      "outputs": []
    },
    {
      "cell_type": "code",
      "metadata": {
        "id": "XQbtyNyq7L-i",
        "colab_type": "code",
        "colab": {}
      },
      "source": [
        "learn_gen.unfreeze()"
      ],
      "execution_count": 0,
      "outputs": []
    },
    {
      "cell_type": "code",
      "metadata": {
        "id": "pdgggPC67Q8D",
        "colab_type": "code",
        "colab": {}
      },
      "source": [
        "learn_gen.fit_one_cycle(3, slice(1e-6,1e-3))"
      ],
      "execution_count": 0,
      "outputs": []
    },
    {
      "cell_type": "code",
      "metadata": {
        "id": "8xjkGHvNvpRE",
        "colab_type": "code",
        "outputId": "5b46b02a-318a-4500-fae0-1cdfadd4c625",
        "colab": {
          "base_uri": "https://localhost:8080/",
          "height": 54
        }
      },
      "source": [
        "from PIL import Image\n",
        "\n",
        "correctImages = []\n",
        "for img in listofIMG:\n",
        "  break\n",
        "  try:\n",
        "    foo = Image.open(mypath + img)\n",
        "    # print(foo.size)\n",
        "    # if foo.size[0] == 1080:\n",
        "    #   correctImages.append(img)\n",
        "    foo = foo.resize((1080,1080),Image.ANTIALIAS)\n",
        "    foo.save(mypath + img)\n",
        "    foo.close()\n",
        "  except:\n",
        "    pass\n",
        "\n",
        "print(correctImages)"
      ],
      "execution_count": 0,
      "outputs": [
        {
          "output_type": "stream",
          "text": [
            "['a1xj0fwbumlb1jog4zs4.jpg', 'abr5mieznizo5j6tlwdq.jpg', 'ackb0gizoh3hh65ybvgk.jpg', 'a7gda7w78yfjujyzaaha.jpg', 'aa7nzxeee2ligmxpn8sy.jpg', 'aaykilwpylxef7xujnmh.jpg', 'acvzjdcdft6dyymgghik.jpg', 'afucmet8djvuuo5isrye.jpg', 'agvncqs0ecqv2f29beos.jpg', 'ahk6012oszpklikejtyk.jpg', 'ajylqtgxs1s5cz959hoy.jpg', 'almbuxncezzpemmoqyzr.jpg', 'am3cepxorp7j6lt32veb.jpg', 'amie2hvtim2ylcumipd4.jpg', 'amplixixc4ko2h0csgfv.jpg', 'amuqyntpycg0wchln8vn.jpg', 'amwdasfosiivagmprxhf.jpg', 'apnwpg153gwhzd3d9uzh.jpg', 'asejykh6s7moucaisend.jpg', 'aveoramiualh8anibmcv.jpg', 'awboiigvx0klf6j4e5ze.jpg', 'awcsmulnpzn6gq5zv3w4.jpg', 'b4xqo2assz6s0uhs1va0.jpg', 'b5tljlmigznty4eayrth.jpg', 'b5w8mjj41o8h8qyp977b.jpg', 'b2ueycbesxk9fm8jmlwq.jpg', 'b4msmqsfsbh3u7swkylf.jpg', 'b2zrjpkgaulleekzi315.jpg', 'b3qgrvjjhvuxxbvqm4sp.jpg', 'b3cyhdi535fozlfojmuz.jpg', 'b6bmkmkaiyi8m4fexubl.jpg', 'b6spuza87navdn5dtb9b.jpg', 'bcdjtzlqvzicjq4rkrhl.jpg', 'b8un3siidfpolrzdhcnf.jpg', 'bei33s66em3iuehcdlie.jpg', 'bezegz4ktctvozibfniw.jpg', 'betfwj1dsward1i2sph9.jpg', 'bf8vyepwjxdwb3l7k6un.jpg', 'bfihbga3idn9dql6grr2.jpg', 'bge3o4wak7nvhehn0xa8.jpg', 'bhngkzzi9xjavsgvubv9.jpg', 'bpfhshwed3qvtneqq7kt.jpg', 'bopejguotrbxjeoafor7.jpg', 'bq2igrlri9v4pwvaqd6u.jpg', 'brga1cxylxcm26qwlptn.jpg', 'bpoarwdwrgk9vn8xlhdk.jpg', 'briftfkpksa5iqeohjq8.jpg', 'bwfdndr7jmy9uwxj0llu.jpg', 'bwcbljdlb6c0xfk3pcob.jpg', 'btbfzltrpmzzuvqftrv2.jpg', 'bymxzv42flzzdde2anyy.jpg', 'c0yrw5qgiaa8goc1dyei.jpg', 'byrh4ionvsoxyuiaw9wq.jpg', 'c0eugmzrz7vr5tmry7wr.jpg', 'c3acdiflfcfnridg732c.jpg', 'c4v22vtcsrzexrzlzzid.jpg', 'c7etwgt8guhaqberqi5t.jpg', 'c9wm2fwnmrmhivgfbstc.jpg', 'cdvp8vfb9ifwk0wlqymz.jpg', 'cbnnqgebu0iurkinwaul.jpg', 'ceoghaemqfvuu0eo4nsc.jpg', 'cfek3ofcfnc07kif6hkd.jpg', 'cfxo08dohth6i5x76qys.jpg', 'cgicqwclilctbjv3bw31.jpg', 'ch8f96rplnw7oxf3lv7c.jpg', 'cgwligvqybjqlcloayhi.jpg', 'ci34jk59vjcomh20f9b6.jpg', 'cgkfngqduo2wperfct2a.jpg', 'cinhgqqcdjg3mqujlj43.jpg', 'cjl8x9ynxxgiwa9mo6dr.jpg', 'ckxl9utwid2cwp6dusxo.jpg', 'cmnbhui7jrvw0fsjdywl.jpg', 'cm4epr6xueh0ll5f3evv.jpg', 'co1h9s.jpg', 'cnyfxstdyzs9yqpfyz40.jpg', 'co1h1b.jpg', 'co1hjj.jpg', 'co1hk1.jpg', 'co1h9t.jpg', 'co1hae.jpg', 'co1hk2.jpg', 'co1hk4.jpg', 'co1hme.jpg', 'co1hmy.jpg', 'co1hmx.jpg', 'co1i0a.jpg', 'co1hxb.jpg', 'co1hyb.jpg', 'co1i07.jpg', 'co1i3x.jpg', 'co1i5z.jpg', 'co1i73.jpg', 'co1i79.jpg', 'co1iam.jpg', 'co1ijr.jpg', 'co1ijo.jpg', 'co1ijq.jpg', 'co1ibu.jpg', 'co1iom.jpg', 'co1ip8.jpg', 'co1irm.jpg', 'co1is1.jpg', 'co1isj.jpg', 'co1jjq.jpg', 'co1je3.jpg', 'co1iwn.jpg', 'co1jq8.jpg', 'co1k08.jpg', 'co1k28.jpg', 'co1k3v.jpg', 'co1k40.jpg', 'co1k53.jpg', 'co1k8g.jpg', 'co1kb8.jpg', 'co1ka2.jpg', 'co1ki2.jpg', 'co1kif.jpg', 'co1kqv.jpg', 'co1kqr.jpg', 'co1kr0.jpg', 'co1krb.jpg', 'co1kxm.jpg', 'co1kre.jpg', 'co1krd.jpg', 'co1kyc.jpg', 'co1kyh.jpg', 'co1l04.jpg', 'co1lw9.jpg', 'co1mxi.jpg', 'co1mmv.jpg', 'co1n2b.jpg', 'co1nh6.jpg', 'co1n2e.jpg', 'co1q9v.jpg', 'co1o7i.jpg', 'co1oqm.jpg', 'co1nh8.jpg', 'co1nha.jpg', 'co1sba.jpg', 'co1sd6.jpg', 'cprslnio4n0rdqgc5jyd.jpg', 'cqb1vegbabn2rigas0qz.jpg', 'cthxbpxw7zv3hcnryclv.jpg', 'cwjdjhuvur9r44pbcxhi.jpg', 'cscmesfrfkbusuddzjme.jpg', 'cxeqnfv8bbg510jhbdy1.jpg', 'cyelorz2u457c5wvvash.jpg', 'cyeznf6wqkka5yu0ve9u.jpg', 'cywll5s1p9upev1f8qpx.jpg', 'cz8e3sahuu6y8ggqhujt.jpg', 'd26scimlkrfshyxsou7t.jpg', 'd0f1gjcrapcpakjwe39r.jpg', 'd0rwulx7odkcxnvvzrgw.jpg', 'da0jr2bjgunn5lwlqamp.jpg', 'd2uezctehsngfesjphed.jpg', 'd6srfluhht7di3gnusex.jpg', 'dasdnihhwwaabuugisbv.jpg', 'daoppzvifz8wc4f6qcxn.jpg', 'dcofrscp2s21fvrxdjyd.jpg', 'dimltocd1rmb0mi1q4zt.jpg', 'dlydg10sh51kz8oipxjk.jpg', 'dmxbtjtuzdm3ngkbxiqf.jpg', 'dmiiydxj1t9enhb9xwef.jpg', 'dn4btcdlwqanf8yy3diy.jpg', 'dowyfrczkefnjpbkrqd5.jpg', 'dudywsxlvoxy8bjlndl0.jpg', 'dp8xxmqnjiynk1edq7da.jpg', 'e0kktltbqdjbseaj3hdm.jpg', 'e3a0blzr35ailpzv2e3p.jpg', 'e4m6mb64jvom2j0uszvl.jpg', 'e5vitznsbsdpudzqu2ls.jpg', 'eaz1amtmmzyaquaf4dqo.jpg', 'ec7icipfkcwxu9ajygqb.jpg', 'efvalgpudttvoedhmgk8.jpg', 'eedri9uk8jkrhvpzhzxq.jpg', 'ejc226bz66iqokr3dvjx.jpg', 'ehzwp2puma71h9ir3bay.jpg', 'ejqsjniuabwkxmyj7iux.jpg', 'ejbhbnj8rpx5sj3m5gg3.jpg', 'ejs7j0nowjpw1vadmfll.jpg', 'ejsgkldsgktrnrv8ymil.jpg', 'el6hpe7owhafoasfrpe9.jpg', 'em2h6jrrjg17y6v4fsgy.jpg', 'em9mx5nivzqky2kxccph.jpg', 'eprl6okzrhjojsbnjb3n.jpg', 'eqcq528swzxidj5ug5dr.jpg', 'esv3sbzckhozekyaabwv.jpg', 'etbq8xddpptlfujddzdl.jpg', 'erfxvhxh4n6ewp2byglk.jpg', 'etc7qjkdd50d8hou2itp.jpg', 'euxczwzwhpsn5rqemugm.jpg', 'euvhekoasg51tjw2ac5g.jpg', 'ev0mxuxiwkwntyyvwzka.jpg', 'eyuhyos3ebloaecyosdw.jpg', 'ewar90zawavxru52ulgp.jpg', 'eyh7ri2m3l7q5w1ow5zm.jpg', 'ewapb4tl5qsxsjujrx0y.jpg', 'evjmbnkrp0oa0f3hfzyx.jpg', 'f0m4hmzwyvnjlio6amrw.jpg', 'f49wtsyqfvhvpz9n7xqa.jpg', 'f4dkxfwqqe3b2ygqi3cb.jpg', 'f8om4e6q3tpvga69orqt.jpg', 'f9iwylglyla7cjhfzfy6.jpg', 'f62ca3soiys7a5ba9tew.jpg', 'f8oeeu9jlko9krkhjxmk.jpg', 'fbik0cze2t4eawz4sbjg.jpg', 'f9ja7bva40zioscqeart.jpg', 'ffenbgz5xy7rs4ephbyq.jpg', 'fbah0t4yltyfwpomucwv.jpg', 'ffsovqwrty4tzrjb4la4.jpg', 'fh79bkclbiidqhel2o69.jpg', 'ffutfxgn2atauge5diwu.jpg', 'fgseol3gghujsjuxo1ng.jpg', 'fghp4na5akvrq04g95ex.jpg', 'fky1fscmod0ckzhoq1y6.jpg', 'fihfgc4hg4tdlrk4p8qn.jpg', 'fhwoxevqsco6ymlrwlrg.jpg', 'fmimp0q6lre2fs36z85k.jpg', 'fmqomyjjml34yhrxziao.jpg', 'fmr3p0ydsdwypkxylztp.jpg', 'fpzsvlrwgwcmj8ejg6fv.jpg', 'fmryxpriyg08jlvynoeb.jpg', 'fsdvhoq2ekfcerbbynae.jpg', 'frhizo6uma4ruvld3oh0.jpg', 'fr6ywgrkrwxc6oexz3p9.jpg', 'frcrq0pn65mrnhttfxpf.jpg', 'fumiplokboadqkhz3iay.jpg', 'fujczvxlkhfg501wjd1k.jpg', 'ful4m2hms1vjjpapeu34.jpg', 'fxfjlopuhye0wgbhyho1.jpg', 'fzg67wllehl2medzxalv.jpg', 'fyzvzudri5zeydq36sft.jpg', 'g6ciidxw5sv1n1hmgoql.jpg', 'g1tgobbrpcs9vjy5ysqs.jpg', 'g60htccetmjyr07x3pva.jpg', 'g7oqibtufxd6s4rlubwk.jpg', 'gd2b4blza9mojzfbqppt.jpg', 'ga8l8n8rhynd9xueyyku.jpg', 'gd6kiembelg5xy7ixlmv.jpg', 'gejamc9scsztntqdherd.jpg', 'gfwmgzasy8jntrephij2.jpg', 'ggqbbbi5l3sjg8lshyq2.jpg', 'gekbj6e7dfauysadkmvv.jpg', 'gilqhvindfi5ledptfme.jpg', 'gjlhqe7thbmxneu8c6io.jpg', 'gjxqjb1i9b2571ujeeuv.jpg', 'gk6gx0iucntg5mjfef4c.jpg', 'gki4tjq8gxwfepnais4x.jpg', 'gmkcntrydtghqxwcrl4i.jpg', 'gpvntei09hzuveqcqbdm.jpg', 'grhtgdrht8tl38lia1iw.jpg', 'gqqee9nl3o2qiewzr6yv.jpg', 'gsnbzyeewhuehe1o2rnk.jpg', 'gt3le7wuarn6j5wdjbdx.jpg', 'gsprejic4lirha46deci.jpg', 'gwoci7gq6flxaaykynxe.jpg', 'gvuxtexabgyloggdtpka.jpg', 'gtvmdovsbxcwe2915l0c.jpg', 'gvaoexmi87z46y570bhq.jpg', 'gxkhuwbtkrtoo2pvfois.jpg', 'gyshetm5nrdoxxmlmpta.jpg', 'gynxnjr61bewh9lwhbrr.jpg', 'h2nvoueo7pzgzvs3pih6.jpg', 'h9pw2tsyua2xb8w6yxcq.jpg', 'h7eu8z3vrdpzmbcyqk5y.jpg', 'h7ooazs9mck35c923bce.jpg', 'h5wcvozgnyiycfq25vek.jpg', 'h6tqjasvyexf8qexk9c2.jpg', 'hd21ulalpzjnvptr7fdp.jpg', 'hdhlfnktg1mxje5wvetu.jpg', 'hdsexikvmgrwvmusjzm6.jpg', 'hg6wxuqjc7kgu1kjopwq.jpg', 'hifumfh951pteg2dnffw.jpg', 'hhkzgyc0pv0tctp9rrdm.jpg', 'hhupuntmhdrquo5yri7v.jpg', 'hjmzhehaqswzia4klepw.jpg', 'hjxvicmxhk9nrn7yqfpm.jpg', 'hjjjucfsqqmwi72c6rko.jpg', 'hlbgnu66okwok1pwttrk.jpg', 'hmixs2tyntdhcq4z6oon.jpg', 'hnalxbgmovfdfezggczi.jpg', 'hn02ffcytojzffjhxsym.jpg', 'hnbolpudi5vzpmmn2e4k.jpg', 'hnnvimvs91ewhsbnq92q.jpg', 'ho1qu9yveo0gnacfmzov.jpg', 'hpwf4obmf91mfr6zqmty.jpg', 'homex5nynieauwjaedj5.jpg', 'hsomrvlgkhknwub3ax0h.jpg', 'hslusgrqtc64ctpgfdim.jpg', 'htc4twewoffica4ztvsw.jpg', 'htnmqucoseqnnmyrhuri.jpg', 'hw6yjnpddxzyxmubl9iq.jpg', 'i1q1j8v2reg3omwieels.jpg', 'hy0hkfculirrpk3aqwep.jpg', 'i3x2hfzkzlvm99zyzxmj.jpg', 'hwonsdiyzcy5zbpxvudp.jpg', 'i5dzzjififgnsupwkjuq.jpg', 'i5oduziwacurhrhrryv0.jpg', 'i42gzxpiyowl10bv5jev.jpg', 'iat6n74pbnpdcoyqzj1n.jpg', 'iayzzgiajdq60lfw3vvz.jpg', 'i87jq4dnjs7ryttocu2v.jpg', 'icc3imgaa7sy2iyhmc0x.jpg', 'igh5egvyxwvrs7x8ujuq.jpg', 'ifmxahrtxv63tvz4yrxq.jpg', 'ifalqzaawdzdgx8eliui.jpg', 'icjxozuy5b64jfw7hdzt.jpg', 'ie6xt5p06dzdyxerl7dm.jpg', 'icolci4o6q8gsrunpje8.jpg', 'ihuhnimp9a6djai0zfsa.jpg', 'imwllavwz89axugywtog.jpg', 'ihgibkv6jmsexatrzvxo.jpg', 'ilhaik387qodyyq0kbnt.jpg', 'iqlqwsfog1xg6rzwqgts.jpg', 'ihv1vwwjhx36lov7ubfb.jpg', 'io7a1n7lujliy0vikqu1.jpg', 'ir9tmcvhd3m7ctwpxzju.jpg', 'iuc7vtmwiarcpjbxfexp.jpg', 'iupksgek4jce3cjitcnu.jpg', 'ivnbn5mhygcgu3xqysut.jpg', 'ivrrr8svubetqig5tcw8.jpg', 'izxbzt8r4gxwhktr7a99.jpg', 'iye8vf8nt0uxmd4q7zgw.jpg', 'iysnxkvwmdmtvhjbi6rh.jpg', 'iw8hux3tx3azx7n8sppp.jpg', 'iyy4sq1feabebafdw2lu.jpg', 'j0br0ihilzi45c63j8nc.jpg', 'j06sudm56udn2rjzwjs2.jpg', 'j3xp0fvccwrwdw70rjjq.jpg', 'j5byi33dqtr7kp0tywyy.jpg', 'j5cdkelby7qbccnrbrwb.jpg', 'j6mbknvzwz3ntjd6pkvm.jpg', 'jas05e4chfk8srptw7cx.jpg', 'jc412wpbyw1rmj0pgipj.jpg', 'jgqkzuw7nbygxhybiiru.jpg', 'jeyqhohxmftxbgdvbtbh.jpg', 'jclgmu4amw47wmyutyze.jpg', 'jecjjvpett1hzaaasdrt.jpg', 'jgt8mv5e0y7eqa3phwjf.jpg', 'jhuvx0swvazvvpdovca3.jpg', 'jiomcsgevff6koy1rm1r.jpg', 'jikq0dutw6nr8yiosv1d.jpg', 'jiwqqmh3jiu6sgqvug4k.jpg', 'jp6szwqep68vrqwpu1gb.jpg', 'jlesuski2rrx3zon5hve.jpg', 'jp8qvmc2tkb2mv1znftp.jpg', 'jjygilwlo8ka9srii7bl.jpg', 'jq0zneiktvzqmze7yqga.jpg', 'jruhcdfyk7aio5apnry0.jpg', 'jtzpj5pyomhmjk867xtu.jpg', 'julcumw5634uf5wmoqlw.jpg', 'jxcru65ulsmjdpdstjs6.jpg', 'jynq8hdh6kuzdhzxgcep.jpg', 'jx6ot9bigegmfkflp3x2.jpg', 'jz5vcbyrvolznxovmj0y.jpg', 'k0xhcil6guo7l7mfsznx.jpg', 'k1gwinwgmngyyrurdqgc.jpg', 'jyrzlijnyefmuu5ilzmd.jpg', 'k3kucipps3ggq69dbdod.jpg', 'k6e9hmenuvdoafgk092f.jpg', 'k3otjxqcceuokpo9l1r7.jpg', 'k84ilbs9fmtt9eytahlh.jpg', 'k9ze6krp6uqrpgyyzj09.jpg', 'kbp4uewgfglz2ozzgltk.jpg', 'kgrfizzaxi4np9zfpgz9.jpg', 'kdg2rsgihjg8vbdcnvtb.jpg', 'kg0flkvnywk4qnz3jw46.jpg', 'keex28huyujufcmjjklh.jpg', 'kinmlbbdkfagqjmeqaod.jpg', 'kk4ty7xov69eoajsxqi3.jpg', 'kjgpjy9wr2a7trfm461z.jpg', 'kkwvzusuxliifs9ji4cx.jpg', 'kkjnn73gv0ri3ud8pc8f.jpg', 'kolj6y9kfw3mhlvaz8ie.jpg', 'kn3yxtjek0u05dbhj4un.jpg', 'kp4prmd6snpzm6pc9hdn.jpg', 'kq8pncwi3tgveotb4uu2.jpg', 'kpwx2l0mxaskyfwd80jn.jpg', 'kqykqqvdhws8cup81qrn.jpg', 'ktdr5eflo0vbgjuiku5t.jpg', 'kuk17qxsflvcnq4o5uta.jpg', 'kuvzcmbihzocqntfy8zi.jpg', 'kwa7a1stla9ew9aheoj7.jpg', 'kw1bx666vllidb6u9tmc.jpg', 'kupeuv7smrtlwks3wy5x.jpg', 'kyo4uos9nsuasz4dttm6.jpg', 'kzzkht0k8w138pxrpfcl.jpg', 'kxtcnuiyothgkjwpsyow.jpg', 'l17lk7wlfjrqrj7xqgxm.jpg', 'l2dpxt9geokmotbcvhgz.jpg', 'l31kmss2fd1phunvlzhv.jpg', 'l6g967d483hn5xjij9jh.jpg', 'lbmpd1l3kuwtq6yydbhn.jpg', 'l6whny6vrsbahsz93b7g.jpg', 'l9zd8tbiaqdachwx7tg6.jpg', 'l4hdqnkxamonoqdhnsk9.jpg', 'l86lxmxxiwowkpe63fqd.jpg', 'lbhoq9me3afiagunxbsk.jpg', 'lcerstsdm8p62vnxwfin.jpg', 'lggvpskewx5pddicouv4.jpg', 'lgxke2gniftkcd9g1gel.jpg', 'ljv0nkg92kqmvxtdryls.jpg', 'lixpxormhmv6ozaibfys.jpg', 'lizrvmvxynzqjt7gvef7.jpg', 'lijxd0eeirls4zuefhdn.jpg', 'liuz9jirxneq8uo1pfl1.jpg', 'll17vwtqlly11kkcp7pk.jpg', 'lmkbmpdajqzpfrprq6oi.jpg', 'lmynlselyx1bvk0iwte3.jpg', 'logvyroyxiuxqfp7a2eu.jpg', 'lpa5u6csf3j7dqgpuexr.jpg', 'lqzdl1ncwgjufea38ovf.jpg', 'lyzmzpiagjgi6go3ouea.jpg', 'lwm1lsz5wghksdiglfit.jpg', 'lr5cbleskpwivuzytkoi.jpg', 'lwmlwgrj2grvhxvzdanf.jpg', 'luouiyokg36w3tfr3ox1.jpg', 'm3jqwshkdyarg0sf5iaz.jpg', 'm72sowccfvt9ft1hbbwz.jpg', 'm8fgmnuim9byakftthis.jpg', 'm9vue1kpftxotioviwtr.jpg', 'mbyysfgsao5iqg8jy8dq.jpg', 'mcamii2d0onqrvmqxg7h.jpg', 'mdfal2ksgbipwnytuwlj.jpg', 'me3sbldrnslkuqtzw6hf.jpg', 'mg2frjmhmb5losp7akla.jpg', 'mhdmtuamkumzj31dqebs.jpg', 'mhwwstg5hmxfixex1zt6.jpg', 'minkf57da4vu4pbhgzud.jpg', 'mjs5vmdvdo886ftme8cb.jpg', 'mlbas7xkqkqibe5r9ioh.jpg', 'mpizrlxztux5dkao3we1.jpg', 'mpdrsd1bas6blypuxurb.jpg', 'moceo3bzmzuqkeibyug6.jpg', 'mly6sw3g6g5rknmmyind.jpg', 'mqcrztaufrmgjkbokfju.jpg', 'mplabui6kkdwf2nd2xsx.jpg', 'mswfjtwjyflsll4o89fn.jpg', 'mu7zkuviswnwtjm7fwy6.jpg', 'mxixsgupf8wn5bloi7wa.jpg', 'mylfo0tdyhqei8gtged4.jpg', 'myphinolazfcx8bsvug8.jpg', 'n1o29njyyztutrps3msf.jpg', 'n3i7xapdvpwsvbzqcj3t.jpg', 'n1hskupi7bjwsytzmmtn.jpg', 'n5bvadufu2r06wdrnvuv.jpg', 'nbn2ntjpkdh7kim8ukfj.jpg', 'n8vnodlcilkw4k7n4pta.jpg', 'ncp74q9s7elddlcrr6oy.jpg', 'nekbymivgqax7kajgzlz.jpg', 'ncyqr9opwh4wgd2zvfsj.jpg', 'nfexb0elftkynfczubnt.jpg', 'nffdru4h5ee0nbi89ww8.jpg', 'nfggce6ezxpvpoostj0s.jpg', 'ngvquxsjcggpeuhfa4vn.jpg', 'nhltmqx6y5oooxnyew7f.jpg', 'nghmywgd6d2qwle4llmy.jpg', 'nhmowzmqg6c0pbu7oocg.jpg', 'njiapylo91fz3n3k3lwr.jpg', 'nl6toeud4i0cllbynwzt.jpg', 'njizsjkoeik9urfj2fv6.jpg', 'nryksuj1o68fycmjcrjk.jpg', 'nn02lzj13nz9e9donjgl.jpg', 'norswlzkyqqdnhenkazn.jpg', 'ns0bl2mvxmcugelpkbha.jpg', 'np8ylljnaqpvhfdtys5k.jpg', 'ntbjk99qqp6misg4k3ow.jpg', 'nuun7cg3mjk9l8akp8ts.jpg', 'nv47sz4rkp3nucebiagz.jpg', 'nybvwlx2yae3ffppuzel.jpg', 'nz4t3kgz9w9nf0e9qumo.jpg', 'nyxk0yhnba6zzpufgsyz.jpg', 'o0dlfpjvacypbgc1aazd.jpg', 'o0etnajy6rt0bdyxrkox.jpg', 'o52uz7xe0tklubq0ula1.jpg', 'nzgwz8bo67yrkxjyatyv.jpg', 'o53ppajvulwcsm1sxodm.jpg', 'o5mgewjnnkfwxogxlk4d.jpg', 'o5mkccxifz5qku2th8i5.jpg', 'o6fczq1faxp2ktcieyxi.jpg', 'o6kb5vzm43fjp1x2k9fk.jpg', 'odt8xrwh4uelhredai80.jpg', 'oftlhhqspnbxfjyebxsg.jpg', 'ogpkvmy4y0tx4hwgjxbs.jpg', 'oi4w5urhr2e83qeipgej.jpg', 'oh28z5gotmbhgvv6zdpo.jpg', 'onurkzjie7jnpkprr4a2.jpg', 'opliaolpwiiq0hnozcwq.jpg', 'oqdnkfyixrbrsbynburw.jpg', 'orzfgvb37sc2iqc03vza.jpg', 'orunjg1kmkw6bsxurfbe.jpg', 'orscgolg1rmkaztrjyyy.jpg', 'oscbf1gxw6oqrevjzs0y.jpg', 'ouub2qyypykffehdyvcp.jpg', 'owwy5yahuxnvrlevfxp4.jpg', 'ovxqgmgbofabbuwqm2ze.jpg', 'oxhkiebsepxhssum0wn6.jpg', 'oxpd499tvhfxa0udu7ze.jpg', 'oyidhutv8mjmelgp2em7.jpg', 'oytaued9gywiverqdndi.jpg', 'oyljiviod4rmunzkj88j.jpg', 'p3ga6tusicenmout8d09.jpg', 'p23ca0hbt306bzgrrmtr.jpg', 'p1vzdv31fsa10v61q3f6.jpg', 'oyvic4dqh6g1r6gyqu58.jpg', 'p4kw1a68q6gdm44oinx1.jpg', 'p44yny97fk36ycmc1igk.jpg', 'p3vl1ugq6c4jou7vnrp4.jpg', 'pdvmiy3eaetmerkaf8ls.jpg', 'phkmcnmqpozxjodw7gs0.jpg', 'peeejiitsuty0c6rtc3a.jpg', 'pge10iyw7svmmagqhmu3.jpg', 'pjnvrqoqfotah17amo7r.jpg', 'pksqo4k4vdizftajs8vw.jpg', 'pign1eb961oouwktguoz.jpg', 'pltzkljez9eblloie4da.jpg', 'pm1iqmfhe8tcl77kasb0.jpg', 'pmtssgavw6qw7bc5nlzr.jpg', 'pncoecqn9dcrxbobvvjj.jpg', 'poldxv66zcorkogqnnm4.jpg', 'prdbtcla7nmlzp4xucxr.jpg', 'pqzlcwmmzwf5zoenuahk.jpg', 'prxgiwxugwtgpec6nyth.jpg', 'posngflqim0vpkzwxjvg.jpg', 'pv1nqyodlc2rlr7ofqa6.jpg', 'pwwcmyczl8tlekxlrabj.jpg', 'pv7hfrkhjqhkkzfusgks.jpg', 'ptdaannzy5mqfgcxdkxg.jpg', 'pxkofyv8nkejpehjllvx.jpg', 'py5mzt3hfchpd337qbfp.jpg', 'pyetbts9sk1bvoifnk8r.jpg', 'q5rljsuwsycglkaglrrh.jpg', 'qeknnkh6ctxufenmu0wv.jpg', 'q4ztvdwn6uodwzp79mb4.jpg', 'qgprefiurkp7riaqp8iq.jpg', 'q6uudk4tmcbcnhcf7jro.jpg', 'qih8mdozzrgabfukheru.jpg', 'q0zxlwudktsaduks58iq.jpg', 'qmaou3sot0zkfaams9oy.jpg', 'qobu3kr0vyrtkxb50xkz.jpg', 'qotnauqsxiw6jd08sgmj.jpg', 'qoswmfghcubrdkriou1k.jpg', 'qq2nt9oznwo8p8cbwzb1.jpg', 'qurmjkwxqi1fzg9nqbdh.jpg', 'qqc48hzqfqfbbw0lcesu.jpg', 'quebpemarsck9hdl7qup.jpg', 'qv7w2w7zclr5y0za9kkk.jpg', 'qwsxm9sey5plyccqwoq5.jpg', 'qyt3evfzyjci3rub3r9r.jpg', 'qxpqi3fwhqodhvsz52n5.jpg', 'qxtos0glyo1udnevdqpd.jpg', 'r4ec2cgyuzric1ktl7wo.jpg', 'rbr8i865daovlyfiuumo.jpg', 'r3bwkowqkbz1r6tg4u21.jpg', 'r6hzmmbtoq2vmwevvjkq.jpg', 'razw1wmf7loeczpqio2e.jpg', 'rd04h4fcm23lmbizjeut.jpg', 'rdrqsbgl5zraiwivs71n.jpg', 'repifkujlerxikglxqsa.jpg', 'rf9h8vod2wvlntcilcdq.jpg', 'rhuysap9k1uownz4qyjs.jpg', 'rfixzud2xe0mdfabqitu.jpg', 'rjstauyu1cdk1noibfbg.jpg', 'rkid8o2szvzgkkdubgoi.jpg', 'rlxbniwlkvqmtmxbeqq7.jpg', 'rkal8h9eevmcdn6ba0oi.jpg', 'rkufnu2ds8onadl6hpyz.jpg', 'rmgiubchyihg36qtsjr0.jpg', 'romwmznociob3sxjbala.jpg', 'rpvzp4gkw6lhaztzduje.jpg', 'rp8zedoudghiuenhb7h5.jpg', 'rom98qajxifxic9rue4t.jpg', 'rr5yuk2ebuiewgo6z5cb.jpg', 'rrajwggmfdtzx4x58v3d.jpg', 'rusq68tngpnduforgelb.jpg', 'ruxovnkt4kp2qah6bppr.jpg', 'rskxzzlfzej9kwp8ylku.jpg', 'rwkgyzzbeproja6uqncq.jpg', 'rwylghw2479pw7opfats.jpg', 'rxftile8skmjhoetura8.jpg', 'rxudaradljsouu6gdsxd.jpg', 'rz5bhe64jsmzkmfi3ojx.jpg', 'rysfuudle4xjbxvz0whj.jpg', 's1f33wk4un4htqaiapfl.jpg', 'rztqonackttlts5tetlu.jpg', 's2rvrsf7gga69j2ixeaq.jpg', 's3i7bczgchsoe7eylcxa.jpg', 's5jra2uj41yfscnklc4p.jpg', 's7bigmsmopjknpvgxpl4.jpg', 's7if5vet0ibup5pqsck3.jpg', 's7kkfolgjltessbjlipc.jpg', 'scxiixxx2vahmky9ywp2.jpg', 'sbm7n7adxjbqcdg7uihr.jpg', 'se6c2vbq0heremnb3nmp.jpg', 'semuiv0sqtwmbq5tosoi.jpg', 'sf1ckrzl01ymwmzoqv5u.jpg', 'se0b3pl8mgsyijlcw3bc.jpg', 'sftujd1ijr5fftnnbg4o.jpg', 'si2edqd8xwbwe0g5kxrq.jpg', 'slnynw6dsorsnipcjaxp.jpg', 'sgn9n1ncbxjxdhcu6qls.jpg', 'sluoz6zqcp07mot3dv3n.jpg', 'sodltczl65dscxayhdtd.jpg', 'slswjspn0aavk6y5gfbc.jpg', 'sopwsld7agl1hc3bvgir.jpg', 'spe5sdvqtxu1itd6ci8q.jpg', 'spigogqogifyyanyhykh.jpg', 'spm8fhis8cqdaawgyihi.jpg', 'sqnehyg3e6ksqz6qhlju.jpg', 'sqcopzcko7onaxbmb82d.jpg', 'sqmll9ilrt8f8mkp71bz.jpg', 'suqp3pumt46oasdx0rmc.jpg', 'svcxpoln0vqoqlcmi1cg.jpg', 'sufb5gnr42dqjqwi0ixj.jpg', 'ssd6bgo4da18dqrkcj9j.jpg', 'svrnpbgyofmkl4o3hmnw.jpg', 'sxorbig2hltkrf4bpyuv.jpg', 'sy4p4fs5sicrmdzqfsuc.jpg', 't3ipg9d7fin95v0f5ob9.jpg', 'sydh7cxldzf64kevduut.jpg', 't4gwzoi8tc97cbjp7rx7.jpg', 'szzj4vkrxm8ndbrk5r8w.jpg', 't2q87u7zrtijgstfgjd8.jpg', 't5xldp6gn8uvdnx1b34m.jpg', 'ta6rfqancwcvjfmwwtxe.jpg', 't89fir0wnorrwqcdbjf9.jpg', 'tb3eyoiqh38viidblk7x.jpg', 'tcufox9niqbg3bkfrf3x.jpg', 'tcvg2xghprfnbrfcumrl.jpg', 'thygoq69c6yojssdjrku.jpg', 'tk4cfdeaxl1zxk7adysj.jpg', 'tl8unoory18tcbccgzfy.jpg', 'tl1qp7qepvcjo3defejf.jpg', 'tkzm1udxjupgq3ao2drq.jpg', 'tpuzqwpemt6abfw4sb8x.jpg', 'tt4qhplvrfnjddnydlpm.jpg', 'tlurlwhnvdxbascnjdmg.jpg', 'tudhz1zkd7vjn11tcsci.jpg', 'tzf79qqp1z3vw9twd2gf.jpg', 'tvjhvfpvq5s0sbripxqq.jpg', 'tzjadwlja2ozszewjet8.jpg', 'u2qqyalqlpxlsaqfxfbw.jpg', 'u3ourlhra469lbuzxt5d.jpg', 'uaaneswmylsxvniozxev.jpg', 'uae5slsgzrrfexx5rpox.jpg', 'uejqbqhh5r94vdtjsk3l.jpg', 'ubp4topdxibuhzp93mho.jpg', 'ugbjpxdkrcbtg3qnreyw.jpg', 'ugobwfnxzngs75lhqyer.jpg', 'uk0mqqvlunfxf5y2wihe.jpg', 'umtxvynvbaz6ipltmyfi.jpg', 'ukjke0spqgw9ngubxzx9.jpg', 'upv5oyvfekkdk0ty66nc.jpg', 'uqhlmy2bntyvjj2tbjnn.jpg', 'uqxslfrr11kyzdyglzop.jpg', 'urm3pryt629zaksmmasf.jpg', 'uv0r2ps8ssmlwodtkkno.jpg', 'uwy7ayfyngqfxqo0ry32.jpg', 'v19qxg4nr5chnwj89ofa.jpg', 'uymmibbaes4urkwpbuut.jpg', 'v7vmpfrmisvuixxymb3y.jpg', 'v39inomyte5vmqx6ntzj.jpg', 'v3eqnpc9wkakdgyyka9y.jpg', 'v9g3bslanhznvzqn5wqd.jpg', 'v9ylxxfl7a1ucugtexii.jpg', 'v9kqdyy5aaoww6tobq8e.jpg', 'v9pj2n1m6adoaue8vyob.jpg', 'vasmaomnujid1wzfvq4w.jpg', 'vbs36rizrzortcmluz3a.jpg', 'vazaf5zwiclr0pmg3mxo.jpg', 'vcjlxbkx46lojcajkrai.jpg', 'vdhhz3x0arae6iz8qwbh.jpg', 'vdb1gfhjftla6yhrkc8q.jpg', 'vdzu2zz1r8dpxdk0pfme.jpg', 'veqnkdzq0ov3zdjmiwm3.jpg', 'veidnq09h3ir4m3wdigg.jpg', 'vem7ol28uhiy4u0zorei.jpg', 'vf0wemhjxsk5axve9usi.jpg', 'vfxbdhymnvrqhcryqa0j.jpg', 'vfvviqdxbtpmajxjv9j7.jpg', 'vgcfnwwibfrvmliuqvfe.jpg', 'vjxgs72g8fjdkxefwgtl.jpg', 'vggdd4rauskgkfez0tjz.jpg', 'vnl2aep4i1t2gntqsq6v.jpg', 'vmof1pvryudc6ej4d8op.jpg', 'vkgaxxf0d1xwibe0brmh.jpg', 'vlfibel1kq7gqo19mdie.jpg', 'volg09tqzfhpyj3n7mic.jpg', 'vovhpzg8gugtkei2bbyv.jpg', 'vppopooykbiks17ehdr9.jpg', 'vp3mzddxbt9ifdkwfsh6.jpg', 'vqoafyot7zlwwsxklsnj.jpg', 'vqdbuwphqj8jtb82nvck.jpg', 'vtgg9equxazpbnesd0fw.jpg', 'vw8p3jmxdwq7dcgs3s8j.jpg', 'vvcmtn6pvz29hetumdco.jpg', 'vvadmmjux9fnxfkaws3e.jpg', 'vxpfhiy73ewcnbqmniea.jpg', 'vydgolawkfemgauxrlat.jpg', 'vyzdgblbujyrsu3avvtp.jpg', 'vyojuxy1xlzr2ctvyybz.jpg', 'w5swbtqqsbkeumydvndz.jpg', 'vzylylbwo86shehoirwg.jpg', 'w1egbcnimphgrx0spnk3.jpg', 'w5ul2xxp8hbsswjhpufi.jpg', 'w7ghyrcwugqbczkhf2dz.jpg', 'w8b3t2n8wodyc6pawtyf.jpg', 'wazrwyfpkq2tlmpriiqz.jpg', 'wcqxef65gqde2pj2oryi.jpg', 'wfcvef8u7uxyqbsles8w.jpg', 'wclmmvxacosebyectrc3.jpg', 'wielvadmguw66ejadixa.jpg', 'wiiz0dmeqo5fposf2l1c.jpg', 'wg4cztcdaezqfugmsajz.jpg', 'wfevkluofbtfdcllevpf.jpg', 'wmlwaghajssqonnbg8qx.jpg', 'womobdop0iyxpcmfhn85.jpg', 'wpp6cum7aihidsyfsiwg.jpg', 'wquwwkfuejcqqv3r4tyc.jpg', 'wqi5rfws1muexvwmb4xg.jpg', 'wuccgcdnbluqu8lbxpdm.jpg', 'wv6c9corvbqq0lthggdy.jpg', 'wr653y9s8bwixacetygs.jpg', 'wsfiygz6sn4e8kre248p.jpg', 'wz4xey3kvdeod7oeleom.jpg', 'wyqwokkibcxi9wwuknya.jpg', 'wwxb0imvdruuqz38f5mc.jpg', 'wzd0brviqwrlv5xthgef.jpg', 'x5lkixnqflju4f1g2ncd.jpg', 'x0i0tyoqchvk0stqelwa.jpg', 'x7ejfu96e2rs0fmkwy6j.jpg', 'x7ifr7pqbpd2eflqsqag.jpg', 'xbgroe3gpa4ov7cqy3uw.jpg', 'x7zvozyn2xjlesybcwli.jpg', 'xebrs93mubd0raacx84h.jpg', 'xdm4of5v6tqmni6b7tlf.jpg', 'xdbepot5yysfwn2cba3h.jpg', 'xepdgz4znuwdaje8o6aq.jpg', 'xhk5bmbwztu4jathyot7.jpg', 'xi55ydgppmfaq6yjv3kk.jpg', 'xom6yqvgwkgkf2uqs6ki.jpg', 'xqoirt539uqefnzpzrgr.jpg', 'xlctwh5tbf7xsx5rb3cl.jpg', 'xm90xiniunxtutjcmu0g.jpg', 'xsti155usd5gswmyxrof.jpg', 'xsscwghrt3sp9engnsw4.jpg', 'xsntzicbgqjsho8y33zk.jpg', 'xu3jpjgrza26zlgk1zal.jpg', 'xui10crvinzosqdefdhg.jpg', 'xxen8nsa5fdop7rfnohf.jpg', 'y2mec7pfjtmlgdsa8qvz.jpg', 'xzgmuodqvi4ufwa2pmp4.jpg', 'xxjkvbexnuvirbdd2i80.jpg', 'xxg8kaqg43bd9koty86n.jpg', 'y800wq7vqzufjaas2cor.jpg', 'y3bmmwhmupdxo2ku32p5.jpg', 'y6vogdhvnisbcml5fq0j.jpg', 'y8z9zjtkplccexmg1tds.jpg', 'yangxyl3ingpmsejmr7g.jpg', 'yaaqdob16l9mkqprjljj.jpg', 'yeg2ameqcjrzcoqk922c.jpg', 'ybmzvgmoufaqhcssclow.jpg', 'ydcs565arrcbuy8wz2eb.jpg', 'ym75qbz8qhseenfivfoj.jpg', 'yju2rphvszn5v9fls00s.jpg', 'ylvmxyfyqpgwmhrrdqrx.jpg', 'ylbeglgw78dhejl6v7iz.jpg', 'ynxkp6hsuzunb9uhmcpd.jpg', 'yocjumuregte0mzlwmym.jpg', 'ypzxyrluth9f14esyvj4.jpg', 'yozj9ta6ryopd8bccap3.jpg', 'yocxw3xphoy43sr3tzlc.jpg', 'yokkwf9drovesulosieu.jpg', 'yrewrrpa6jipm3nzegbp.jpg', 'yrbak6gwclirgjiyi8hl.jpg', 'yq8l2zc1lextpbaofysf.jpg', 'yrxs6t3o2jtklxtkdnvq.jpg', 'ys7amiqzjwia7porfmvf.jpg', 'yswc7x42jkthbxbvw3cf.jpg', 'yu8npmfzwpjxnyhgbuul.jpg', 'ytnvnng7zc3xbyt7sjux.jpg', 'yunfgaje6qj5ib1fyogc.jpg', 'yuxe72jofdtrcujrgvyt.jpg', 'ywf826xniw3lrivdmwao.jpg', 'yveitrwwwrip73ta7xme.jpg', 'yvyj6pwd0cejlipoy00m.jpg', 'ywnru5vxzvqixxjmf3qe.jpg', 'yx3hh4tmt9ll7mteczge.jpg', 'ywvd4o6gglw89qgx32m6.jpg', 'yybt897hlximkot4rpup.jpg', 'z27dw8ec1yakgizlhr9z.jpg', 'z1rptftskvzwf0lwthfc.jpg', 'yyhl069ikfq6qgnqaa2a.jpg', 'z76edffyjuhszg69ia82.jpg', 'z7lz1arnaukmc3lihwa6.jpg', 'z5v43wyuv39khlktjiny.jpg', 'zaofuvf4rtcuktyhdm32.jpg', 'zaqwqxq7gosscimwggl6.jpg', 'zatjol2j0dl12s8g6kop.jpg', 'zbiz9l7dfydv8vrsq28l.jpg', 'zbmajiyplsoyxnydfy6t.jpg', 'zdph91puk2meoemqgazf.jpg', 'zd85zztuj7kw8pphar3a.jpg', 'ze2hfzenvowgvzktayt6.jpg', 'zewfftywe2dvmdft9va7.jpg', 'zgszmj6fshxhdddn6z8u.jpg', 'zgwru4msrueu0nedghbw.jpg', 'zhhtxkhcr8i051viuexp.jpg', 'zi7rj4so5ijts7r8qdru.jpg', 'zj6mgc20x0jbjxxncnvq.jpg', 'ziimyfpda6dhnf0i9nir.jpg', 'zkhmhw5uxguhntltwufx.jpg', 'zkw81jqyc59hi1wuho1c.jpg', 'zludacgwaun7s3ayufj4.jpg', 'zlwgpji18otwpiirj9mv.jpg', 'zmguch9k68knqbs1didn.jpg', 'zmisxaf1xf7acm4ljnff.jpg', 'zneba4tvlqtapyrxcpj2.jpg', 'zmw4wut2cpcwdidnznse.jpg', 'zodigixw0rr7f2cxeasb.jpg', 'znqedohq790p9yisx8fl.jpg', 'zr8jum7hto5ymmfkdayi.jpg', 'zp8xncb0tf3fzg3g64va.jpg', 'zraixg5vdqb8rpkzlklz.jpg', 'zsn5wr0lessl6z8wj6ky.jpg', 'zricr65hcodz1eaj1tbo.jpg', 'zsuszjevretzsxnimvep.jpg', 'ztlyi1xqwoeeyb4drud5.jpg', 'ztvyk5t67hj2dbhrwlyk.jpg', 'ztqvp8pjyocyovlqbz5j.jpg', 'zwgwtalwo6wafbp05i9h.jpg', 'zvapsbzujspyzwzs6sw1.jpg', 'zxd8sni4rzise9fyxowc.jpg', 'zx8zrqfmdqvbfubkxlmu.jpg', 'zxj3xxkhcbo2orpve1cz.jpg', 'zxb732a9oo5c5qczmowl.jpg', 'zz4geccdo9iogt0gihrw.jpg']\n"
          ],
          "name": "stdout"
        }
      ]
    },
    {
      "cell_type": "code",
      "metadata": {
        "id": "vLTG-hF0nGFf",
        "colab_type": "code",
        "colab": {}
      },
      "source": [
        "import cv2\n",
        "import glob\n",
        "import numpy as np\n",
        "from scipy import ndimage\n",
        "\n",
        "\n",
        "from keras.datasets import mnist\n",
        "\n",
        "\n",
        "\n",
        "# fileslist = []\n",
        "# for i in range(0, 5):\n",
        "#   fileslist.append(mypath + onlyfiles[i])\n",
        "\n",
        "\n",
        "\n",
        "# x = np.array([np.array(Image.open(fname)) for fname in fileslist])\n",
        "\n",
        "# for i in range(0, 10):\n",
        "  \n",
        "#   for myFile in glob.glob (mypath + onlyfiles[i]):\n",
        "#       print(myFile)\n",
        "#       image = cv2.imread (myFile)\n",
        "#       X_data.append (image)\n",
        "\n",
        "# print('X_data shape:', np.array(X_data).shape)"
      ],
      "execution_count": 0,
      "outputs": []
    },
    {
      "cell_type": "code",
      "metadata": {
        "id": "efpYqS02Cbk1",
        "colab_type": "code",
        "outputId": "44d811b5-b3fc-459f-b19e-89806192e279",
        "colab": {
          "base_uri": "https://localhost:8080/",
          "height": 85
        }
      },
      "source": [
        "import numpy as np\n",
        "import os\n",
        "from matplotlib import pyplot as plt\n",
        "import cv2\n",
        "import random\n",
        "import pickle\n",
        "\n",
        "\n",
        "file_list = []\n",
        "class_list = []\n",
        "\n",
        "DATADIR = '/content/gdrive/Shared drives/Automated Playtesting/Ken/Imagine Visualization/'\n",
        "\n",
        "# All the categories you want your neural network to detect\n",
        "CATEGORIES = [\"image_DS\"]\n",
        "\n",
        "# The size of the images that your neural network will use\n",
        "IMG_SIZE = 500\n",
        "\n",
        "# Checking or all images in the data folder\n",
        "for category in CATEGORIES :\n",
        "\tpath = mypath\n",
        "\tfor img in correctImages:\n",
        "\t\timg_array = cv2.imread(os.path.join(path, img), cv2.IMREAD_GRAYSCALE)\n",
        "\n",
        "training_data = []\n",
        "testing_data = []\n",
        "\n",
        "def create_training_data():\n",
        "  i = 0\n",
        "  for category in CATEGORIES:\n",
        "    path = mypath\n",
        "    class_num = CATEGORIES.index(category)\n",
        "    for img in correctImages:\n",
        "      try:\n",
        "        foo = Image.open(path + img)\n",
        "        if foo.size[0] == 400:\n",
        "          try:\n",
        "            img_array = cv2.imread(os.path.join(path, img), cv2.IMREAD_GRAYSCALE)\n",
        "            new_array = cv2.resize(img_array, (IMG_SIZE, IMG_SIZE))\n",
        "            if i % 2 == 0:\n",
        "              training_data.append([new_array, class_num])\n",
        "            else:\n",
        "              testing_data.append([new_array, class_num])\n",
        "              # print('reeee')\n",
        "            foo.close()\n",
        "          except Exception as e:\n",
        "            pass\n",
        "      except:\n",
        "        pass\n",
        "      i = i + 1\n",
        "\n",
        "create_training_data()\n",
        "\n",
        "random.shuffle(training_data)\n",
        "\n",
        "X_training = [] #features\n",
        "X_testing = []\n",
        "y_training = [] #labels\n",
        "y_testing = []\n",
        "\n",
        "for features, label in training_data:\n",
        "\tX_training.append(features)\n",
        "\ty_training.append(label)\n",
        " \n",
        "for features, label in testing_data:\n",
        "\tX_testing.append(features)\n",
        "\ty_testing.append(label)\n",
        "\n",
        "X_training = np.array(X_train)#.reshape(-1, IMG_SIZE, IMG_SIZE, 1)\n",
        "#Y_training = np.array(y_train).reshape(-1, IMG_SIZE, IMG_SIZE, 1)\n",
        "X_testing = np.array(X_test)#.reshape(-1, IMG_SIZE, IMG_SIZE, 1)\n",
        "#Y_testing = np.array(y_test).reshape(-1, IMG_SIZE, IMG_SIZE, 1)\n",
        "print(X_training.shape)\n",
        "print(Y_training.shape)\n",
        "print(X_testing.shape)\n",
        "print(Y_testing.shape)"
      ],
      "execution_count": 0,
      "outputs": [
        {
          "output_type": "stream",
          "text": [
            "(420, 4)\n",
            "(105, 2, 2, 1)\n",
            "(420, 4)\n",
            "(105, 2, 2, 1)\n"
          ],
          "name": "stdout"
        }
      ]
    },
    {
      "cell_type": "code",
      "metadata": {
        "id": "IFHAukUzR_fk",
        "colab_type": "code",
        "outputId": "5b2e8efa-b846-47f5-c415-7fd9fddcbf64",
        "colab": {
          "base_uri": "https://localhost:8080/",
          "height": 102
        }
      },
      "source": [
        "#tutorial: https://medium.com/datadriveninvestor/generative-adversarial-network-gan-using-keras-ce1c05cfdfd3\n",
        "\n",
        "import pandas as pd\n",
        "import matplotlib.pyplot as plt\n",
        "%matplotlib inline\n",
        "\n",
        "import keras\n",
        "from keras.layers import Dense, Dropout, Input\n",
        "from keras.models import Model,Sequential\n",
        "from keras.datasets import mnist\n",
        "from tqdm import tqdm\n",
        "from keras.layers.advanced_activations import LeakyReLU\n",
        "from keras.optimizers import adam\n",
        "print(type(X_training))\n",
        "print(type(X_testing))\n",
        "print(type(X_train))\n",
        "print(type(X_test))\n",
        "print(type(Y_testing))"
      ],
      "execution_count": 0,
      "outputs": [
        {
          "output_type": "stream",
          "text": [
            "<class 'numpy.ndarray'>\n",
            "<class 'numpy.ndarray'>\n",
            "<class 'numpy.ndarray'>\n",
            "<class 'numpy.ndarray'>\n",
            "<class 'numpy.ndarray'>\n"
          ],
          "name": "stdout"
        }
      ]
    },
    {
      "cell_type": "code",
      "metadata": {
        "id": "ic1TiG6eR_fo",
        "colab_type": "code",
        "outputId": "2214292d-0dad-439a-eff0-9e733710b340",
        "colab": {
          "base_uri": "https://localhost:8080/",
          "height": 102
        }
      },
      "source": [
        "#this will handle our data formatting\n",
        "def load_data():\n",
        "    (x_train, y_train) , (x_test,y_test) = (X_training, Y_training), (X_testing, Y_testing)#change this to our data set\n",
        "    x_train = (x_train.astype(np.float32) - 127.5)/127.5 #create proper size\n",
        "    print(len(x_train))\n",
        "    #convert shape of x_train from (60000, 28, 28) to (60000, 784)\n",
        "    x_train = x_train.reshape(420,4)\n",
        "    x_test = x_test.reshape(420,4)\n",
        "    y_train = y_train.reshape(420,1)\n",
        "    y_test = y_test.reshape(420,1)\n",
        "    return (x_train, y_train, x_test, y_test)\n",
        "\n",
        "(X_train, y_train, X_test, y_test) = load_data()\n",
        "print(X_train.shape)\n",
        "print(X_test.shape)\n",
        "print(y_train.shape)\n",
        "print(y_test.shape)"
      ],
      "execution_count": 0,
      "outputs": [
        {
          "output_type": "stream",
          "text": [
            "420\n",
            "(420, 4)\n",
            "(420, 4)\n",
            "(420, 1)\n",
            "(420, 1)\n"
          ],
          "name": "stdout"
        }
      ]
    },
    {
      "cell_type": "code",
      "metadata": {
        "id": "dBAeD4lkR_fs",
        "colab_type": "code",
        "colab": {}
      },
      "source": [
        "def adam_optimizer():\n",
        "    return adam(lr=0.0002, beta_1=0.5)"
      ],
      "execution_count": 0,
      "outputs": []
    },
    {
      "cell_type": "code",
      "metadata": {
        "id": "OEqzn4rCR_fw",
        "colab_type": "code",
        "outputId": "b2e7b40b-a13a-4de7-caf9-9cbf1d075fab",
        "colab": {
          "base_uri": "https://localhost:8080/",
          "height": 391
        }
      },
      "source": [
        "#create our generator\n",
        "def create_generator():\n",
        "    #layer on data manipulation\n",
        "    generator=Sequential()\n",
        "    generator.add(Dense(units=256,input_dim=100))\n",
        "    generator.add(LeakyReLU(0.2))\n",
        "    \n",
        "    generator.add(Dense(units=512))\n",
        "    generator.add(LeakyReLU(0.2))\n",
        "    \n",
        "    generator.add(Dense(units=1024))\n",
        "    generator.add(LeakyReLU(0.2))\n",
        "    #change units to what we need for dimension size of each array\n",
        "    generator.add(Dense(units=4, activation='tanh'))\n",
        "    \n",
        "    generator.compile(loss='binary_crossentropy', optimizer=adam_optimizer())\n",
        "    return generator\n",
        "g=create_generator()\n",
        "g.summary()"
      ],
      "execution_count": 0,
      "outputs": [
        {
          "output_type": "stream",
          "text": [
            "Model: \"sequential_29\"\n",
            "_________________________________________________________________\n",
            "Layer (type)                 Output Shape              Param #   \n",
            "=================================================================\n",
            "dense_113 (Dense)            (None, 256)               25856     \n",
            "_________________________________________________________________\n",
            "leaky_re_lu_85 (LeakyReLU)   (None, 256)               0         \n",
            "_________________________________________________________________\n",
            "dense_114 (Dense)            (None, 512)               131584    \n",
            "_________________________________________________________________\n",
            "leaky_re_lu_86 (LeakyReLU)   (None, 512)               0         \n",
            "_________________________________________________________________\n",
            "dense_115 (Dense)            (None, 1024)              525312    \n",
            "_________________________________________________________________\n",
            "leaky_re_lu_87 (LeakyReLU)   (None, 1024)              0         \n",
            "_________________________________________________________________\n",
            "dense_116 (Dense)            (None, 4)                 4100      \n",
            "=================================================================\n",
            "Total params: 686,852\n",
            "Trainable params: 686,852\n",
            "Non-trainable params: 0\n",
            "_________________________________________________________________\n"
          ],
          "name": "stdout"
        }
      ]
    },
    {
      "cell_type": "code",
      "metadata": {
        "id": "L9M_vfuBR_f2",
        "colab_type": "code",
        "outputId": "493caccc-2c02-4a9a-9ffe-df9677a9b429",
        "colab": {
          "base_uri": "https://localhost:8080/",
          "height": 459
        }
      },
      "source": [
        "def create_discriminator():\n",
        "    discriminator=Sequential()\n",
        "    discriminator.add(Dense(units=1024,input_dim=4))\n",
        "    discriminator.add(LeakyReLU(0.2))\n",
        "    discriminator.add(Dropout(0.3))\n",
        "       \n",
        "    \n",
        "    discriminator.add(Dense(units=512))\n",
        "    discriminator.add(LeakyReLU(0.2))\n",
        "    discriminator.add(Dropout(0.3))\n",
        "       \n",
        "    discriminator.add(Dense(units=256))\n",
        "    discriminator.add(LeakyReLU(0.2))\n",
        "    \n",
        "    discriminator.add(Dense(units=1, activation='sigmoid'))\n",
        "    \n",
        "    discriminator.compile(loss='binary_crossentropy', optimizer=adam_optimizer())\n",
        "    return discriminator\n",
        "d =create_discriminator()\n",
        "d.summary()"
      ],
      "execution_count": 0,
      "outputs": [
        {
          "output_type": "stream",
          "text": [
            "Model: \"sequential_30\"\n",
            "_________________________________________________________________\n",
            "Layer (type)                 Output Shape              Param #   \n",
            "=================================================================\n",
            "dense_117 (Dense)            (None, 1024)              5120      \n",
            "_________________________________________________________________\n",
            "leaky_re_lu_88 (LeakyReLU)   (None, 1024)              0         \n",
            "_________________________________________________________________\n",
            "dropout_29 (Dropout)         (None, 1024)              0         \n",
            "_________________________________________________________________\n",
            "dense_118 (Dense)            (None, 512)               524800    \n",
            "_________________________________________________________________\n",
            "leaky_re_lu_89 (LeakyReLU)   (None, 512)               0         \n",
            "_________________________________________________________________\n",
            "dropout_30 (Dropout)         (None, 512)               0         \n",
            "_________________________________________________________________\n",
            "dense_119 (Dense)            (None, 256)               131328    \n",
            "_________________________________________________________________\n",
            "leaky_re_lu_90 (LeakyReLU)   (None, 256)               0         \n",
            "_________________________________________________________________\n",
            "dense_120 (Dense)            (None, 1)                 257       \n",
            "=================================================================\n",
            "Total params: 661,505\n",
            "Trainable params: 661,505\n",
            "Non-trainable params: 0\n",
            "_________________________________________________________________\n"
          ],
          "name": "stdout"
        }
      ]
    },
    {
      "cell_type": "code",
      "metadata": {
        "id": "u5bnEFEcR_f8",
        "colab_type": "code",
        "colab": {}
      },
      "source": [
        "def create_gan(discriminator, generator):\n",
        "    discriminator.trainable=False\n",
        "    gan_input = Input(shape=(100,))\n",
        "    x = generator(gan_input)\n",
        "    gan_output= discriminator(x)\n",
        "    gan= Model(inputs=gan_input, outputs=gan_output)\n",
        "    gan.compile(loss='binary_crossentropy', optimizer='adam')\n",
        "    return gan"
      ],
      "execution_count": 0,
      "outputs": []
    },
    {
      "cell_type": "code",
      "metadata": {
        "id": "fc7hfoZLR_gB",
        "colab_type": "code",
        "outputId": "3c712f00-01a9-4936-e88c-3ab748a0f7c1",
        "colab": {
          "base_uri": "https://localhost:8080/",
          "height": 255
        }
      },
      "source": [
        "gan = create_gan(d,g)\n",
        "gan.summary()"
      ],
      "execution_count": 0,
      "outputs": [
        {
          "output_type": "stream",
          "text": [
            "Model: \"model_13\"\n",
            "_________________________________________________________________\n",
            "Layer (type)                 Output Shape              Param #   \n",
            "=================================================================\n",
            "input_13 (InputLayer)        (None, 100)               0         \n",
            "_________________________________________________________________\n",
            "sequential_29 (Sequential)   (None, 4)                 686852    \n",
            "_________________________________________________________________\n",
            "sequential_30 (Sequential)   (None, 1)                 661505    \n",
            "=================================================================\n",
            "Total params: 1,348,357\n",
            "Trainable params: 686,852\n",
            "Non-trainable params: 661,505\n",
            "_________________________________________________________________\n"
          ],
          "name": "stdout"
        }
      ]
    },
    {
      "cell_type": "code",
      "metadata": {
        "id": "40O0P4RcR_gG",
        "colab_type": "code",
        "colab": {}
      },
      "source": [
        "#potentially change this so we can view our images every 500 iteration -> no need to save\n",
        "def plot_generated_images(epoch, generator, examples=100, dim=(10,10), figsize=(10,10)):\n",
        "    noise= np.random.normal(loc=0, scale=1, size=[examples, 100])\n",
        "    generated_images = generator.predict(noise)\n",
        "    generated_images = generated_images.reshape(100,2,2)\n",
        "    plt.figure(figsize=figsize)\n",
        "    for i in range(generated_images.shape[0]):\n",
        "        plt.subplot(dim[0], dim[1], i+1)\n",
        "        plt.imshow(generated_images[i], interpolation='nearest')\n",
        "        plt.axis('off')\n",
        "    plt.tight_layout()\n",
        "    plt.savefig('gan_generated_image %d.png' %epoch)"
      ],
      "execution_count": 0,
      "outputs": []
    },
    {
      "cell_type": "code",
      "metadata": {
        "id": "WFL8YGThR_gL",
        "colab_type": "code",
        "outputId": "28868905-308a-4a45-c777-72ebf5763503",
        "colab": {
          "base_uri": "https://localhost:8080/",
          "height": 1000
        }
      },
      "source": [
        "def training(epochs=1, batch_size=128):\n",
        "    \n",
        "    #Loading the data\n",
        "    (X_train, y_train, X_test, y_test) = load_data()\n",
        "    batch_count = X_train.shape[0] / batch_size\n",
        "    \n",
        "    # Creating GAN\n",
        "    generator= create_generator()\n",
        "    discriminator= create_discriminator()\n",
        "    gan = create_gan(discriminator, generator)\n",
        "    \n",
        "    for e in range(1,epochs+1 ):\n",
        "        print(\"Epoch %d\" %e)\n",
        "        for _ in tqdm(range(batch_size)):\n",
        "        #generate  random noise as an input  to  initialize the  generator\n",
        "            noise= np.random.normal(0,1, [batch_size, 100])\n",
        "            \n",
        "            # Generate fake MNIST images from noised input\n",
        "            generated_images = generator.predict(noise)\n",
        "            \n",
        "            # Get a random set of  real images\n",
        "            image_batch =X_train[np.random.randint(low=0,high=X_train.shape[0],size=batch_size)]\n",
        "            \n",
        "            #Construct different batches of  real and fake data \n",
        "            X= np.concatenate([image_batch, generated_images])\n",
        "            \n",
        "            # Labels for generated and real data\n",
        "            y_dis=np.zeros(2*batch_size)\n",
        "            y_dis[:batch_size]=0.9\n",
        "            \n",
        "            #Pre train discriminator on  fake and real data  before starting the gan. \n",
        "            discriminator.trainable=True\n",
        "            discriminator.train_on_batch(X, y_dis)\n",
        "            \n",
        "            #Tricking the noised input of the Generator as real data\n",
        "            noise= np.random.normal(0,1, [batch_size, 100])\n",
        "            y_gen = np.ones(batch_size)\n",
        "            \n",
        "            # During the training of gan, \n",
        "            # the weights of discriminator should be fixed. \n",
        "            #We can enforce that by setting the trainable flag\n",
        "            discriminator.trainable=False\n",
        "            \n",
        "            #training  the GAN by alternating the training of the Discriminator \n",
        "            #and training the chained GAN model with Discriminator’s weights freezed.\n",
        "            gan.train_on_batch(noise, y_gen)\n",
        "            \n",
        "        if e == 1 or e % 500 == 0:#will show progression every 500 iterations\n",
        "           \n",
        "            plot_generated_images(e, generator)\n",
        "training(400,128)"
      ],
      "execution_count": 0,
      "outputs": [
        {
          "output_type": "stream",
          "text": [
            "420\n"
          ],
          "name": "stdout"
        },
        {
          "output_type": "stream",
          "text": [
            "\r  0%|          | 0/128 [00:00<?, ?it/s]"
          ],
          "name": "stderr"
        },
        {
          "output_type": "stream",
          "text": [
            "Epoch 1\n"
          ],
          "name": "stdout"
        },
        {
          "output_type": "stream",
          "text": [
            "100%|██████████| 128/128 [00:09<00:00, 13.63it/s]\n",
            "  3%|▎         | 4/128 [00:00<00:03, 38.24it/s]"
          ],
          "name": "stderr"
        },
        {
          "output_type": "stream",
          "text": [
            "Epoch 2\n"
          ],
          "name": "stdout"
        },
        {
          "output_type": "stream",
          "text": [
            "100%|██████████| 128/128 [00:03<00:00, 41.14it/s]\n",
            "  4%|▍         | 5/128 [00:00<00:03, 40.47it/s]"
          ],
          "name": "stderr"
        },
        {
          "output_type": "stream",
          "text": [
            "Epoch 3\n"
          ],
          "name": "stdout"
        },
        {
          "output_type": "stream",
          "text": [
            "100%|██████████| 128/128 [00:03<00:00, 41.14it/s]\n",
            "  4%|▍         | 5/128 [00:00<00:02, 44.33it/s]"
          ],
          "name": "stderr"
        },
        {
          "output_type": "stream",
          "text": [
            "Epoch 4\n"
          ],
          "name": "stdout"
        },
        {
          "output_type": "stream",
          "text": [
            "100%|██████████| 128/128 [00:03<00:00, 40.91it/s]\n",
            "  4%|▍         | 5/128 [00:00<00:03, 40.97it/s]"
          ],
          "name": "stderr"
        },
        {
          "output_type": "stream",
          "text": [
            "Epoch 5\n"
          ],
          "name": "stdout"
        },
        {
          "output_type": "stream",
          "text": [
            "100%|██████████| 128/128 [00:03<00:00, 41.63it/s]\n",
            "  4%|▍         | 5/128 [00:00<00:03, 40.34it/s]"
          ],
          "name": "stderr"
        },
        {
          "output_type": "stream",
          "text": [
            "Epoch 6\n"
          ],
          "name": "stdout"
        },
        {
          "output_type": "stream",
          "text": [
            "100%|██████████| 128/128 [00:03<00:00, 42.39it/s]\n",
            "  4%|▍         | 5/128 [00:00<00:03, 40.75it/s]"
          ],
          "name": "stderr"
        },
        {
          "output_type": "stream",
          "text": [
            "Epoch 7\n"
          ],
          "name": "stdout"
        },
        {
          "output_type": "stream",
          "text": [
            "100%|██████████| 128/128 [00:03<00:00, 40.85it/s]\n",
            "  4%|▍         | 5/128 [00:00<00:03, 39.66it/s]"
          ],
          "name": "stderr"
        },
        {
          "output_type": "stream",
          "text": [
            "Epoch 8\n"
          ],
          "name": "stdout"
        },
        {
          "output_type": "stream",
          "text": [
            "100%|██████████| 128/128 [00:03<00:00, 42.13it/s]\n",
            "  3%|▎         | 4/128 [00:00<00:03, 39.53it/s]"
          ],
          "name": "stderr"
        },
        {
          "output_type": "stream",
          "text": [
            "Epoch 9\n"
          ],
          "name": "stdout"
        },
        {
          "output_type": "stream",
          "text": [
            "100%|██████████| 128/128 [00:03<00:00, 42.63it/s]\n",
            "  4%|▍         | 5/128 [00:00<00:02, 41.82it/s]"
          ],
          "name": "stderr"
        },
        {
          "output_type": "stream",
          "text": [
            "Epoch 10\n"
          ],
          "name": "stdout"
        },
        {
          "output_type": "stream",
          "text": [
            "100%|██████████| 128/128 [00:03<00:00, 40.91it/s]\n",
            "  3%|▎         | 4/128 [00:00<00:03, 38.06it/s]"
          ],
          "name": "stderr"
        },
        {
          "output_type": "stream",
          "text": [
            "Epoch 11\n"
          ],
          "name": "stdout"
        },
        {
          "output_type": "stream",
          "text": [
            "100%|██████████| 128/128 [00:03<00:00, 41.12it/s]\n",
            "  4%|▍         | 5/128 [00:00<00:02, 42.56it/s]"
          ],
          "name": "stderr"
        },
        {
          "output_type": "stream",
          "text": [
            "Epoch 12\n"
          ],
          "name": "stdout"
        },
        {
          "output_type": "stream",
          "text": [
            "100%|██████████| 128/128 [00:03<00:00, 41.43it/s]\n",
            "  4%|▍         | 5/128 [00:00<00:02, 43.89it/s]"
          ],
          "name": "stderr"
        },
        {
          "output_type": "stream",
          "text": [
            "Epoch 13\n"
          ],
          "name": "stdout"
        },
        {
          "output_type": "stream",
          "text": [
            "100%|██████████| 128/128 [00:03<00:00, 41.58it/s]\n",
            "  4%|▍         | 5/128 [00:00<00:02, 41.30it/s]"
          ],
          "name": "stderr"
        },
        {
          "output_type": "stream",
          "text": [
            "Epoch 14\n"
          ],
          "name": "stdout"
        },
        {
          "output_type": "stream",
          "text": [
            "100%|██████████| 128/128 [00:03<00:00, 41.02it/s]\n",
            "  4%|▍         | 5/128 [00:00<00:03, 40.19it/s]"
          ],
          "name": "stderr"
        },
        {
          "output_type": "stream",
          "text": [
            "Epoch 15\n"
          ],
          "name": "stdout"
        },
        {
          "output_type": "stream",
          "text": [
            "100%|██████████| 128/128 [00:03<00:00, 39.17it/s]\n",
            "  3%|▎         | 4/128 [00:00<00:03, 39.91it/s]"
          ],
          "name": "stderr"
        },
        {
          "output_type": "stream",
          "text": [
            "Epoch 16\n"
          ],
          "name": "stdout"
        },
        {
          "output_type": "stream",
          "text": [
            "100%|██████████| 128/128 [00:03<00:00, 38.46it/s]\n",
            "  3%|▎         | 4/128 [00:00<00:03, 34.30it/s]"
          ],
          "name": "stderr"
        },
        {
          "output_type": "stream",
          "text": [
            "Epoch 17\n"
          ],
          "name": "stdout"
        },
        {
          "output_type": "stream",
          "text": [
            "100%|██████████| 128/128 [00:03<00:00, 36.69it/s]\n",
            "  3%|▎         | 4/128 [00:00<00:04, 30.85it/s]"
          ],
          "name": "stderr"
        },
        {
          "output_type": "stream",
          "text": [
            "Epoch 18\n"
          ],
          "name": "stdout"
        },
        {
          "output_type": "stream",
          "text": [
            "100%|██████████| 128/128 [00:03<00:00, 37.82it/s]\n",
            "  4%|▍         | 5/128 [00:00<00:02, 42.20it/s]"
          ],
          "name": "stderr"
        },
        {
          "output_type": "stream",
          "text": [
            "Epoch 19\n"
          ],
          "name": "stdout"
        },
        {
          "output_type": "stream",
          "text": [
            "100%|██████████| 128/128 [00:03<00:00, 36.78it/s]\n",
            "  4%|▍         | 5/128 [00:00<00:03, 38.99it/s]"
          ],
          "name": "stderr"
        },
        {
          "output_type": "stream",
          "text": [
            "Epoch 20\n"
          ],
          "name": "stdout"
        },
        {
          "output_type": "stream",
          "text": [
            "100%|██████████| 128/128 [00:03<00:00, 35.40it/s]\n",
            "  4%|▍         | 5/128 [00:00<00:02, 41.29it/s]"
          ],
          "name": "stderr"
        },
        {
          "output_type": "stream",
          "text": [
            "Epoch 21\n"
          ],
          "name": "stdout"
        },
        {
          "output_type": "stream",
          "text": [
            "100%|██████████| 128/128 [00:03<00:00, 36.14it/s]\n",
            "  4%|▍         | 5/128 [00:00<00:02, 42.53it/s]"
          ],
          "name": "stderr"
        },
        {
          "output_type": "stream",
          "text": [
            "Epoch 22\n"
          ],
          "name": "stdout"
        },
        {
          "output_type": "stream",
          "text": [
            "100%|██████████| 128/128 [00:03<00:00, 37.07it/s]\n",
            "  3%|▎         | 4/128 [00:00<00:03, 37.33it/s]"
          ],
          "name": "stderr"
        },
        {
          "output_type": "stream",
          "text": [
            "Epoch 23\n"
          ],
          "name": "stdout"
        },
        {
          "output_type": "stream",
          "text": [
            "100%|██████████| 128/128 [00:03<00:00, 36.76it/s]\n",
            "  3%|▎         | 4/128 [00:00<00:03, 33.96it/s]"
          ],
          "name": "stderr"
        },
        {
          "output_type": "stream",
          "text": [
            "Epoch 24\n"
          ],
          "name": "stdout"
        },
        {
          "output_type": "stream",
          "text": [
            "100%|██████████| 128/128 [00:03<00:00, 38.37it/s]\n",
            "  4%|▍         | 5/128 [00:00<00:03, 39.38it/s]"
          ],
          "name": "stderr"
        },
        {
          "output_type": "stream",
          "text": [
            "Epoch 25\n"
          ],
          "name": "stdout"
        },
        {
          "output_type": "stream",
          "text": [
            "100%|██████████| 128/128 [00:03<00:00, 37.22it/s]\n",
            "  3%|▎         | 4/128 [00:00<00:03, 39.52it/s]"
          ],
          "name": "stderr"
        },
        {
          "output_type": "stream",
          "text": [
            "Epoch 26\n"
          ],
          "name": "stdout"
        },
        {
          "output_type": "stream",
          "text": [
            "100%|██████████| 128/128 [00:03<00:00, 37.47it/s]\n",
            "  3%|▎         | 4/128 [00:00<00:03, 37.41it/s]"
          ],
          "name": "stderr"
        },
        {
          "output_type": "stream",
          "text": [
            "Epoch 27\n"
          ],
          "name": "stdout"
        },
        {
          "output_type": "stream",
          "text": [
            "100%|██████████| 128/128 [00:03<00:00, 38.41it/s]\n",
            "  3%|▎         | 4/128 [00:00<00:03, 37.99it/s]"
          ],
          "name": "stderr"
        },
        {
          "output_type": "stream",
          "text": [
            "Epoch 28\n"
          ],
          "name": "stdout"
        },
        {
          "output_type": "stream",
          "text": [
            "100%|██████████| 128/128 [00:03<00:00, 37.80it/s]\n",
            "  3%|▎         | 4/128 [00:00<00:03, 35.36it/s]"
          ],
          "name": "stderr"
        },
        {
          "output_type": "stream",
          "text": [
            "Epoch 29\n"
          ],
          "name": "stdout"
        },
        {
          "output_type": "stream",
          "text": [
            "100%|██████████| 128/128 [00:03<00:00, 37.74it/s]\n",
            "  3%|▎         | 4/128 [00:00<00:03, 33.78it/s]"
          ],
          "name": "stderr"
        },
        {
          "output_type": "stream",
          "text": [
            "Epoch 30\n"
          ],
          "name": "stdout"
        },
        {
          "output_type": "stream",
          "text": [
            "100%|██████████| 128/128 [00:03<00:00, 38.35it/s]\n",
            "  4%|▍         | 5/128 [00:00<00:02, 42.10it/s]"
          ],
          "name": "stderr"
        },
        {
          "output_type": "stream",
          "text": [
            "Epoch 31\n"
          ],
          "name": "stdout"
        },
        {
          "output_type": "stream",
          "text": [
            "100%|██████████| 128/128 [00:03<00:00, 37.69it/s]\n",
            "  4%|▍         | 5/128 [00:00<00:02, 41.59it/s]"
          ],
          "name": "stderr"
        },
        {
          "output_type": "stream",
          "text": [
            "Epoch 32\n"
          ],
          "name": "stdout"
        },
        {
          "output_type": "stream",
          "text": [
            "100%|██████████| 128/128 [00:03<00:00, 36.46it/s]\n",
            "  2%|▏         | 3/128 [00:00<00:04, 29.22it/s]"
          ],
          "name": "stderr"
        },
        {
          "output_type": "stream",
          "text": [
            "Epoch 33\n"
          ],
          "name": "stdout"
        },
        {
          "output_type": "stream",
          "text": [
            "100%|██████████| 128/128 [00:03<00:00, 37.79it/s]\n",
            "  4%|▍         | 5/128 [00:00<00:02, 42.01it/s]"
          ],
          "name": "stderr"
        },
        {
          "output_type": "stream",
          "text": [
            "Epoch 34\n"
          ],
          "name": "stdout"
        },
        {
          "output_type": "stream",
          "text": [
            "100%|██████████| 128/128 [00:03<00:00, 37.80it/s]\n",
            "  4%|▍         | 5/128 [00:00<00:03, 40.04it/s]"
          ],
          "name": "stderr"
        },
        {
          "output_type": "stream",
          "text": [
            "Epoch 35\n"
          ],
          "name": "stdout"
        },
        {
          "output_type": "stream",
          "text": [
            "100%|██████████| 128/128 [00:03<00:00, 38.12it/s]\n",
            "  3%|▎         | 4/128 [00:00<00:03, 32.11it/s]"
          ],
          "name": "stderr"
        },
        {
          "output_type": "stream",
          "text": [
            "Epoch 36\n"
          ],
          "name": "stdout"
        },
        {
          "output_type": "stream",
          "text": [
            "100%|██████████| 128/128 [00:03<00:00, 38.18it/s]\n",
            "  4%|▍         | 5/128 [00:00<00:02, 43.16it/s]"
          ],
          "name": "stderr"
        },
        {
          "output_type": "stream",
          "text": [
            "Epoch 37\n"
          ],
          "name": "stdout"
        },
        {
          "output_type": "stream",
          "text": [
            "100%|██████████| 128/128 [00:03<00:00, 38.07it/s]\n",
            "  3%|▎         | 4/128 [00:00<00:03, 33.23it/s]"
          ],
          "name": "stderr"
        },
        {
          "output_type": "stream",
          "text": [
            "Epoch 38\n"
          ],
          "name": "stdout"
        },
        {
          "output_type": "stream",
          "text": [
            "100%|██████████| 128/128 [00:03<00:00, 37.86it/s]\n",
            "  3%|▎         | 4/128 [00:00<00:03, 37.57it/s]"
          ],
          "name": "stderr"
        },
        {
          "output_type": "stream",
          "text": [
            "Epoch 39\n"
          ],
          "name": "stdout"
        },
        {
          "output_type": "stream",
          "text": [
            "100%|██████████| 128/128 [00:03<00:00, 37.69it/s]\n",
            "  4%|▍         | 5/128 [00:00<00:02, 44.85it/s]"
          ],
          "name": "stderr"
        },
        {
          "output_type": "stream",
          "text": [
            "Epoch 40\n"
          ],
          "name": "stdout"
        },
        {
          "output_type": "stream",
          "text": [
            "100%|██████████| 128/128 [00:03<00:00, 38.15it/s]\n",
            "  3%|▎         | 4/128 [00:00<00:03, 34.23it/s]"
          ],
          "name": "stderr"
        },
        {
          "output_type": "stream",
          "text": [
            "Epoch 41\n"
          ],
          "name": "stdout"
        },
        {
          "output_type": "stream",
          "text": [
            "100%|██████████| 128/128 [00:03<00:00, 37.47it/s]\n",
            "  4%|▍         | 5/128 [00:00<00:03, 40.64it/s]"
          ],
          "name": "stderr"
        },
        {
          "output_type": "stream",
          "text": [
            "Epoch 42\n"
          ],
          "name": "stdout"
        },
        {
          "output_type": "stream",
          "text": [
            " 48%|████▊     | 62/128 [00:01<00:01, 39.52it/s]"
          ],
          "name": "stderr"
        }
      ]
    },
    {
      "cell_type": "code",
      "metadata": {
        "id": "Wae1Utc1R_gR",
        "colab_type": "code",
        "outputId": "a0c49bd5-8e89-4a9b-b938-9f0b1485637f",
        "colab": {
          "base_uri": "https://localhost:8080/",
          "height": 381
        }
      },
      "source": [
        "from IPython.display import Image\n",
        "from IPython.core.display import HTML \n",
        "Image(url=\"https://i.ytimg.com/vi/W1-9MkwwP2k/hqdefault.jpg\")"
      ],
      "execution_count": 0,
      "outputs": [
        {
          "output_type": "execute_result",
          "data": {
            "text/html": [
              "<img src=\"https://i.ytimg.com/vi/W1-9MkwwP2k/hqdefault.jpg\"/>"
            ],
            "text/plain": [
              "<IPython.core.display.Image object>"
            ]
          },
          "metadata": {
            "tags": []
          },
          "execution_count": 1
        }
      ]
    },
    {
      "cell_type": "code",
      "metadata": {
        "id": "7SF22KiBI4mV",
        "colab_type": "code",
        "outputId": "4c7fbb2c-5d15-4552-acb4-918dabba8319",
        "colab": {
          "base_uri": "https://localhost:8080/",
          "height": 34
        }
      },
      "source": [
        "!ls\n"
      ],
      "execution_count": 0,
      "outputs": [
        {
          "output_type": "stream",
          "text": [
            "sample_data\n"
          ],
          "name": "stdout"
        }
      ]
    }
  ]
}